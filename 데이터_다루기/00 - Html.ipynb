{
 "cells": [
  {
   "cell_type": "markdown",
   "id": "ad66a429",
   "metadata": {},
   "source": [
    "<mark>하이라이트</mark>  \n",
    "\n",
    "*<mark>하이라이트</mark>*\n",
    "\n",
    "**<mark>하이라이트</mark>**"
   ]
  },
  {
   "cell_type": "markdown",
   "id": "4db78fb5",
   "metadata": {},
   "source": [
    "인용구\n",
    "> 인용구\n",
    ">> 인용구"
   ]
  },
  {
   "cell_type": "markdown",
   "id": "0bd794b6",
   "metadata": {},
   "source": [
    "줄 바꾸기  \n",
    "줄 바꾸기  \n",
    "줄 바꾸기"
   ]
  }
 ],
 "metadata": {
  "kernelspec": {
   "display_name": "Python 3 (ipykernel)",
   "language": "python",
   "name": "python3"
  },
  "language_info": {
   "codemirror_mode": {
    "name": "ipython",
    "version": 3
   },
   "file_extension": ".py",
   "mimetype": "text/x-python",
   "name": "python",
   "nbconvert_exporter": "python",
   "pygments_lexer": "ipython3",
   "version": "3.11.4"
  }
 },
 "nbformat": 4,
 "nbformat_minor": 5
}
