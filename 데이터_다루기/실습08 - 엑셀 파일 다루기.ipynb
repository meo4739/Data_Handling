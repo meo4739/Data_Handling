{
 "cells": [
  {
   "cell_type": "markdown",
   "id": "a6662e55",
   "metadata": {
    "id": "a6662e55"
   },
   "source": [
    "<center><img src='https://raw.githubusercontent.com/Jangrae/img/master/title3.png' width=500/></center>"
   ]
  },
  {
   "cell_type": "markdown",
   "id": "29887f51",
   "metadata": {},
   "source": [
    "<center><img src='https://raw.githubusercontent.com/Jangrae/img/master/practice.png' width=300/></center>"
   ]
  },
  {
   "cell_type": "markdown",
   "id": "a16b2654",
   "metadata": {
    "id": "a16b2654"
   },
   "source": [
    "# 실습 #1: 엑셀 파일 다루기 (1)"
   ]
  },
  {
   "cell_type": "markdown",
   "id": "80085550",
   "metadata": {
    "id": "80085550"
   },
   "source": [
    "1) Fruit.xlsx 파일을 열어 시트 이름을 확인하세요."
   ]
  },
  {
   "cell_type": "code",
   "execution_count": 5,
   "id": "f250c4bc",
   "metadata": {
    "id": "f250c4bc",
    "outputId": "148b9817-ee74-49a1-ed40-ff33e63165c1",
    "tags": []
   },
   "outputs": [
    {
     "data": {
      "text/plain": [
       "['Sheet1', 'Sheet2']"
      ]
     },
     "execution_count": 5,
     "metadata": {},
     "output_type": "execute_result"
    }
   ],
   "source": [
    "# 라이브러 불러오기\n",
    "import openpyxl as xl\n",
    "wb = xl.load_workbook('Fruit.xlsx')\n",
    "wb.sheetnames"
   ]
  },
  {
   "cell_type": "markdown",
   "id": "a5c162ea",
   "metadata": {
    "id": "a5c162ea"
   },
   "source": [
    "2) 셀 이름으로 Sheet2 시트의 A1, A2, A3 셀 값을 확인하세요."
   ]
  },
  {
   "cell_type": "code",
   "execution_count": 142,
   "id": "7415a66b",
   "metadata": {
    "id": "7415a66b",
    "outputId": "e7d48875-65d4-4aeb-ab83-047432548516",
    "tags": []
   },
   "outputs": [
    {
     "name": "stdout",
     "output_type": "stream",
     "text": [
      "Apple\n",
      "Banana\n",
      "Melon\n"
     ]
    }
   ],
   "source": [
    "# 라이브러 불러오기\n",
    "import openpyxl as xl\n",
    "wb = xl.load_workbook('Fruit.xlsx')\n",
    "sheet2 = wb['Sheet2']\n",
    "\n",
    "print(sheet2['A1'].value)\n",
    "print(sheet2['A2'].value)\n",
    "print(sheet2['A3'].value)\n"
   ]
  },
  {
   "cell_type": "markdown",
   "id": "e4b3ee68",
   "metadata": {
    "id": "e4b3ee68"
   },
   "source": [
    "3) cell(행, 열).value 구문을 사용해 (1,1), (1,2), (2,1), (2,2) 셀을 다음과 같이 표시되게 확인하세요.\n",
    "\n",
    "        Apple red\n",
    "        Banana yellow"
   ]
  },
  {
   "cell_type": "code",
   "execution_count": 145,
   "id": "1cb680c4",
   "metadata": {
    "id": "1cb680c4",
    "outputId": "9e4e6a40-a107-4c21-875c-3826968f6a2e",
    "tags": []
   },
   "outputs": [
    {
     "name": "stdout",
     "output_type": "stream",
     "text": [
      "Apple red\n",
      "Banana yellow\n"
     ]
    }
   ],
   "source": [
    "# 행과 열 번호로 셀 값 확인\n",
    "# print(sheet2.cell(row=1, column=1).value, sheet2.cell(row=1, column=2).value)\n",
    "# print(sheet2.cell(row=2, column=1).value, sheet2.cell(row=2, column=2).value)\n",
    "\n",
    "wb = xl.load_workbook('Fruit.xlsx')\n",
    "wb.sheetnames\n",
    "sheet2 = wb['Sheet2']\n",
    "\n",
    "print(sheet2.cell(1,1).value, sheet2.cell(1,2).value)\n",
    "print(sheet2.cell(2,1).value, sheet2.cell(2,2).value)\n"
   ]
  },
  {
   "cell_type": "markdown",
   "id": "78dacce5",
   "metadata": {
    "id": "78dacce5"
   },
   "source": [
    "4) Sheet2 시트의 데이터 시작과 끝의 행, 열 번호를 확인해 보세요."
   ]
  },
  {
   "cell_type": "code",
   "execution_count": 29,
   "id": "5c4b27b6",
   "metadata": {
    "id": "5c4b27b6",
    "outputId": "c9699393-5d22-40b2-ad33-9ffa103132f7",
    "tags": []
   },
   "outputs": [
    {
     "name": "stdout",
     "output_type": "stream",
     "text": [
      "1 1\n",
      "1 1\n"
     ]
    }
   ],
   "source": [
    "# 데이터 영역 확인\n",
    "print(sheet2.min_row, sheet2.max_row)        # 시작 행, 끝 행\n",
    "print(sheet2.min_column, sheet2.max_column)  # 시작 열, 끝 열\n"
   ]
  },
  {
   "cell_type": "markdown",
   "id": "fa936313",
   "metadata": {
    "id": "fa936313"
   },
   "source": [
    "5) Sheet2 시트 첫 행의 Apple을 Pineapple로, red를 yellow로 수정해 보세요(단, 저장하지 마세요)."
   ]
  },
  {
   "cell_type": "code",
   "execution_count": 23,
   "id": "8be0b61c",
   "metadata": {
    "id": "8be0b61c",
    "tags": []
   },
   "outputs": [
    {
     "name": "stdout",
     "output_type": "stream",
     "text": [
      "Pineapple\n",
      "yellow\n"
     ]
    }
   ],
   "source": [
    "# Apple --> Pineapple 변경\n",
    "# sheet1.cell(row=1, column=1).value = 'Pineapple'\n",
    "sheet2['A1'].value = 'Pineapple'\n",
    "sheet2['B1'].value = 'yellow'\n",
    "\n",
    "print(sheet2['A1'].value)\n",
    "print(sheet2['B1'].value)\n"
   ]
  },
  {
   "cell_type": "markdown",
   "id": "13532b14",
   "metadata": {
    "id": "13532b14"
   },
   "source": [
    "6) 마지막 행에 'Orange', 'orange' 를 추가해 보세요(단, 저장하지 마세요)."
   ]
  },
  {
   "cell_type": "code",
   "execution_count": 146,
   "id": "0cd059ef",
   "metadata": {
    "id": "0cd059ef",
    "tags": []
   },
   "outputs": [
    {
     "name": "stdout",
     "output_type": "stream",
     "text": [
      "Apple\n",
      "Banana\n",
      "Melon\n",
      "Orange\n",
      "orange\n"
     ]
    }
   ],
   "source": [
    "# # 엑셀 파일 열기\n",
    "# wb = xl.load_workbook(\"Fruit.xlsx\")\n",
    "# sheet2 = wb['Sheet2']\n",
    "# print(sheet2.min_row, sheet2.max_row)        # 시작 행, 끝 행\n",
    "# print(sheet2.min_column, sheet2.max_column)  # 시작 열, 끝 열\n",
    "# print(sheet2['A1'].value)\n",
    "# print(sheet2['A2'].value)\n",
    "# print(sheet2['A3'].value)\n",
    "\n",
    "# print(sheet2.min_row, sheet2.max_row)        # 시작 행, 끝 행\n",
    "# print(sheet2.min_column, sheet2.max_column)  # 시작 열, 끝 열\n",
    "\n",
    "# print(sheet2.max_row)\n",
    "# sheet2.insert_rows(sheet2.max_row+1)\n",
    "# sheet2.cell(row=4,column=1).value='Orange'       # 시작 행, 끝 행\n",
    "\n",
    "# print(sheet2['A1'].value)\n",
    "# print(sheet2['A2'].value)\n",
    "# print(sheet2['A3'].value)\n",
    "# print(sheet2['A4'].value)\n",
    "# print()\n",
    "\n",
    "# sheet2.insert_rows(sheet2.max_row+1) \n",
    "# sheet2.cell(row=sheet2.max_row+1,column=1).value='orange'       # 시작 행, 끝 행\n",
    "\n",
    "# print(sheet2['A1'].value)\n",
    "# print(sheet2['A2'].value)\n",
    "# print(sheet2['A3'].value)\n",
    "# print(sheet2['A4'].value)\n",
    "# print(sheet2['A5'].value)\n",
    "\n",
    "\n",
    "\n",
    "# 엑셀 파일 열기\n",
    "wb = xl.load_workbook(\"Fruit.xlsx\")\n",
    "sheet2 = wb['Sheet2']\n",
    "\n",
    "sheet2.insert_rows(sheet2.max_row+1)\n",
    "sheet2.cell(row=4,column=1).value='Orange'       # 시작 행, 끝 행\n",
    "\n",
    "sheet2.insert_rows(sheet2.max_row+1) \n",
    "sheet2.cell(row=sheet2.max_row,column=2).value='orange'       # 시작 행, 끝 행\n",
    "\n",
    "print(sheet2['A1'].value)\n",
    "print(sheet2['A2'].value)\n",
    "print(sheet2['A3'].value)\n",
    "print(sheet2['A4'].value)\n",
    "print(sheet2['B4'].value)"
   ]
  },
  {
   "cell_type": "code",
   "execution_count": 148,
   "id": "950bcf3c-3cd0-4744-a483-0b115d8e1eee",
   "metadata": {
    "tags": []
   },
   "outputs": [
    {
     "name": "stdout",
     "output_type": "stream",
     "text": [
      "Apple\n",
      "Banana\n",
      "Melon\n",
      "Orange\n",
      "orange\n"
     ]
    }
   ],
   "source": [
    "wb = xl.load_workbook(\"Fruit.xlsx\")\n",
    "sheet2 = wb['Sheet2']\n",
    "\n",
    "\n",
    "sheet2.cell(row=sheet2.max_row+1,column=1).value='Orange'       # 시작 행, 끝 행\n",
    "sheet2.cell(row=sheet2.max_row,column=2).value='orange'       # 시작 행, 끝 행\n",
    "\n",
    "print(sheet2['A1'].value)\n",
    "print(sheet2['A2'].value)\n",
    "print(sheet2['A3'].value)\n",
    "print(sheet2['A4'].value)\n",
    "print(sheet2['B4'].value)"
   ]
  },
  {
   "cell_type": "markdown",
   "id": "01ca501e",
   "metadata": {
    "id": "01ca501e"
   },
   "source": [
    "7) Fruit2.xlsx 이름으로 저장하고 엑셀로 파일을 열어 내용을 확인하세요."
   ]
  },
  {
   "cell_type": "code",
   "execution_count": 130,
   "id": "250bd2bc",
   "metadata": {
    "id": "250bd2bc",
    "tags": []
   },
   "outputs": [],
   "source": [
    "wb.save('Fruit2.xlsx')\n",
    "\n",
    "\n"
   ]
  },
  {
   "cell_type": "markdown",
   "id": "XT0cWVimafCb",
   "metadata": {
    "id": "XT0cWVimafCb"
   },
   "source": [
    "# 실습 #2: 엑셀 파일 다루기 (2)"
   ]
  },
  {
   "cell_type": "markdown",
   "id": "76432a73",
   "metadata": {
    "id": "76432a73"
   },
   "source": [
    "1) 다음 과일과 색깔을 반복문을 사용해 추가하고 Fruit4.xlsx 파일로 저장하세요.\n",
    "- Strawberry, red\n",
    "- Grape, purple\n",
    "- Kiwi, green "
   ]
  },
  {
   "cell_type": "code",
   "execution_count": 149,
   "id": "4a7366a0",
   "metadata": {
    "id": "4a7366a0",
    "tags": []
   },
   "outputs": [
    {
     "name": "stdout",
     "output_type": "stream",
     "text": [
      "Apple\n",
      "Banana\n",
      "Melon\n",
      "Orange\n",
      "Strawberry\n",
      "Grape\n"
     ]
    }
   ],
   "source": [
    "# # 엑셀 파일 열기\n",
    "# wb = xl.load_workbook(\"Fruit.xlsx\")\n",
    "# sheet2 = wb['Sheet2']\n",
    "\n",
    "\n",
    "# print(sheet2['A1'].value)\n",
    "# print(sheet2['A2'].value)\n",
    "# print(sheet2['A3'].value)\n",
    "# print()\n",
    "\n",
    "# sheet2.insert_rows(sheet2.max_row+1)\n",
    "# sheet2.cell(row= sheet2.max_row+1,column=1).value='Strawberry'       # 시작 행, 끝 행\n",
    "# sheet2.cell(row= sheet2.max_row,column=2).value='red'       # 시작 행, 끝 행\n",
    "\n",
    "\n",
    "# print(sheet2['A1'].value)\n",
    "# print(sheet2['B1'].value)\n",
    "# print(sheet2['A2'].value)\n",
    "# print(sheet2['B2'].value)\n",
    "# print(sheet2['A3'].value)\n",
    "# print(sheet2['B3'].value)\n",
    "# print(sheet2['A4'].value)\n",
    "# print(sheet2['B4'].value)\n",
    "# print()\n",
    "\n",
    "\n",
    "# sheet2.insert_rows(sheet2.max_row+1) \n",
    "# sheet2.cell(row=sheet2.max_row+1,column=1).value='Grape'       # 시작 행, 끝 행\n",
    "# sheet2.cell(row=sheet2.max_row,column=2).value='purple'       # 시작 행, 끝 행\n",
    "\n",
    "# # print(sheet2['A1'].value)\n",
    "# # print(sheet2['A2'].value)\n",
    "# # print(sheet2['A3'].value)\n",
    "# # print(sheet2['A4'].value)\n",
    "# # print(sheet2['A5'].value)\n",
    "# # print()\n",
    "\n",
    "# sheet2.insert_rows(sheet2.max_row+1) \n",
    "# sheet2.cell(row=sheet2.max_row+1,column=1).value='Kiwi'       # 시작 행, 끝 행\n",
    "# sheet2.cell(row=sheet2.max_row,column=2).value='green'       # 시작 행, 끝 행\n",
    "\n",
    "\n",
    "# print(sheet2['A1'].value)\n",
    "# print(sheet2['A2'].value)\n",
    "# print(sheet2['A3'].value)\n",
    "# print(sheet2['A4'].value)\n",
    "# print(sheet2['A5'].value)\n",
    "# print(sheet2['A6'].value)\n",
    "\n",
    "# wb.save('Fruit4.xlsx')\n",
    "\n",
    "\n",
    "##\n",
    "# 엑셀 파일 열기\n",
    "wb = xl.load_workbook(\"Fruit2.xlsx\")\n",
    "sheet2 = wb['Sheet2']\n",
    "\n",
    "\n",
    "\n",
    "sheet2.insert_rows(sheet2.max_row+1)\n",
    "sheet2.cell(row= sheet2.max_row+1,column=1).value='Strawberry'       # 시작 행, 끝 행\n",
    "sheet2.cell(row= sheet2.max_row,column=2).value='red'       # 시작 행, 끝 행\n",
    "\n",
    "\n",
    "sheet2.insert_rows(sheet2.max_row+1) \n",
    "sheet2.cell(row=sheet2.max_row+1,column=1).value='Grape'       # 시작 행, 끝 행\n",
    "sheet2.cell(row=sheet2.max_row,column=2).value='purple'       # 시작 행, 끝 행\n",
    "\n",
    "\n",
    "sheet2.insert_rows(sheet2.max_row+1) \n",
    "sheet2.cell(row=sheet2.max_row+1,column=1).value='Kiwi'       # 시작 행, 끝 행\n",
    "sheet2.cell(row=sheet2.max_row,column=2).value='green'       # 시작 행, 끝 행\n",
    "\n",
    "\n",
    "print(sheet2['A1'].value)\n",
    "print(sheet2['A2'].value)\n",
    "print(sheet2['A3'].value)\n",
    "print(sheet2['A4'].value)\n",
    "print(sheet2['A5'].value)\n",
    "print(sheet2['A6'].value)\n",
    "\n",
    "wb.save('Fruit4.xlsx')"
   ]
  },
  {
   "cell_type": "code",
   "execution_count": 150,
   "id": "833abfb0-1c07-4765-ad60-045f5065f340",
   "metadata": {
    "tags": []
   },
   "outputs": [
    {
     "name": "stdout",
     "output_type": "stream",
     "text": [
      "Apple\n",
      "Banana\n",
      "Melon\n",
      "Orange\n",
      "strawberry\n",
      "Grape\n"
     ]
    }
   ],
   "source": [
    "fruits = [['strawberry','red'],['Grape','purple'],['Kiwi','green'] ]\n",
    "\n",
    "start=5\n",
    "for i in range(0,3):\n",
    "    sheet2.cell(i+start,1).value=fruits[i][0]\n",
    "    sheet2.cell(i+start,2).value=fruits[i][1]\n",
    "\n",
    "print(sheet2['A1'].value)\n",
    "print(sheet2['A2'].value)\n",
    "print(sheet2['A3'].value)\n",
    "print(sheet2['A4'].value)\n",
    "print(sheet2['A5'].value)\n",
    "print(sheet2['A6'].value)\n",
    "\n",
    "wb.save('Fruit4.xlsx')"
   ]
  },
  {
   "cell_type": "markdown",
   "id": "27e6ddf3",
   "metadata": {
    "id": "27e6ddf3"
   },
   "source": [
    "2) Fruit4.xlsx 파일을 열고 Sheet2 세 번째 열에 0부터 6까지 숫자를 저장하고 Fruit5.xlsx 파일로 저장하세요."
   ]
  },
  {
   "cell_type": "code",
   "execution_count": 151,
   "id": "9650d31f",
   "metadata": {
    "id": "9650d31f",
    "tags": []
   },
   "outputs": [],
   "source": [
    "# 엑셀 파일 열기\n",
    "wb = xl.load_workbook(\"Fruit4.xlsx\")\n",
    "sheet2 = wb['Sheet2']\n",
    "\n",
    "for i in range(0,7):\n",
    "    sheet2.cell(i+1,3).value=i\n",
    "\n",
    "wb.save('Fruit5.xlsx')"
   ]
  },
  {
   "cell_type": "markdown",
   "id": "a419ea85",
   "metadata": {
    "id": "a419ea85"
   },
   "source": [
    "3) Fruit5.xlsx 파일을 열고 Sheet2 시트에 대해 다음을 처리한 후 결과를 Fruit6.xlsx 파일로 저장하세요.\n",
    "\n",
    "- 과일 이름을 모두 소문자로 변경합니다.\n",
    "- 색깔은 앞 3자리까지만 표시하도록 변경합니다. (예: yellow → yel)\n",
    "- 힌트: 문자열의 모든 문자를 소문자로 바꾸는 lower() 메소드와 문자열 인덱싱, 슬라이싱을 활용합니다."
   ]
  },
  {
   "cell_type": "code",
   "execution_count": 152,
   "id": "23c83d01",
   "metadata": {
    "id": "23c83d01",
    "tags": []
   },
   "outputs": [],
   "source": [
    "# 엑셀 파일 열기\n",
    "wb = xl.load_workbook(\"Fruit5.xlsx\")\n",
    "sheet2 = wb['Sheet2']\n",
    "\n",
    "for i in range(0,7):\n",
    "    sheet2.cell(i+1,1).value = sheet2.cell(i+1,1).value.lower()\n",
    "    sheet2.cell(i+1,1).value = sheet2.cell(i+1,1).value[0:3]\n",
    "\n",
    "wb.save('Fruit6.xlsx')"
   ]
  },
  {
   "cell_type": "code",
   "execution_count": null,
   "id": "1851203f-980c-4a34-b78e-adccc1164636",
   "metadata": {},
   "outputs": [],
   "source": []
  }
 ],
 "metadata": {
  "colab": {
   "collapsed_sections": [],
   "name": "실습11 - 엑셀 파일 다루기.ipynb",
   "provenance": [],
   "toc_visible": true
  },
  "kernelspec": {
   "display_name": "Python 3 (ipykernel)",
   "language": "python",
   "name": "python3"
  },
  "language_info": {
   "codemirror_mode": {
    "name": "ipython",
    "version": 3
   },
   "file_extension": ".py",
   "mimetype": "text/x-python",
   "name": "python",
   "nbconvert_exporter": "python",
   "pygments_lexer": "ipython3",
   "version": "3.11.4"
  }
 },
 "nbformat": 4,
 "nbformat_minor": 5
}
