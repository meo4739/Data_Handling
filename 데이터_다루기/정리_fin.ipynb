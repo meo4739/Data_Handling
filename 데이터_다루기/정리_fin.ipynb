{
 "cells": [
  {
   "cell_type": "markdown",
   "id": "8b09110b-2219-4d4d-84a9-47ee72324c2e",
   "metadata": {},
   "source": [
    "# 정리"
   ]
  },
  {
   "cell_type": "code",
   "execution_count": 2,
   "id": "6e3393ee-469a-4777-8ee5-699573a48ecc",
   "metadata": {
    "tags": []
   },
   "outputs": [
    {
     "name": "stdout",
     "output_type": "stream",
     "text": [
      "<class 'int'>\n"
     ]
    }
   ],
   "source": [
    "# 정수형 변수\n",
    "a = 10\n",
    "print(type(a))\n",
    "# 인스턴스"
   ]
  },
  {
   "cell_type": "code",
   "execution_count": 11,
   "id": "93b4717c-c5a8-4bbb-ae81-7281dad8d200",
   "metadata": {
    "tags": []
   },
   "outputs": [
    {
     "name": "stdout",
     "output_type": "stream",
     "text": [
      "50.0\n"
     ]
    }
   ],
   "source": [
    "a=10\n",
    "a+=10\n",
    "a/=2\n",
    "a*=5\n",
    "print(a)"
   ]
  },
  {
   "cell_type": "code",
   "execution_count": 3,
   "id": "9d566add-aa10-4c99-aa42-9cad106d61d1",
   "metadata": {
    "tags": []
   },
   "outputs": [
    {
     "name": "stdout",
     "output_type": "stream",
     "text": [
      "<class 'list'>\n"
     ]
    }
   ],
   "source": [
    "# 리스트\n",
    "b = [1,2,3,4,5]\n",
    "print(type(b))"
   ]
  },
  {
   "cell_type": "code",
   "execution_count": 20,
   "id": "eed3c12a-e5fc-423f-84a8-4732ebb89693",
   "metadata": {
    "tags": []
   },
   "outputs": [
    {
     "name": "stdout",
     "output_type": "stream",
     "text": [
      "고향\n",
      "산골\n",
      "산골\n"
     ]
    }
   ],
   "source": [
    "s = '나의살던고향은꽃피는산골'\n",
    "l = list(s)\n",
    "l\n",
    "print(s[4:6])\n",
    "print(s[10:])\n",
    "print(s[-2:])"
   ]
  },
  {
   "cell_type": "code",
   "execution_count": 13,
   "id": "3f1b3174-15ec-4857-b74e-fe406378e89f",
   "metadata": {
    "tags": []
   },
   "outputs": [
    {
     "name": "stdout",
     "output_type": "stream",
     "text": [
      "<class 'list'>\n"
     ]
    }
   ],
   "source": [
    "# 리스트\n",
    "b=[1,2,3,4,5]\n",
    "print(type(b))"
   ]
  },
  {
   "cell_type": "code",
   "execution_count": 33,
   "id": "7514806b-0e17-43a2-b276-9b140c4b0f54",
   "metadata": {
    "tags": []
   },
   "outputs": [
    {
     "name": "stdout",
     "output_type": "stream",
     "text": [
      "[1, 2, 3, 4, 5, 6, 7, 8, 8, 8, 10]\n"
     ]
    }
   ],
   "source": [
    "# 리스트\n",
    "b = [1,2,3,4,5]\n",
    "b + [6]\n",
    "b += [6]\n",
    "list(b)\n",
    "b.append(7)\n",
    "# b= b.append(7)\n",
    "b.extend([8])\n",
    "b.extend([8,8,10])\n",
    "print(b)"
   ]
  },
  {
   "cell_type": "code",
   "execution_count": 34,
   "id": "d5217031-13fc-44eb-9b77-ef26dccae140",
   "metadata": {
    "tags": []
   },
   "outputs": [
    {
     "name": "stdout",
     "output_type": "stream",
     "text": [
      "[10, 8, 8, 8, 7, 6, 5, 4, 3, 2, 1]\n"
     ]
    }
   ],
   "source": [
    "# 내림차순\n",
    "b.sort(reverse=True)\n",
    "print(b)"
   ]
  },
  {
   "cell_type": "code",
   "execution_count": 36,
   "id": "53448c18-aae7-4241-9e5f-f8787f73e2a4",
   "metadata": {
    "tags": []
   },
   "outputs": [
    {
     "name": "stdout",
     "output_type": "stream",
     "text": [
      "[10, 8, 8, 8, 7, 6, 5, 4, 3, 2, 1]\n"
     ]
    }
   ],
   "source": [
    "b.reverse()\n",
    "print(b)"
   ]
  },
  {
   "cell_type": "code",
   "execution_count": 40,
   "id": "3e85c02d-9c23-438e-a42b-0041caae3df3",
   "metadata": {
    "tags": []
   },
   "outputs": [
    {
     "name": "stdout",
     "output_type": "stream",
     "text": [
      "[2, 4, 6, 8, 10]\n"
     ]
    }
   ],
   "source": [
    "# b=[1,2,3,4,5,6,7,8,9,10]\n",
    "b = list(range(1,11))\n",
    "c=[]\n",
    "for x in b:\n",
    "    if x%2==0:\n",
    "        c.append(x)\n",
    "        \n",
    "print(c)"
   ]
  },
  {
   "cell_type": "code",
   "execution_count": 41,
   "id": "8141dd93-efd5-4e14-8b95-f7f3e6127777",
   "metadata": {
    "tags": []
   },
   "outputs": [
    {
     "name": "stdout",
     "output_type": "stream",
     "text": [
      "[2, 4, 6, 8, 10]\n"
     ]
    }
   ],
   "source": [
    "b = list(range(1,11))\n",
    "c = [x for x in b if x%2==0]\n",
    "print(c)"
   ]
  },
  {
   "cell_type": "code",
   "execution_count": null,
   "id": "da9caffd-9666-4ddc-9edb-5f3f22bf42f8",
   "metadata": {
    "tags": []
   },
   "outputs": [],
   "source": [
    "while True:\n",
    "    '''\n",
    "    break\n",
    "    '''\n",
    "    # continue"
   ]
  },
  {
   "cell_type": "code",
   "execution_count": null,
   "id": "2b708b59-adfd-4a28-8192-5de49620dd67",
   "metadata": {
    "tags": []
   },
   "outputs": [],
   "source": [
    "# 조건으로 탈출\n",
    "i = 0\n",
    "while i <10:\n",
    "    i+=1"
   ]
  },
  {
   "cell_type": "code",
   "execution_count": 1,
   "id": "98695b13-8495-4817-8552-9cc326fb97ed",
   "metadata": {
    "tags": []
   },
   "outputs": [
    {
     "name": "stdin",
     "output_type": "stream",
     "text": [
      "입력하세요: a\n"
     ]
    },
    {
     "ename": "ValueError",
     "evalue": "invalid literal for int() with base 10: 'a'",
     "output_type": "error",
     "traceback": [
      "\u001b[1;31m---------------------------------------------------------------------------\u001b[0m",
      "\u001b[1;31mValueError\u001b[0m                                Traceback (most recent call last)",
      "Cell \u001b[1;32mIn[1], line 3\u001b[0m\n\u001b[0;32m      1\u001b[0m \u001b[38;5;66;03m# 사용자 입력 받기\u001b[39;00m\n\u001b[0;32m      2\u001b[0m a \u001b[38;5;241m=\u001b[39m \u001b[38;5;28minput\u001b[39m(\u001b[38;5;124m'\u001b[39m\u001b[38;5;124m입력하세요:\u001b[39m\u001b[38;5;124m'\u001b[39m)\n\u001b[1;32m----> 3\u001b[0m a \u001b[38;5;241m=\u001b[39m \u001b[38;5;28mint\u001b[39m(a)\n\u001b[0;32m      4\u001b[0m a \u001b[38;5;241m+\u001b[39m\u001b[38;5;241m=\u001b[39m \u001b[38;5;241m10\u001b[39m\n",
      "\u001b[1;31mValueError\u001b[0m: invalid literal for int() with base 10: 'a'"
     ]
    }
   ],
   "source": [
    "# 사용자 입력 받기\n",
    "a = input('입력하세요:')\n",
    "a = int(a)\n",
    "a += 10"
   ]
  },
  {
   "cell_type": "code",
   "execution_count": 7,
   "id": "e2adb773-922b-4188-af01-69d27ef70afe",
   "metadata": {
    "tags": []
   },
   "outputs": [
    {
     "name": "stdout",
     "output_type": "stream",
     "text": [
      "['a', 'b', 'c']\n",
      "['a', 'b', 'c']\n",
      "[1, 2, 3]\n",
      "[('a', 1), ('b', 2), ('c', 3)]\n",
      "1\n",
      "{'a': 1, 'b': 2, 'c': 3, 'd': 4}\n"
     ]
    }
   ],
   "source": [
    "d = {'a':1,'b':2,'c':3}\n",
    "print(list(d))\n",
    "print(list(d.keys()))\n",
    "print(list(d.values()))\n",
    "print(list(d.items()))\n",
    "\n",
    "# 키로 조회\n",
    "print(d['a'])\n",
    "\n",
    "\n",
    "# 어떤 결과?\n",
    "d['d'] = 4\n",
    "\n",
    "print(d)"
   ]
  },
  {
   "cell_type": "code",
   "execution_count": 10,
   "id": "d37c976e-2f4f-4400-ace5-cfb167dbff41",
   "metadata": {
    "tags": []
   },
   "outputs": [
    {
     "name": "stdout",
     "output_type": "stream",
     "text": [
      "30\n"
     ]
    }
   ],
   "source": [
    "def hap(a,b):\n",
    "    return a+b\n",
    "\n",
    "c = hap(10,20)\n",
    "print(c)"
   ]
  },
  {
   "cell_type": "code",
   "execution_count": 12,
   "id": "bb0c2710-322c-48b9-8d9f-7d1fc2c95134",
   "metadata": {
    "tags": []
   },
   "outputs": [
    {
     "name": "stdout",
     "output_type": "stream",
     "text": [
      "30\n"
     ]
    }
   ],
   "source": [
    "def hap(a,b):\n",
    "    print(a+b)\n",
    "\n",
    "c = hap(10,20)\n"
   ]
  },
  {
   "cell_type": "code",
   "execution_count": 13,
   "id": "fc34bce2-b440-4dab-b18b-b8e9a58bb126",
   "metadata": {
    "tags": []
   },
   "outputs": [
    {
     "data": {
      "text/plain": [
       "140728602749680"
      ]
     },
     "execution_count": 13,
     "metadata": {},
     "output_type": "execute_result"
    }
   ],
   "source": [
    "id(c)"
   ]
  },
  {
   "cell_type": "code",
   "execution_count": 15,
   "id": "a8d84e59-9b9a-467f-bbfc-c0e7a5710e32",
   "metadata": {
    "tags": []
   },
   "outputs": [
    {
     "name": "stdout",
     "output_type": "stream",
     "text": [
      "HAVE\n"
     ]
    }
   ],
   "source": [
    "s = 'I have a dream'\n",
    "\n",
    "s = s.upper()\n",
    "\n",
    "print(s[2:6])"
   ]
  },
  {
   "cell_type": "code",
   "execution_count": 16,
   "id": "0576289a-40fe-4b32-9ef7-5d18ba87a23f",
   "metadata": {
    "tags": []
   },
   "outputs": [
    {
     "name": "stdout",
     "output_type": "stream",
     "text": [
      "B\n"
     ]
    }
   ],
   "source": [
    "num = 82\n",
    "\n",
    "if num >= 90:\n",
    "\n",
    "    print('A')\n",
    "\n",
    "elif num >= 80:\n",
    "\n",
    "    print('B')\n",
    "\n",
    "elif num >= 70:\n",
    "\n",
    "    print('C')\n",
    "\n",
    "else:\n",
    "\n",
    "    print('D')"
   ]
  },
  {
   "cell_type": "code",
   "execution_count": 17,
   "id": "373d292a-e09f-49af-bab6-8d7dc1725b96",
   "metadata": {
    "tags": []
   },
   "outputs": [
    {
     "name": "stdout",
     "output_type": "stream",
     "text": [
      "Object `결과는` not found.\n",
      "20\n"
     ]
    }
   ],
   "source": [
    "다음 구문의 실행 결과는?\n",
    "\n",
    "d = {'A': 10, 'B': 20, 'C': [10, 20, 30]}\n",
    "\n",
    "print(d['B'])"
   ]
  },
  {
   "cell_type": "code",
   "execution_count": 18,
   "id": "3a0c5f00-a544-4f6d-9e22-862a246807d3",
   "metadata": {
    "tags": []
   },
   "outputs": [
    {
     "name": "stdout",
     "output_type": "stream",
     "text": [
      "4.0\n"
     ]
    }
   ],
   "source": [
    "num = 10\n",
    "\n",
    "num += 2\n",
    "\n",
    "num -= 4\n",
    "\n",
    "num *= 2\n",
    "\n",
    "num /= 4\n",
    "\n",
    "print(num)"
   ]
  },
  {
   "cell_type": "code",
   "execution_count": 19,
   "id": "e2732379-7a76-42a9-878f-bda139c640cf",
   "metadata": {
    "tags": []
   },
   "outputs": [
    {
     "name": "stdout",
     "output_type": "stream",
     "text": [
      "[1, 2, 3, 4, 2]\n"
     ]
    }
   ],
   "source": [
    "a = [1, 2, 3, 4] + [2]\n",
    "\n",
    "print(a)"
   ]
  },
  {
   "cell_type": "code",
   "execution_count": 20,
   "id": "dcab5497-9f0b-456c-8072-a058ef1dffb4",
   "metadata": {
    "tags": []
   },
   "outputs": [
    {
     "name": "stdout",
     "output_type": "stream",
     "text": [
      "[6, 12, 18]\n"
     ]
    }
   ],
   "source": [
    "a = [x * 2 for x in range(1, 10) if x % 3 == 0 ]\n",
    "\n",
    "print(a)"
   ]
  },
  {
   "cell_type": "code",
   "execution_count": 21,
   "id": "081b2818-8e6f-46d6-8ecc-f1cd271c443a",
   "metadata": {
    "tags": []
   },
   "outputs": [
    {
     "ename": "SyntaxError",
     "evalue": "invalid syntax (2010467495.py, line 2)",
     "output_type": "error",
     "traceback": [
      "\u001b[1;36m  Cell \u001b[1;32mIn[21], line 2\u001b[1;36m\u001b[0m\n\u001b[1;33m    1. 함수의 구조는 입력, 처리, 출력으로 구성된다.\u001b[0m\n\u001b[1;37m       ^\u001b[0m\n\u001b[1;31mSyntaxError\u001b[0m\u001b[1;31m:\u001b[0m invalid syntax\n"
     ]
    }
   ],
   "source": [
    "함수의 역할에 대한 설명 중 틀린 것은?\n",
    "1. 함수의 구조는 입력, 처리, 출력으로 구성된다.\n",
    "2. 함수는 복잡한 코드를 감춰주는 효과가 있다.\n",
    "3. 함수는 입력 매개변수에 대한 유효성 체크를 권장한다.\n",
    "4. 입력은 생략될 수 있으나, 출력은 생략될 수 없다."
   ]
  },
  {
   "cell_type": "code",
   "execution_count": null,
   "id": "627c84aa-3323-4d89-be53-f240208afcdf",
   "metadata": {
    "tags": []
   },
   "outputs": [
    {
     "name": "stdin",
     "output_type": "stream",
     "text": [
      " 1\n"
     ]
    },
    {
     "name": "stdout",
     "output_type": "stream",
     "text": [
      "홀수입니다.\n"
     ]
    },
    {
     "name": "stdin",
     "output_type": "stream",
     "text": [
      " 2\n"
     ]
    },
    {
     "name": "stdout",
     "output_type": "stream",
     "text": [
      "짝수입니다.\n"
     ]
    },
    {
     "name": "stdin",
     "output_type": "stream",
     "text": [
      " 2\n"
     ]
    },
    {
     "name": "stdout",
     "output_type": "stream",
     "text": [
      "짝수입니다.\n"
     ]
    },
    {
     "name": "stdin",
     "output_type": "stream",
     "text": [
      " 3\n"
     ]
    },
    {
     "name": "stdout",
     "output_type": "stream",
     "text": [
      "홀수입니다.\n"
     ]
    },
    {
     "name": "stdin",
     "output_type": "stream",
     "text": [
      " 2\n"
     ]
    },
    {
     "name": "stdout",
     "output_type": "stream",
     "text": [
      "짝수입니다.\n"
     ]
    },
    {
     "name": "stdin",
     "output_type": "stream",
     "text": [
      " 4\n"
     ]
    },
    {
     "name": "stdout",
     "output_type": "stream",
     "text": [
      "짝수입니다.\n"
     ]
    },
    {
     "name": "stdin",
     "output_type": "stream",
     "text": [
      " 2\n"
     ]
    },
    {
     "name": "stdout",
     "output_type": "stream",
     "text": [
      "짝수입니다.\n"
     ]
    },
    {
     "name": "stdin",
     "output_type": "stream",
     "text": [
      " 2\n"
     ]
    },
    {
     "name": "stdout",
     "output_type": "stream",
     "text": [
      "짝수입니다.\n"
     ]
    }
   ],
   "source": [
    "i = 0\n",
    "\n",
    "while i in range(5):\n",
    "\n",
    "    a = input()\n",
    "\n",
    "    if int(a) % 2 ==0:\n",
    "\n",
    "        print('짝수입니다.')\n",
    "\n",
    "    else:\n",
    "\n",
    "        print('홀수입니다.')"
   ]
  },
  {
   "cell_type": "code",
   "execution_count": 2,
   "id": "2cc8f7d2-9910-4be5-9ee4-878e244dcef6",
   "metadata": {
    "tags": []
   },
   "outputs": [
    {
     "name": "stdout",
     "output_type": "stream",
     "text": [
      "[7, 14, 21, 28, 35, 42]\n",
      "range(7, 43, 7)\n",
      "[7, 14, 21, 28, 35, 42]\n"
     ]
    }
   ],
   "source": [
    "a=list(range(7,43,7))\n",
    "print(a)\n",
    "\n",
    "a = range(7,43,7)\n",
    "print(a)\n",
    "\n",
    "a = [i for i in range(1,43) if i%7 ==0]\n",
    "print(a)"
   ]
  },
  {
   "cell_type": "code",
   "execution_count": 3,
   "id": "ef6fa5a7-565a-4a65-b355-5580b6b11075",
   "metadata": {
    "tags": []
   },
   "outputs": [
    {
     "name": "stdout",
     "output_type": "stream",
     "text": [
      "Object `결과는` not found.\n",
      "B\n"
     ]
    }
   ],
   "source": [
    "다음 코드의 실행 결과는?\n",
    "\n",
    "num = 82\n",
    "\n",
    "if num >= 90:\n",
    "\n",
    "    print('A')\n",
    "\n",
    "elif num >= 80:\n",
    "\n",
    "    print('B')\n",
    "\n",
    "elif num >= 70:\n",
    "\n",
    "    print('C')\n",
    "\n",
    "else:\n",
    "\n",
    "    print('D')"
   ]
  },
  {
   "cell_type": "code",
   "execution_count": 4,
   "id": "a9f74289-3b97-400b-98ee-3f3b0dabf66a",
   "metadata": {
    "tags": []
   },
   "outputs": [
    {
     "name": "stdout",
     "output_type": "stream",
     "text": [
      "4.0\n"
     ]
    }
   ],
   "source": [
    "num = 10\n",
    "\n",
    "num += 2\n",
    "\n",
    "num -= 4\n",
    "\n",
    "num *= 2\n",
    "\n",
    "num /= 4\n",
    "\n",
    "print(num)"
   ]
  },
  {
   "cell_type": "code",
   "execution_count": 5,
   "id": "3dbf3a5f-3e12-4d74-932b-fe6bde7d7bad",
   "metadata": {
    "tags": []
   },
   "outputs": [
    {
     "name": "stdout",
     "output_type": "stream",
     "text": [
      "Object `결과는` not found.\n",
      "[1, 2, 3, 4, 2]\n"
     ]
    }
   ],
   "source": [
    "다음 코드의 실행 결과는?\n",
    "\n",
    "a = [1, 2, 3, 4] + [2]\n",
    "\n",
    "print(a)"
   ]
  },
  {
   "cell_type": "code",
   "execution_count": 6,
   "id": "a67b5da2-5e8a-4fa2-81d7-a5b4abbe5429",
   "metadata": {
    "tags": []
   },
   "outputs": [
    {
     "name": "stdout",
     "output_type": "stream",
     "text": [
      "Object `결과는` not found.\n",
      "[6, 12, 18]\n"
     ]
    }
   ],
   "source": [
    "다음 구문의 실행 결과는?\n",
    "\n",
    "a = [x * 2 for x in range(1, 10) if x % 3 == 0 ]\n",
    "\n",
    "print(a)"
   ]
  },
  {
   "cell_type": "code",
   "execution_count": null,
   "id": "06769fe8-f2f2-4f8f-86f2-2d91d549d236",
   "metadata": {},
   "outputs": [],
   "source": []
  }
 ],
 "metadata": {
  "kernelspec": {
   "display_name": "Python 3 (ipykernel)",
   "language": "python",
   "name": "python3"
  },
  "language_info": {
   "codemirror_mode": {
    "name": "ipython",
    "version": 3
   },
   "file_extension": ".py",
   "mimetype": "text/x-python",
   "name": "python",
   "nbconvert_exporter": "python",
   "pygments_lexer": "ipython3",
   "version": "3.11.4"
  }
 },
 "nbformat": 4,
 "nbformat_minor": 5
}
