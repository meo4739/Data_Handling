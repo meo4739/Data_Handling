{
 "cells": [
  {
   "cell_type": "markdown",
   "id": "ef7c9c2b",
   "metadata": {
    "id": "ef7c9c2b"
   },
   "source": [
    "<center><img src='https://raw.githubusercontent.com/Jangrae/img/master/title3.png' width=500/></center>"
   ]
  },
  {
   "cell_type": "markdown",
   "id": "65b306b2",
   "metadata": {},
   "source": [
    "<center><img src='https://raw.githubusercontent.com/Jangrae/img/master/practice.png' width=300/></center>"
   ]
  },
  {
   "cell_type": "markdown",
   "id": "f68d189c",
   "metadata": {
    "id": "f68d189c"
   },
   "source": [
    "# 실습 #1: 이메일 보내기\n",
    "\n",
    "1) 이메일을 보내기 위해 필요한 라이브러리를 불러오세요."
   ]
  },
  {
   "cell_type": "code",
   "execution_count": null,
   "id": "57350b76",
   "metadata": {
    "id": "57350b76",
    "outputId": "8e5a227b-7c98-40e6-972b-e6951a4a9b2b"
   },
   "outputs": [],
   "source": [
    "# 라이브러리를 불러오기\n",
    "import smtplib\n",
    "from email.mime.text import MIMEText\n",
    "\n",
    "\n"
   ]
  },
  {
   "cell_type": "markdown",
   "id": "5c3373b3",
   "metadata": {},
   "source": [
    "2) 아래코드에 gmail주소, 앱 비밀번호를 입력하세요."
   ]
  },
  {
   "cell_type": "code",
   "execution_count": null,
   "id": "11013a40",
   "metadata": {},
   "outputs": [],
   "source": [
    "s = smtplib.SMTP('meo4739@gmail.com', 587)      # 세션 생성\n",
    "s.starttls()                                 # TLS 보안 시작\n",
    "s.login('meo4739@gmail.com', 'aidqqaamgyjkyvjv')           # 로그인 인증"
   ]
  },
  {
   "cell_type": "markdown",
   "id": "c2120533",
   "metadata": {},
   "source": [
    "3) 이메일 본문(최소 2줄 이상), 이메일 제목을 자유롭게 구성해 보세요."
   ]
  },
  {
   "cell_type": "code",
   "execution_count": null,
   "id": "d83596e7",
   "metadata": {},
   "outputs": [],
   "source": [
    "msg = MIMEText('''내용\n",
    "1줄\n",
    "2줄\n",
    "3줄''')\n",
    "msg['Subject'] = '제목'"
   ]
  },
  {
   "cell_type": "markdown",
   "id": "7e98a6af",
   "metadata": {},
   "source": [
    "4) 발신 주소와 수신 주소를 입력하고 메일을 보내세요."
   ]
  },
  {
   "cell_type": "code",
   "execution_count": 6,
   "id": "cab4a7d8",
   "metadata": {
    "tags": []
   },
   "outputs": [
    {
     "ename": "SMTPAuthenticationError",
     "evalue": "(535, b'Authentication credentials invalid')",
     "output_type": "error",
     "traceback": [
      "\u001b[1;31m---------------------------------------------------------------------------\u001b[0m",
      "\u001b[1;31mSMTPAuthenticationError\u001b[0m                   Traceback (most recent call last)",
      "Cell \u001b[1;32mIn[6], line 8\u001b[0m\n\u001b[0;32m      6\u001b[0m s\u001b[38;5;241m.\u001b[39mehlo() \u001b[38;5;66;03m# say hello\u001b[39;00m\n\u001b[0;32m      7\u001b[0m s\u001b[38;5;241m.\u001b[39mstarttls()                                 \u001b[38;5;66;03m# TLS 보안 시작\u001b[39;00m\n\u001b[1;32m----> 8\u001b[0m s\u001b[38;5;241m.\u001b[39mlogin(\u001b[38;5;124m'\u001b[39m\u001b[38;5;124mmeo4739@gmail.com\u001b[39m\u001b[38;5;124m'\u001b[39m, \u001b[38;5;124m'\u001b[39m\u001b[38;5;124maidqqaamgyjkyvjv\u001b[39m\u001b[38;5;124m'\u001b[39m)           \u001b[38;5;66;03m# 로그인 인증\u001b[39;00m\n\u001b[0;32m     11\u001b[0m msg \u001b[38;5;241m=\u001b[39m MIMEText(\u001b[38;5;124m'''\u001b[39m\u001b[38;5;124m내용\u001b[39m\n\u001b[0;32m     12\u001b[0m \u001b[38;5;124m1줄\u001b[39m\n\u001b[0;32m     13\u001b[0m \u001b[38;5;124m2줄\u001b[39m\n\u001b[0;32m     14\u001b[0m \u001b[38;5;124m3줄\u001b[39m\u001b[38;5;124m'''\u001b[39m)\n\u001b[0;32m     15\u001b[0m msg[\u001b[38;5;124m'\u001b[39m\u001b[38;5;124mSubject\u001b[39m\u001b[38;5;124m'\u001b[39m] \u001b[38;5;241m=\u001b[39m \u001b[38;5;124m'\u001b[39m\u001b[38;5;124m제목\u001b[39m\u001b[38;5;124m'\u001b[39m\n",
      "File \u001b[1;32m~\\anaconda3\\Lib\\smtplib.py:750\u001b[0m, in \u001b[0;36mSMTP.login\u001b[1;34m(self, user, password, initial_response_ok)\u001b[0m\n\u001b[0;32m    747\u001b[0m         last_exception \u001b[38;5;241m=\u001b[39m e\n\u001b[0;32m    749\u001b[0m \u001b[38;5;66;03m# We could not login successfully.  Return result of last attempt.\u001b[39;00m\n\u001b[1;32m--> 750\u001b[0m \u001b[38;5;28;01mraise\u001b[39;00m last_exception\n",
      "File \u001b[1;32m~\\anaconda3\\Lib\\smtplib.py:739\u001b[0m, in \u001b[0;36mSMTP.login\u001b[1;34m(self, user, password, initial_response_ok)\u001b[0m\n\u001b[0;32m    737\u001b[0m method_name \u001b[38;5;241m=\u001b[39m \u001b[38;5;124m'\u001b[39m\u001b[38;5;124mauth_\u001b[39m\u001b[38;5;124m'\u001b[39m \u001b[38;5;241m+\u001b[39m authmethod\u001b[38;5;241m.\u001b[39mlower()\u001b[38;5;241m.\u001b[39mreplace(\u001b[38;5;124m'\u001b[39m\u001b[38;5;124m-\u001b[39m\u001b[38;5;124m'\u001b[39m, \u001b[38;5;124m'\u001b[39m\u001b[38;5;124m_\u001b[39m\u001b[38;5;124m'\u001b[39m)\n\u001b[0;32m    738\u001b[0m \u001b[38;5;28;01mtry\u001b[39;00m:\n\u001b[1;32m--> 739\u001b[0m     (code, resp) \u001b[38;5;241m=\u001b[39m \u001b[38;5;28mself\u001b[39m\u001b[38;5;241m.\u001b[39mauth(\n\u001b[0;32m    740\u001b[0m         authmethod, \u001b[38;5;28mgetattr\u001b[39m(\u001b[38;5;28mself\u001b[39m, method_name),\n\u001b[0;32m    741\u001b[0m         initial_response_ok\u001b[38;5;241m=\u001b[39minitial_response_ok)\n\u001b[0;32m    742\u001b[0m     \u001b[38;5;66;03m# 235 == 'Authentication successful'\u001b[39;00m\n\u001b[0;32m    743\u001b[0m     \u001b[38;5;66;03m# 503 == 'Error: already authenticated'\u001b[39;00m\n\u001b[0;32m    744\u001b[0m     \u001b[38;5;28;01mif\u001b[39;00m code \u001b[38;5;129;01min\u001b[39;00m (\u001b[38;5;241m235\u001b[39m, \u001b[38;5;241m503\u001b[39m):\n",
      "File \u001b[1;32m~\\anaconda3\\Lib\\smtplib.py:662\u001b[0m, in \u001b[0;36mSMTP.auth\u001b[1;34m(self, mechanism, authobject, initial_response_ok)\u001b[0m\n\u001b[0;32m    660\u001b[0m \u001b[38;5;28;01mif\u001b[39;00m code \u001b[38;5;129;01min\u001b[39;00m (\u001b[38;5;241m235\u001b[39m, \u001b[38;5;241m503\u001b[39m):\n\u001b[0;32m    661\u001b[0m     \u001b[38;5;28;01mreturn\u001b[39;00m (code, resp)\n\u001b[1;32m--> 662\u001b[0m \u001b[38;5;28;01mraise\u001b[39;00m SMTPAuthenticationError(code, resp)\n",
      "\u001b[1;31mSMTPAuthenticationError\u001b[0m: (535, b'Authentication credentials invalid')"
     ]
    }
   ],
   "source": [
    "# 라이브러리를 불러오기\n",
    "import smtplib\n",
    "from email.mime.text import MIMEText\n",
    "\n",
    "s = smtplib.SMTP('smtp.mail.com', 587)      # 세션 생성\n",
    "s.ehlo() # say hello\n",
    "s.starttls()                                 # TLS 보안 시작\n",
    "s.login('meo4739@gmail.com', 'aidqqaamgyjkyvjv')           # 로그인 인증\n",
    "\n",
    "\n",
    "msg = MIMEText('''내용\n",
    "1줄\n",
    "2줄\n",
    "3줄''')\n",
    "msg['Subject'] = '제목'\n",
    "\n",
    "\n",
    "################\n",
    "\n",
    "s.sendmail('meo4739@gmail.com', 'meo4739@gmail.com', msg.as_string())\n",
    "s.quit()    "
   ]
  },
  {
   "cell_type": "code",
   "execution_count": 7,
   "id": "a397d1fb-5389-4f15-9f9e-ef90a4b026f7",
   "metadata": {
    "tags": []
   },
   "outputs": [
    {
     "data": {
      "text/plain": [
       "(221,\n",
       " b'2.0.0 closing connection t5-20020a170902e84500b001b881a8251bsm6888038plg.106 - gsmtp')"
      ]
     },
     "execution_count": 7,
     "metadata": {},
     "output_type": "execute_result"
    }
   ],
   "source": [
    "import smtplib\n",
    "from email.mime.text import MIMEText\n",
    "\n",
    "\n",
    "# smtp 주소\n",
    "s = smtplib.SMTP('smtp.gmail.com', 587)\n",
    "s.ehlo() # say hello\n",
    "\n",
    "# TLS 보안 시작\n",
    "s.starttls()\n",
    "\n",
    "# 로그인 인증\n",
    "s.login('meo4739@gmail.com', 'aidqqaamgyjkyvjv')\n",
    "# s.login('nneo4739.gmail.com', 'Vi8033xz!!')\n",
    "\n",
    "\n",
    "# 본문\n",
    "# msg = MIMEText('''\n",
    "# 내용\n",
    "# ''')\n",
    "\n",
    "msg = MIMEText('''\n",
    "멍청하면 시간이라도\n",
    "때려박자\n",
    "''')\n",
    "\n",
    "# 제목\n",
    "# msg['Subject'] = '제목'\n",
    "msg['Subject'] = '나에게 보내는 응원의 메세지'\n",
    "\n",
    "\n",
    "\n",
    "# 메일 보내기\n",
    "s.sendmail('meo4739@gmail.com', 'meo4739@gmail.com', msg.as_string())\n",
    "s.quit()     "
   ]
  },
  {
   "cell_type": "markdown",
   "id": "405bbec3",
   "metadata": {
    "id": "f68d189c"
   },
   "source": [
    "# 실습 #2: [심화] 마감일 통보 이메일 보내기\n",
    "\n",
    "- 다음은 현재 시스템 날짜와 시간을 조회하는 코드입니다."
   ]
  },
  {
   "cell_type": "code",
   "execution_count": 8,
   "id": "3634a23a",
   "metadata": {
    "id": "57350b76",
    "outputId": "8e5a227b-7c98-40e6-972b-e6951a4a9b2b",
    "tags": []
   },
   "outputs": [
    {
     "name": "stdout",
     "output_type": "stream",
     "text": [
      "현재 날짜 시간: 2023-08-17 15:13:07.401865\n",
      "현재 연도: 2023\n",
      "현재 월: 8\n",
      "현재 일: 17\n",
      "현재 요일: 3\n",
      "내일: 2023-08-18 15:13:07.402865\n"
     ]
    }
   ],
   "source": [
    "# 현재 시스템 날짜와 시간을 조회\n",
    "from datetime import datetime, timedelta\n",
    "\n",
    "print('현재 날짜 시간:', datetime.today())\n",
    "print('현재 연도:', datetime.today().year)\n",
    "print('현재 월:', datetime.today().month)\n",
    "print('현재 일:', datetime.today().day)\n",
    "print('현재 요일:', datetime.today().weekday())   # 0: 월요일 ~ 6: 일요일\n",
    "print('내일:', datetime.today() + timedelta(1))"
   ]
  },
  {
   "cell_type": "markdown",
   "id": "b9ed3bb1",
   "metadata": {
    "id": "b9ed3bb1"
   },
   "source": [
    "1) 위 코드를 참조하여 이메일 내용을 아래와 같이 구성하여 메일을 보내세요.\n",
    "- 내용에 포함된 날짜는 시스템으로 오늘 날짜를 받아와서 5일을 더하여 내용에 포함되게 하세요. \n",
    "- 힌트: f'''문자열{변수}...''' 형태를 활용해 봅니다.\n",
    "~~~\n",
    "제목: 제출 마감이 5일 남았습니다.\n",
    "내용: \n",
    "안녕하세요?\n",
    "과제 제출 마감이 5일 남았습니다. \n",
    "0000년 00월 00일까지 반드시 제출바랍니다.\n",
    "감사합니다!\n",
    "~~~"
   ]
  },
  {
   "cell_type": "code",
   "execution_count": null,
   "id": "49919707-a648-4d53-8d54-a4fc390e3c4e",
   "metadata": {
    "tags": []
   },
   "outputs": [],
   "source": [
    "# 현재 시스템 날짜와 시간을 조회\n",
    "from datetime import datetime, timedelta\n",
    "\n",
    "print('현재 날짜 시간:', datetime.today())\n",
    "\n",
    "\n",
    "print('현재 연도:', datetime.today().year)\n",
    "print('현재 월:', datetime.today().month)\n",
    "\n",
    "print('현재 일:', datetime.today().day)\n",
    "print('현재 일 + 5:', datetime.today().day + 5)\n",
    "\n",
    "print('현재 요일:', datetime.today().weekday())   # 0: 월요일 ~ 6: 일요일\n",
    "print('내일:', datetime.today() + timedelta(1))\n",
    "\n",
    "\n",
    "print('현재 연도:', datetime.today().year)\n",
    "print('현재 월:', datetime.today().month)\n",
    "print('현재 일 + 5:', datetime.today().day + 5)\n",
    "\n",
    "print(f'{datetime.today().year}-{datetime.today().month}-{datetime.today().day + 5}')"
   ]
  },
  {
   "cell_type": "code",
   "execution_count": 16,
   "id": "1722c3b9-f195-4d91-b860-62edd04e357a",
   "metadata": {
    "tags": []
   },
   "outputs": [
    {
     "name": "stdout",
     "output_type": "stream",
     "text": [
      "2023-8-22\n"
     ]
    }
   ],
   "source": [
    "# 현재 시스템 날짜와 시간을 조회\n",
    "from datetime import datetime, timedelta\n",
    "print(f'{datetime.today().year}-{datetime.today().month}-{datetime.today().day + 5}')"
   ]
  },
  {
   "cell_type": "code",
   "execution_count": 17,
   "id": "e9a66c46",
   "metadata": {
    "id": "e9a66c46",
    "outputId": "4366444d-037c-4f34-da0b-0cff8c1e0acc",
    "tags": []
   },
   "outputs": [
    {
     "name": "stdout",
     "output_type": "stream",
     "text": [
      "2023-8-22\n",
      "{2023}\n"
     ]
    },
    {
     "data": {
      "text/plain": [
       "(221,\n",
       " b'2.0.0 closing connection t3-20020a170902bc4300b001bafd5cf769sm4734873plz.2 - gsmtp')"
      ]
     },
     "execution_count": 17,
     "metadata": {},
     "output_type": "execute_result"
    }
   ],
   "source": [
    "# 현재 시스템 날짜와 시간을 조회\n",
    "from datetime import datetime, timedelta\n",
    "print(f'{datetime.today().year}-{datetime.today().month}-{datetime.today().day + 5}')\n",
    "\n",
    "import smtplib\n",
    "from email.mime.text import MIMEText\n",
    "\n",
    "\n",
    "# smtp 주소\n",
    "s = smtplib.SMTP('smtp.gmail.com', 587)\n",
    "s.ehlo() # say hello\n",
    "\n",
    "# TLS 보안 시작\n",
    "s.starttls()\n",
    "\n",
    "# 로그인 인증\n",
    "s.login('meo4739@gmail.com', 'aidqqaamgyjkyvjv')\n",
    "# s.login('nneo4739.gmail.com', 'Vi8033xz!!')\n",
    "\n",
    "\n",
    "# 본문\n",
    "# msg = MIMEText('''\n",
    "# 내용\n",
    "# ''')\n",
    "\n",
    "msg = MIMEText(f\"\"\"\n",
    "안녕하세요?\n",
    "과제 제출 마감이 5일 남았습니다. \n",
    "0000년 00월 00일까지 반드시 제출바랍니다.\n",
    "감사합니다!\n",
    "\"\"\")\n",
    "\n",
    "# 제목\n",
    "# msg['Subject'] = '제목'\n",
    "msg['Subject'] = '제출 마감이 5일 남았습니다.'\n",
    "\n",
    "\n",
    "\n",
    "# 메일 보내기\n",
    "s.sendmail('meo4739@gmail.com', 'meo4739@gmail.com', msg.as_string())\n",
    "s.quit()     "
   ]
  },
  {
   "cell_type": "markdown",
   "id": "c51effb7",
   "metadata": {
    "id": "c51effb7"
   },
   "source": [
    "# 실습 #3: [심화] 오늘의 과일 안내 이메일 보내기\n",
    "\n",
    "2) 엑셀 파일 마지막 실습 결과인 Fruit6.xlsx 파일을 읽어서 다음의 내용으로 이메일을 보내세요.\n",
    "\n",
    "- Fruit6.xlsx의 세번째 열의 0~6 사이의 숫자가 요일을 의미합니다. \n",
    "- 오늘의 요일에 해당되는 과일 이름을 읽어서 아래 메일 내용을 구성하세요.\n",
    "\n",
    "~~~\n",
    "제목: 오늘의 과일은 OOO 입니다.\n",
    "내용: \n",
    "안녕하세요?\n",
    "오늘의 과일은 OOO입니다. \n",
    "건강을 위해 오전에 꼭 챙겨 드시기 바랍니다.\n",
    "감사합니다!\n",
    "~~~\n",
    "\n",
    "- 힌트\n",
    "    - datetime.today().weekday()를 통해 오늘의 요일을 얻을 수 있습니다.\n",
    "    - if 조건문을 사용하여 오늘의 요일과 Fruit6.xlsx의 세 번째 열의 값을 비교해 보세요.\n",
    "    - 값이 일치할 경우 해당하는 행의 첫 번째 열의 값이 오늘의 요일에 해당하는 과일이 됩니다."
   ]
  },
  {
   "cell_type": "code",
   "execution_count": null,
   "id": "487fe05b",
   "metadata": {
    "id": "487fe05b",
    "outputId": "3b7d79a2-9282-44bc-bec1-8adeef68db50"
   },
   "outputs": [],
   "source": [
    "\n",
    "\n",
    "\n"
   ]
  }
 ],
 "metadata": {
  "colab": {
   "collapsed_sections": [],
   "name": "실습12 - 이메일 보내기.ipynb",
   "provenance": [],
   "toc_visible": true
  },
  "kernelspec": {
   "display_name": "Python 3 (ipykernel)",
   "language": "python",
   "name": "python3"
  },
  "language_info": {
   "codemirror_mode": {
    "name": "ipython",
    "version": 3
   },
   "file_extension": ".py",
   "mimetype": "text/x-python",
   "name": "python",
   "nbconvert_exporter": "python",
   "pygments_lexer": "ipython3",
   "version": "3.11.4"
  }
 },
 "nbformat": 4,
 "nbformat_minor": 5
}
