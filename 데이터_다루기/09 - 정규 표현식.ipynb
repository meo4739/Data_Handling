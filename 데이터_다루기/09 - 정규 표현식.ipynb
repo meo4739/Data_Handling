{
 "cells": [
  {
   "cell_type": "markdown",
   "metadata": {
    "id": "b3TDAdnvnSbh"
   },
   "source": [
    "<center><img src='https://raw.githubusercontent.com/Jangrae/img/master/title3.png' width=500/></center>"
   ]
  },
  {
   "cell_type": "markdown",
   "metadata": {
    "id": "OJ_WuirlAEiV"
   },
   "source": [
    "# 9.정규 표현식\n",
    "\n",
    "- Python 만의 기능이 아닌, 문자열을 다루는 여러 곳에서 사용되는 공통된 표현식입니다.\n",
    "- 다소 이해하기 어려울 수 있지만, 알아두면 정말 편리한 기능입니다.\n"
   ]
  },
  {
   "cell_type": "markdown",
   "metadata": {
    "id": "mFYI7AWkBCqr"
   },
   "source": [
    "## 9.1.정규식 사용 전/후 비교\n",
    "\n",
    "- 기존의 반복문으로 처리하던 것을 정규 표현식으로 처리하면 코드가 단순해집니다.\n",
    "- 물론 정규식에 대해 알지 못하면 암호(?)같은 느낌일 것입니다.\n",
    "- 우선 다음과 같이 이름과 전화번호가 섞여 있는 문자열이 있습니다."
   ]
  },
  {
   "cell_type": "code",
   "execution_count": null,
   "metadata": {},
   "outputs": [],
   "source": [
    "# 이름과 전화번호가 섞여 있는 문자열\n",
    "peoples = '홍길동: 010-1234-5678 한사랑: 010-4321-8765 일지매: 010-2143-6587'"
   ]
  },
  {
   "cell_type": "markdown",
   "metadata": {},
   "source": [
    "- 위 문자열에서 전화번호 뒤 네 자리를 XXXX로 변경하려고 합니다.\n",
    "- 기존 반복문과 정규식을 사용하는 방법 중 무엇이 간결한지 비교합니다."
   ]
  },
  {
   "cell_type": "markdown",
   "metadata": {
    "id": "IfdnUSKOBN7r"
   },
   "source": [
    "**1) 기존 반복문으로 처리**\n",
    "\n",
    "- 기존 반복문으로 전화번호 뒤 네 자리를 XXXX로 변경합니다."
   ]
  },
  {
   "cell_type": "code",
   "execution_count": 3,
   "metadata": {
    "tags": []
   },
   "outputs": [
    {
     "data": {
      "text/plain": [
       "['홍길동:', '010-1234-5678', '한사랑:', '010-4321-8765', '일지매:', '010-2143-6587']"
      ]
     },
     "execution_count": 3,
     "metadata": {},
     "output_type": "execute_result"
    }
   ],
   "source": [
    "# 이름과 전화번호가 섞여 있는 문자열\n",
    "peoples = '홍길동: 010-1234-5678 한사랑: 010-4321-8765 일지매: 010-2143-6587'\n",
    "\n",
    "peoples.split(' ')"
   ]
  },
  {
   "cell_type": "code",
   "execution_count": 5,
   "metadata": {
    "colab": {
     "base_uri": "https://localhost:8080/"
    },
    "executionInfo": {
     "elapsed": 311,
     "status": "ok",
     "timestamp": 1657526192941,
     "user": {
      "displayName": "Jangrae Lee",
      "userId": "08475661575434032088"
     },
     "user_tz": -540
    },
    "id": "MLMv8O1_-PTF",
    "outputId": "1fda58d1-a86b-4d20-a647-96d46b43e839",
    "tags": []
   },
   "outputs": [
    {
     "name": "stdout",
     "output_type": "stream",
     "text": [
      "홍길동: 010-1234-XXXX 한사랑: 010-4321-XXXX 일지매: 010-2143-XXXX\n"
     ]
    }
   ],
   "source": [
    "# 전화번호 뒷자리 숨기기\n",
    "phone_x = []\n",
    "for word in peoples.split(' '):\n",
    "    if len(word) == 13 and word[:3].isdigit() and word[4:8].isdigit() and word[9:13].isdigit():\n",
    "        word = word[0:8] + '-XXXX'\n",
    "        phone_x.append(word)\n",
    "    else:\n",
    "        phone_x.append(word)\n",
    "peoples_new = ' '.join(phone_x)\n",
    "print(peoples_new)"
   ]
  },
  {
   "cell_type": "markdown",
   "metadata": {
    "id": "k7_NGYjiLRDI"
   },
   "source": [
    "**2) 정규식으로 처리**\n",
    "\n",
    "- 정규식으로 전화번호 뒤 네 자리를 XXXX로 변경합니다.\n",
    "\n"
   ]
  },
  {
   "cell_type": "code",
   "execution_count": 8,
   "metadata": {
    "colab": {
     "base_uri": "https://localhost:8080/"
    },
    "executionInfo": {
     "elapsed": 336,
     "status": "ok",
     "timestamp": 1657876630665,
     "user": {
      "displayName": "Jangrae Lee",
      "userId": "08475661575434032088"
     },
     "user_tz": -540
    },
    "id": "fFmhGI0e___5",
    "outputId": "be483260-18db-4419-d2e2-e05ca1cd90db",
    "tags": []
   },
   "outputs": [
    {
     "data": {
      "text/plain": [
       "'홍길동: 010-1234-XXXX 한사랑: 010-4321-XXXX 일지매: 010-2143-XXXX'"
      ]
     },
     "execution_count": 8,
     "metadata": {},
     "output_type": "execute_result"
    }
   ],
   "source": [
    "# 전화번호 뒷자리 숨기기\n",
    "import re\n",
    "re.sub('(\\d{3}[-]\\d{4})[-]\\d{4}', '\\g<1>-XXXX', peoples)"
   ]
  },
  {
   "cell_type": "code",
   "execution_count": 17,
   "metadata": {
    "tags": []
   },
   "outputs": [
    {
     "data": {
      "text/plain": [
       "'홍길동: 010-1234-XXXX 한사랑: 010-4321-8765 일지매: 010-2143-6587'"
      ]
     },
     "execution_count": 17,
     "metadata": {},
     "output_type": "execute_result"
    }
   ],
   "source": [
    "import re\n",
    "re.sub('(\\d+[-]\\d+)[-]\\d+','\\g<1>-XXXX',peoples)\n",
    "re.sub('(\\d+[-]\\d+)[-]\\d+','\\g<1>-XXXX',peoples, count=1)\n",
    "# re.sub('(\\d+[-]\\d+)[-]\\d+','\\g<1>-XXXX',peoples, count=2)"
   ]
  },
  {
   "cell_type": "markdown",
   "metadata": {},
   "source": [
    "- 위 구문은 다음과 같이 작성할 수도 있습니다.\n",
    "- 특정 패턴을 이후에 반복해서 사용할 때 좋은 방법입니다. "
   ]
  },
  {
   "cell_type": "code",
   "execution_count": 13,
   "metadata": {
    "colab": {
     "base_uri": "https://localhost:8080/"
    },
    "executionInfo": {
     "elapsed": 336,
     "status": "ok",
     "timestamp": 1657876630665,
     "user": {
      "displayName": "Jangrae Lee",
      "userId": "08475661575434032088"
     },
     "user_tz": -540
    },
    "id": "fFmhGI0e___5",
    "outputId": "be483260-18db-4419-d2e2-e05ca1cd90db",
    "tags": []
   },
   "outputs": [
    {
     "data": {
      "text/plain": [
       "'홍길동: 010-1234-XXXX 한사랑: 010-4321-XXXX 일지매: 010-2143-XXXX'"
      ]
     },
     "execution_count": 13,
     "metadata": {},
     "output_type": "execute_result"
    }
   ],
   "source": [
    "# 전화번호 뒷자리 숨기기\n",
    "import re\n",
    "pat = re.compile('(\\d{3}[-]\\d{4})[-]\\d{4}')\n",
    "pat.sub('\\g<1>-XXXX', peoples)"
   ]
  },
  {
   "cell_type": "markdown",
   "metadata": {
    "id": "d_Hos_7yY3XM"
   },
   "source": [
    "<img src='https://raw.githubusercontent.com/jangrae/img/master/practice_01.png' width=120 align = \"left\"/>"
   ]
  },
  {
   "cell_type": "markdown",
   "metadata": {
    "id": "obix19iVY7b8"
   },
   "source": [
    "[문1] 위 코드를 참조하여 다음 코드의 의미를 파악하세요."
   ]
  },
  {
   "cell_type": "code",
   "execution_count": 18,
   "metadata": {
    "colab": {
     "base_uri": "https://localhost:8080/"
    },
    "executionInfo": {
     "elapsed": 3,
     "status": "ok",
     "timestamp": 1657526064781,
     "user": {
      "displayName": "Jangrae Lee",
      "userId": "08475661575434032088"
     },
     "user_tz": -540
    },
    "id": "PcrW7SzVM6Bd",
    "outputId": "656d57b2-461e-4728-f758-eba7d06b717c",
    "tags": []
   },
   "outputs": [
    {
     "name": "stdout",
     "output_type": "stream",
     "text": [
      "홍길동: 800104-******* 일지매: 760405-*******\n"
     ]
    }
   ],
   "source": [
    "# 이름과 주민번호가 섞여 있는 문자열\n",
    "peoples = '홍길동: 800104-1049234 일지매: 760405-1052114'\n",
    "\n",
    "# 주민번호 뒷자리 숨기기\n",
    "rsdn_x = []\n",
    "for word in peoples.split(' '):\n",
    "    if len(word) == 14 and word[:6].isdigit() and word[7:].isdigit():\n",
    "        word = word[:6] + '-*******'\n",
    "        rsdn_x.append(word)\n",
    "    else:\n",
    "        rsdn_x.append(word)\n",
    "peoples_new = ' '.join(rsdn_x)\n",
    "print(peoples_new)"
   ]
  },
  {
   "cell_type": "markdown",
   "metadata": {
    "id": "IDs8kYixZgr7"
   },
   "source": [
    "[문2] 위 코드를 정규식을 사용하는 방법으로 재작성하세요."
   ]
  },
  {
   "cell_type": "code",
   "execution_count": 56,
   "metadata": {
    "colab": {
     "base_uri": "https://localhost:8080/"
    },
    "executionInfo": {
     "elapsed": 532,
     "status": "ok",
     "timestamp": 1657526135291,
     "user": {
      "displayName": "Jangrae Lee",
      "userId": "08475661575434032088"
     },
     "user_tz": -540
    },
    "id": "axbt6r7ZM9sw",
    "outputId": "e7b962ae-ba96-41e0-c434-e71216f9fc17",
    "tags": []
   },
   "outputs": [
    {
     "data": {
      "text/plain": [
       "'홍길동: 800104-******* 일지매: 760405-*******'"
      ]
     },
     "execution_count": 56,
     "metadata": {},
     "output_type": "execute_result"
    }
   ],
   "source": [
    "# 이름과 주민번호가 섞여 있는 문자열\n",
    "peoples = '홍길동: 800104-1049234 일지매: 760405-1052114'\n",
    "\n",
    "# 주민번호 뒷자리 숨기기\n",
    "import re\n",
    "\n",
    "re.sub('(\\d{6})[-]\\d{7}' ,'\\g<1>-*******', peoples)"
   ]
  },
  {
   "cell_type": "markdown",
   "metadata": {
    "id": "7C82U6rsCWQY"
   },
   "source": [
    "## 9.2.기본적인 정규식\n",
    "\n",
    "- 정규식을 사용하려면 re 라이브러리를 불러와야 합니다."
   ]
  },
  {
   "cell_type": "code",
   "execution_count": null,
   "metadata": {
    "id": "UvYTh5x3K7Ru"
   },
   "outputs": [],
   "source": [
    "# 모듈 불러오기\n",
    "import re"
   ]
  },
  {
   "cell_type": "markdown",
   "metadata": {
    "id": "OdzftoHuIy1S"
   },
   "source": [
    "- 다음과 같은 메소드를 사용해 특정 패턴의 문자열을 확인할 수 있습니다.\n",
    "    - match() 메소드: 문자열 처음부터 정규식과 매치 여부를 확인합니다.\n",
    "    - search() 메소드: 문자열 전체를 대상으로 정규식과 매치 여부 확인합니다.\n",
    "    - findall() 메소드: 정규식과 매치되는 모든 문자열을 리스트 형태로 반환합니다.\n",
    "    - finditer() 메소드: 정규식과 매치되는 모든 문자열을 반복 가능한 개체로 반환합니다."
   ]
  },
  {
   "cell_type": "markdown",
   "metadata": {
    "id": "caZWKMs3MS8H"
   },
   "source": [
    "### 9.2.1.특정 문자 또는 문자열 포함 여부 확인\n",
    "\n",
    "- match() 메소드는 문자열 처음부터 정규식와 매치 여부를 확인합니다."
   ]
  },
  {
   "cell_type": "code",
   "execution_count": 62,
   "metadata": {
    "tags": []
   },
   "outputs": [
    {
     "data": {
      "text/plain": [
       "<re.Match object; span=(0, 1), match='I'>"
      ]
     },
     "execution_count": 62,
     "metadata": {},
     "output_type": "execute_result"
    }
   ],
   "source": [
    "# 맨 앞에 'a' 문자가 있는지 확인\n",
    "string = 'I have a Dream.'\n",
    "re.match('a', string)\n",
    "re.match('I', string)"
   ]
  },
  {
   "cell_type": "markdown",
   "metadata": {
    "id": "LA_mlcjQbpF2"
   },
   "source": [
    "- search() 메소드는 문자열 전체를 대상으로 정규식과 매치 여부를 확인합니다."
   ]
  },
  {
   "cell_type": "code",
   "execution_count": 61,
   "metadata": {
    "tags": []
   },
   "outputs": [
    {
     "data": {
      "text/plain": [
       "<re.Match object; span=(3, 4), match='a'>"
      ]
     },
     "execution_count": 61,
     "metadata": {},
     "output_type": "execute_result"
    }
   ],
   "source": [
    "# 문자열에 'a' 문자가 있는지 확인\n",
    "string = 'I have a Dream.'\n",
    "re.search('a', string)"
   ]
  },
  {
   "cell_type": "markdown",
   "metadata": {
    "id": "Ux_YF8sjbyir"
   },
   "source": [
    "- 조건문을 사용해 문자열에서 특정 문자 또는 문자열이 존재하는 지 표시할 수 있습니다."
   ]
  },
  {
   "cell_type": "code",
   "execution_count": 65,
   "metadata": {
    "tags": []
   },
   "outputs": [
    {
     "name": "stdout",
     "output_type": "stream",
     "text": [
      "찾음\n"
     ]
    }
   ],
   "source": [
    "string = 'I have a Dream.'\n",
    "result = re.search('a', string)\n",
    "if result:\n",
    "    print('찾음')\n",
    "else:\n",
    "    print('못찾음')"
   ]
  },
  {
   "cell_type": "markdown",
   "metadata": {
    "id": "Z1Nj5iaNOg1u"
   },
   "source": [
    "- 매치된 결과를 다음과 같은 메소드로 확인할 수 있습니다.\n",
    "    - group():\t매치된 문자열을 반환합니다.\n",
    "    - start():\t매치된 문자열의 시작 위치를 반환합니다.\n",
    "    - end():\t매치된 문자열의 끝 위치를 반환합니다.\n",
    "    - span():\t매치된 문자열의 (시작, 끝)에 해당하는 튜플을 반환합니다."
   ]
  },
  {
   "cell_type": "code",
   "execution_count": 66,
   "metadata": {
    "colab": {
     "base_uri": "https://localhost:8080/"
    },
    "executionInfo": {
     "elapsed": 244,
     "status": "ok",
     "timestamp": 1657545398652,
     "user": {
      "displayName": "Jangrae Lee",
      "userId": "08475661575434032088"
     },
     "user_tz": -540
    },
    "id": "_MhIT2jQv8YB",
    "outputId": "0df3aa34-1667-4cf7-b928-b5f7c21ec627",
    "tags": []
   },
   "outputs": [
    {
     "name": "stdout",
     "output_type": "stream",
     "text": [
      "a\n",
      "3\n",
      "4\n",
      "(3, 4)\n"
     ]
    }
   ],
   "source": [
    "# 'a' 문자 찾기\n",
    "string = 'I have a Dream.'\n",
    "result = re.search('a', string)\n",
    "print(result.group())\n",
    "print(result.start())\n",
    "print(result.end())\n",
    "print(result.span())"
   ]
  },
  {
   "cell_type": "code",
   "execution_count": 67,
   "metadata": {
    "colab": {
     "base_uri": "https://localhost:8080/"
    },
    "executionInfo": {
     "elapsed": 709,
     "status": "ok",
     "timestamp": 1657545462690,
     "user": {
      "displayName": "Jangrae Lee",
      "userId": "08475661575434032088"
     },
     "user_tz": -540
    },
    "id": "BJiT0weTP762",
    "outputId": "9722f09a-921d-43ab-d18f-097399051045",
    "tags": []
   },
   "outputs": [
    {
     "name": "stdout",
     "output_type": "stream",
     "text": [
      "Dream\n",
      "9\n",
      "14\n",
      "(9, 14)\n"
     ]
    }
   ],
   "source": [
    "# 'Dream' 문자열 찾기\n",
    "string = 'I have a Dream.'\n",
    "result = re.search('Dream', string)\n",
    "print(result.group())\n",
    "print(result.start())\n",
    "print(result.end())\n",
    "print(result.span())"
   ]
  },
  {
   "cell_type": "markdown",
   "metadata": {
    "id": "sfNhYzHmcLYw"
   },
   "source": [
    "- findall() 메소드는 정규식과 매치되는 모든 문자열을 리스트 형태로 반환합니다."
   ]
  },
  {
   "cell_type": "code",
   "execution_count": 68,
   "metadata": {
    "colab": {
     "base_uri": "https://localhost:8080/"
    },
    "executionInfo": {
     "elapsed": 4,
     "status": "ok",
     "timestamp": 1657546323405,
     "user": {
      "displayName": "Jangrae Lee",
      "userId": "08475661575434032088"
     },
     "user_tz": -540
    },
    "id": "OGfma3h-LnJv",
    "outputId": "eca391e1-3f05-4ec4-dd0e-dc5b198a5e7f",
    "tags": []
   },
   "outputs": [
    {
     "data": {
      "text/plain": [
       "['a', 'a', 'a']"
      ]
     },
     "execution_count": 68,
     "metadata": {},
     "output_type": "execute_result"
    }
   ],
   "source": [
    "# 'a' 문자 찾기\n",
    "string = 'I have a Dream.'\n",
    "re.findall('a', string)"
   ]
  },
  {
   "cell_type": "code",
   "execution_count": 69,
   "metadata": {
    "colab": {
     "base_uri": "https://localhost:8080/"
    },
    "executionInfo": {
     "elapsed": 3,
     "status": "ok",
     "timestamp": 1657546442127,
     "user": {
      "displayName": "Jangrae Lee",
      "userId": "08475661575434032088"
     },
     "user_tz": -540
    },
    "id": "C0gAC6r9NpF_",
    "outputId": "6889d36c-77eb-4598-a14e-91ba1e13eb73",
    "tags": []
   },
   "outputs": [
    {
     "data": {
      "text/plain": [
       "['ave']"
      ]
     },
     "execution_count": 69,
     "metadata": {},
     "output_type": "execute_result"
    }
   ],
   "source": [
    "# 'ave' 문자열 찾기\n",
    "string = 'I have a Dream.'\n",
    "re.findall('ave', string)"
   ]
  },
  {
   "cell_type": "markdown",
   "metadata": {
    "id": "fgbzTwDTcZAM"
   },
   "source": [
    "- finditer() 메소드는 정규식과 매치되는 모든 문자열을 반복 가능한 객체로 반환합니다.\n",
    "- 반복 가능하다는 것은 반복문에 사용가능하다는 의미입니다."
   ]
  },
  {
   "cell_type": "code",
   "execution_count": 70,
   "metadata": {
    "colab": {
     "base_uri": "https://localhost:8080/"
    },
    "executionInfo": {
     "elapsed": 299,
     "status": "ok",
     "timestamp": 1657509608712,
     "user": {
      "displayName": "Jangrae Lee",
      "userId": "08475661575434032088"
     },
     "user_tz": -540
    },
    "id": "hkW14ub7Lo2l",
    "outputId": "9756f87d-a4a2-4514-a9a1-81a65927c1f6",
    "tags": []
   },
   "outputs": [
    {
     "name": "stdout",
     "output_type": "stream",
     "text": [
      "<re.Match object; span=(3, 4), match='a'>\n",
      "<re.Match object; span=(7, 8), match='a'>\n",
      "<re.Match object; span=(12, 13), match='a'>\n"
     ]
    }
   ],
   "source": [
    "# 반복문으로 표시\n",
    "string = 'I have a Dream.'\n",
    "result = re.finditer('a', string)\n",
    "for i in result:\n",
    "    print(i)"
   ]
  },
  {
   "cell_type": "markdown",
   "metadata": {
    "id": "YQMkwGaXMYas"
   },
   "source": [
    "### 9.2.2.나열된 문자 포함여부 확인\n",
    "\n",
    "- 대괄호([ ]) 안에 문자를 나열하여 그 문자들 포함 여부를 확인합니다."
   ]
  },
  {
   "cell_type": "code",
   "execution_count": null,
   "metadata": {
    "colab": {
     "base_uri": "https://localhost:8080/"
    },
    "executionInfo": {
     "elapsed": 259,
     "status": "ok",
     "timestamp": 1657546916839,
     "user": {
      "displayName": "Jangrae Lee",
      "userId": "08475661575434032088"
     },
     "user_tz": -540
    },
    "id": "_v5XzXw4MfzZ",
    "outputId": "8261b76f-f8b7-4512-ec12-821250c27dd3"
   },
   "outputs": [],
   "source": [
    "# 'a', 'h', 'm' 문자 찾기\n",
    "string = 'I have a Dream.'\n",
    "re.findall('[ahm]', string)"
   ]
  },
  {
   "cell_type": "code",
   "execution_count": 71,
   "metadata": {
    "colab": {
     "base_uri": "https://localhost:8080/"
    },
    "executionInfo": {
     "elapsed": 3,
     "status": "ok",
     "timestamp": 1657546619290,
     "user": {
      "displayName": "Jangrae Lee",
      "userId": "08475661575434032088"
     },
     "user_tz": -540
    },
    "id": "dKfR1DiQNZPJ",
    "outputId": "1a351279-19e1-4c1d-e234-a386ad39d44e",
    "tags": []
   },
   "outputs": [
    {
     "data": {
      "text/plain": [
       "['a', 'v', 'e', 'a', 'e', 'a']"
      ]
     },
     "execution_count": 71,
     "metadata": {},
     "output_type": "execute_result"
    }
   ],
   "source": [
    "# 'a', 'v', 'e' 문자 찾기\n",
    "string = 'I have a Dream.'\n",
    "re.findall('[ave]', string)"
   ]
  },
  {
   "cell_type": "code",
   "execution_count": 73,
   "metadata": {
    "colab": {
     "base_uri": "https://localhost:8080/"
    },
    "executionInfo": {
     "elapsed": 2,
     "status": "ok",
     "timestamp": 1657546620544,
     "user": {
      "displayName": "Jangrae Lee",
      "userId": "08475661575434032088"
     },
     "user_tz": -540
    },
    "id": "ALhJomGLOZy5",
    "outputId": "e0a127bd-99a8-421d-9770-69e64500e506",
    "tags": []
   },
   "outputs": [
    {
     "name": "stdout",
     "output_type": "stream",
     "text": [
      "['a', 'e', 'v']\n"
     ]
    }
   ],
   "source": [
    "# 같은 문자 한 번만 표시\n",
    "string = 'I have a Dream.'\n",
    "result = list(set(re.findall('[ave]', string)))\n",
    "result.sort()\n",
    "print(result)"
   ]
  },
  {
   "cell_type": "markdown",
   "metadata": {
    "id": "OFfhcRvofjvB"
   },
   "source": [
    "- ^를 사용해 나열되지 않은 문자들 포함 여부를 확인할 수 있습니다."
   ]
  },
  {
   "cell_type": "code",
   "execution_count": 74,
   "metadata": {
    "colab": {
     "base_uri": "https://localhost:8080/"
    },
    "executionInfo": {
     "elapsed": 237,
     "status": "ok",
     "timestamp": 1657547208616,
     "user": {
      "displayName": "Jangrae Lee",
      "userId": "08475661575434032088"
     },
     "user_tz": -540
    },
    "id": "QKWIKqswQCXw",
    "outputId": "37074f5b-0594-46d7-97ed-65a589db01bb",
    "tags": []
   },
   "outputs": [
    {
     "name": "stdout",
     "output_type": "stream",
     "text": [
      "[' ', '.', 'D', 'I', 'h', 'm', 'r']\n"
     ]
    }
   ],
   "source": [
    "# 'a', 'v', 'e' 이외의 문자 찾기\n",
    "string = 'I have a Dream.'\n",
    "result = list(set(re.findall('[^ave]', string)))\n",
    "result.sort()\n",
    "print(result)"
   ]
  },
  {
   "cell_type": "markdown",
   "metadata": {
    "id": "6SfPz8cUNwg1"
   },
   "source": [
    "### 9.2.3.범위 안의 문자 포함여부 확인\n",
    "\n",
    "- 빼기 기호(-)를 사용해 문자의 범위를 지정합니다."
   ]
  },
  {
   "cell_type": "code",
   "execution_count": 75,
   "metadata": {
    "colab": {
     "base_uri": "https://localhost:8080/"
    },
    "executionInfo": {
     "elapsed": 4,
     "status": "ok",
     "timestamp": 1657547488135,
     "user": {
      "displayName": "Jangrae Lee",
      "userId": "08475661575434032088"
     },
     "user_tz": -540
    },
    "id": "-lCSbs67N4n4",
    "outputId": "d1492246-78ac-4a17-ccda-027d0ed840f0",
    "tags": []
   },
   "outputs": [
    {
     "data": {
      "text/plain": [
       "['h', 'a', 'e', 'a', 'e', 'a', 'm']"
      ]
     },
     "execution_count": 75,
     "metadata": {},
     "output_type": "execute_result"
    }
   ],
   "source": [
    "# 'a' ~ 'm' 문자 찾기\n",
    "string = 'I have a Dream.'\n",
    "re.findall('[a-m]', string)"
   ]
  },
  {
   "cell_type": "code",
   "execution_count": 76,
   "metadata": {
    "colab": {
     "base_uri": "https://localhost:8080/"
    },
    "executionInfo": {
     "elapsed": 232,
     "status": "ok",
     "timestamp": 1657547512552,
     "user": {
      "displayName": "Jangrae Lee",
      "userId": "08475661575434032088"
     },
     "user_tz": -540
    },
    "id": "qeyRysB3Pn_g",
    "outputId": "96b7c599-fd8c-4c98-a36a-f18d544d1def",
    "tags": []
   },
   "outputs": [
    {
     "data": {
      "text/plain": [
       "['I', 'h', 'a', 'e', 'a', 'D', 'e', 'a', 'm']"
      ]
     },
     "execution_count": 76,
     "metadata": {},
     "output_type": "execute_result"
    }
   ],
   "source": [
    "# 'a' ~ 'm' 문자 찾기(대/소문자 무시)\n",
    "string = 'I have a Dream.'\n",
    "re.findall('[a-mA-M]', string)"
   ]
  },
  {
   "cell_type": "code",
   "execution_count": 77,
   "metadata": {
    "colab": {
     "base_uri": "https://localhost:8080/"
    },
    "executionInfo": {
     "elapsed": 469,
     "status": "ok",
     "timestamp": 1657547527636,
     "user": {
      "displayName": "Jangrae Lee",
      "userId": "08475661575434032088"
     },
     "user_tz": -540
    },
    "id": "ww16uScXP0PE",
    "outputId": "e42b5821-5a33-43fd-d140-c718c051ed0d",
    "tags": []
   },
   "outputs": [
    {
     "data": {
      "text/plain": [
       "[' ', 'v', ' ', ' ', 'r', '.']"
      ]
     },
     "execution_count": 77,
     "metadata": {},
     "output_type": "execute_result"
    }
   ],
   "source": [
    "# 'a' ~ 'm' 이외의 문자 찾기(대/소문자 무시)\n",
    "string = 'I have a Dream.'\n",
    "re.findall('[^a-mA-M]', string)"
   ]
  },
  {
   "cell_type": "code",
   "execution_count": 80,
   "metadata": {
    "colab": {
     "base_uri": "https://localhost:8080/"
    },
    "executionInfo": {
     "elapsed": 240,
     "status": "ok",
     "timestamp": 1657547578490,
     "user": {
      "displayName": "Jangrae Lee",
      "userId": "08475661575434032088"
     },
     "user_tz": -540
    },
    "id": "nqO7xjQHPRfx",
    "outputId": "513ffe99-8e8d-4ff6-c57a-74b849821c39",
    "tags": []
   },
   "outputs": [
    {
     "data": {
      "text/plain": [
       "['2', '0']"
      ]
     },
     "execution_count": 80,
     "metadata": {},
     "output_type": "execute_result"
    }
   ],
   "source": [
    "# 숫자 찾기\n",
    "string = 'I am 20 yesrs old.'\n",
    "# string = 'I am 20 yesrs 32121213old.'\n",
    "re.findall('[0-9]', string)"
   ]
  },
  {
   "cell_type": "markdown",
   "metadata": {
    "id": "W1896HcHRDar"
   },
   "source": [
    "### 9.2.4.두 문자 사이의 문자 포함여부 확인\n",
    "\n",
    "- 정규식의 Dot(.) 메타 문자는 줄바꿈 문자인 \\n을 제외한 모든 문자와 매치됩니다."
   ]
  },
  {
   "cell_type": "code",
   "execution_count": 81,
   "metadata": {
    "colab": {
     "base_uri": "https://localhost:8080/"
    },
    "executionInfo": {
     "elapsed": 243,
     "status": "ok",
     "timestamp": 1657548037198,
     "user": {
      "displayName": "Jangrae Lee",
      "userId": "08475661575434032088"
     },
     "user_tz": -540
    },
    "id": "6SueMI_CRoJI",
    "outputId": "ca5896e2-2c23-4e39-93d0-940748310d28",
    "tags": []
   },
   "outputs": [
    {
     "data": {
      "text/plain": [
       "['ave']"
      ]
     },
     "execution_count": 81,
     "metadata": {},
     "output_type": "execute_result"
    }
   ],
   "source": [
    "# 'a'와 'e'문자 사이에 문자 하나를 포함하는 문자열 확인\n",
    "string = 'I have a Dream.'\n",
    "re.findall('a.e', string)"
   ]
  },
  {
   "cell_type": "code",
   "execution_count": 82,
   "metadata": {
    "colab": {
     "base_uri": "https://localhost:8080/"
    },
    "executionInfo": {
     "elapsed": 3,
     "status": "ok",
     "timestamp": 1657547697413,
     "user": {
      "displayName": "Jangrae Lee",
      "userId": "08475661575434032088"
     },
     "user_tz": -540
    },
    "id": "kPKA_jh_RzrB",
    "outputId": "e142702b-9531-44a6-9527-3170f0acbd01",
    "tags": []
   },
   "outputs": [
    {
     "data": {
      "text/plain": [
       "[]"
      ]
     },
     "execution_count": 82,
     "metadata": {},
     "output_type": "execute_result"
    }
   ],
   "source": [
    "# 'r'과 'm'문자 사이에 문자 하나를 포함하는 문자열 확인\n",
    "string = 'I have a Dream.'\n",
    "re.findall('r.m', string)"
   ]
  },
  {
   "cell_type": "markdown",
   "metadata": {
    "id": "gTl6FDb2TpUt"
   },
   "source": [
    "### 9.2.5.문자 반복 확인\n",
    "\n",
    "- 문자의 반복을 확인하는 여러 메타 문자가 있습니다."
   ]
  },
  {
   "cell_type": "code",
   "execution_count": 83,
   "metadata": {
    "colab": {
     "base_uri": "https://localhost:8080/"
    },
    "executionInfo": {
     "elapsed": 675,
     "status": "ok",
     "timestamp": 1657548153065,
     "user": {
      "displayName": "Jangrae Lee",
      "userId": "08475661575434032088"
     },
     "user_tz": -540
    },
    "id": "oA5x2w1iTuRt",
    "outputId": "33a47edc-86eb-4b16-f57e-45837937c6b0",
    "tags": []
   },
   "outputs": [
    {
     "data": {
      "text/plain": [
       "['cl', 'col', 'coool', 'cooool']"
      ]
     },
     "execution_count": 83,
     "metadata": {},
     "output_type": "execute_result"
    }
   ],
   "source": [
    "# o가 0회 이상 반복된 경우\n",
    "string = 'cl col Coor coool pool cooool'\n",
    "re.findall('co*l', string)"
   ]
  },
  {
   "cell_type": "code",
   "execution_count": 84,
   "metadata": {
    "colab": {
     "base_uri": "https://localhost:8080/"
    },
    "executionInfo": {
     "elapsed": 399,
     "status": "ok",
     "timestamp": 1657548155517,
     "user": {
      "displayName": "Jangrae Lee",
      "userId": "08475661575434032088"
     },
     "user_tz": -540
    },
    "id": "EHz_cSGFUtXA",
    "outputId": "1d960510-ed54-4ab5-b96d-d01857441aa6",
    "tags": []
   },
   "outputs": [
    {
     "data": {
      "text/plain": [
       "['col', 'coool', 'cooool']"
      ]
     },
     "execution_count": 84,
     "metadata": {},
     "output_type": "execute_result"
    }
   ],
   "source": [
    "# o가 1회 이상 반복된 경우\n",
    "string = 'cl col Coor coool pool cooool'\n",
    "re.findall('co+l', string)"
   ]
  },
  {
   "cell_type": "code",
   "execution_count": 85,
   "metadata": {
    "colab": {
     "base_uri": "https://localhost:8080/"
    },
    "executionInfo": {
     "elapsed": 325,
     "status": "ok",
     "timestamp": 1657548157601,
     "user": {
      "displayName": "Jangrae Lee",
      "userId": "08475661575434032088"
     },
     "user_tz": -540
    },
    "id": "R9PjnjXlVIBR",
    "outputId": "49df50b9-1cd5-48bb-f320-d3c0825ccb90",
    "tags": []
   },
   "outputs": [
    {
     "data": {
      "text/plain": [
       "['col']"
      ]
     },
     "execution_count": 85,
     "metadata": {},
     "output_type": "execute_result"
    }
   ],
   "source": [
    "# o가 1회 반복된 경우\n",
    "string = 'cl col Coor coool pool cooool'\n",
    "re.findall('co{1}l', string)"
   ]
  },
  {
   "cell_type": "code",
   "execution_count": 86,
   "metadata": {
    "colab": {
     "base_uri": "https://localhost:8080/"
    },
    "executionInfo": {
     "elapsed": 262,
     "status": "ok",
     "timestamp": 1657548159147,
     "user": {
      "displayName": "Jangrae Lee",
      "userId": "08475661575434032088"
     },
     "user_tz": -540
    },
    "id": "kJLOYCQ6VU18",
    "outputId": "b5fd5440-bd20-4308-8ba8-c77642e5b7b6",
    "tags": []
   },
   "outputs": [
    {
     "data": {
      "text/plain": [
       "['col', 'coool', 'cooool']"
      ]
     },
     "execution_count": 86,
     "metadata": {},
     "output_type": "execute_result"
    }
   ],
   "source": [
    "# o가 1 ~ 4회 반복된 경우\n",
    "string = 'cl col Coor coool pool cooool'\n",
    "re.findall('co{1,4}l', string)"
   ]
  },
  {
   "cell_type": "code",
   "execution_count": 87,
   "metadata": {
    "colab": {
     "base_uri": "https://localhost:8080/"
    },
    "executionInfo": {
     "elapsed": 309,
     "status": "ok",
     "timestamp": 1657548160902,
     "user": {
      "displayName": "Jangrae Lee",
      "userId": "08475661575434032088"
     },
     "user_tz": -540
    },
    "id": "GuDXR9mKYUet",
    "outputId": "516301f2-dede-442d-bfdd-e8a38b7d097d",
    "tags": []
   },
   "outputs": [
    {
     "data": {
      "text/plain": [
       "['cl', 'col']"
      ]
     },
     "execution_count": 87,
     "metadata": {},
     "output_type": "execute_result"
    }
   ],
   "source": [
    "# o가 0 ~ 1회 반복된 경우\n",
    "string = 'cl col Coor coool pool cooool'\n",
    "re.findall('co?l', string)"
   ]
  },
  {
   "cell_type": "code",
   "execution_count": null,
   "metadata": {},
   "outputs": [],
   "source": []
  }
 ],
 "metadata": {
  "colab": {
   "collapsed_sections": [],
   "name": "09 - 정규 표현식.ipynb",
   "provenance": [],
   "toc_visible": true
  },
  "kernelspec": {
   "display_name": "Python 3 (ipykernel)",
   "language": "python",
   "name": "python3"
  },
  "language_info": {
   "codemirror_mode": {
    "name": "ipython",
    "version": 3
   },
   "file_extension": ".py",
   "mimetype": "text/x-python",
   "name": "python",
   "nbconvert_exporter": "python",
   "pygments_lexer": "ipython3",
   "version": "3.11.4"
  }
 },
 "nbformat": 4,
 "nbformat_minor": 4
}
