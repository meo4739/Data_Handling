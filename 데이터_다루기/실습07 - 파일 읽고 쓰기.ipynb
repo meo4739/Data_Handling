{
 "cells": [
  {
   "cell_type": "markdown",
   "id": "b59ce349",
   "metadata": {
    "id": "b59ce349"
   },
   "source": [
    "<center><img src='https://raw.githubusercontent.com/Jangrae/img/master/title3.png' width=500/></center>"
   ]
  },
  {
   "cell_type": "markdown",
   "id": "8bb70efc",
   "metadata": {},
   "source": [
    "<center><img src='https://raw.githubusercontent.com/Jangrae/img/master/practice.png' width=300/></center>"
   ]
  },
  {
   "cell_type": "markdown",
   "id": "3b352b76",
   "metadata": {
    "id": "3b352b76"
   },
   "source": [
    "# 실습 #1: 기본 파일 다루기"
   ]
  },
  {
   "cell_type": "markdown",
   "id": "c0596c14",
   "metadata": {
    "id": "c0596c14"
   },
   "source": [
    "1) 현재 작업 디렉토리에 다음 요구사항에 따라 파일을 만드세요.\n",
    "\n",
    "- 이름: MyFile2.txt\n",
    "- 내용: '파일 쓰기 연습입니다.'\n",
    "- 참고: w 모드로 열고 write() 메소드로 쓰기"
   ]
  },
  {
   "cell_type": "code",
   "execution_count": null,
   "id": "a62b8365",
   "metadata": {
    "id": "a62b8365"
   },
   "outputs": [],
   "source": [
    "\n",
    "\n",
    "\n"
   ]
  },
  {
   "cell_type": "markdown",
   "id": "5d9b57d1",
   "metadata": {
    "id": "5d9b57d1"
   },
   "source": [
    "2) 위에서 만든 파일에 다음 요구사항에 따라 내용을 추가하세요.\n",
    "\n",
    "- 추가할 내용: '다시 한 줄 추가해 봅니다.'\n",
    "- 참고: a 모드로 열고 write() 메소드로 쓰기"
   ]
  },
  {
   "cell_type": "code",
   "execution_count": null,
   "id": "fdd21c78",
   "metadata": {
    "id": "fdd21c78"
   },
   "outputs": [],
   "source": [
    "\n",
    "\n",
    "\n"
   ]
  },
  {
   "cell_type": "markdown",
   "id": "52d04db7",
   "metadata": {
    "id": "52d04db7"
   },
   "source": [
    "3) 위에서 만든 파일에 다음 요구사항에 따라 내용을 추가하세요.\n",
    "\n",
    "- 추가할 내용: '마지막 한 줄 추가해 봅니다.'\n",
    "- 참고1: 줄 바꿈 기호를 사용하여 한 줄 아래에 기록되게 함\n",
    "- 참고2: a 모드로 열고 write() 메소드로 쓰기"
   ]
  },
  {
   "cell_type": "code",
   "execution_count": null,
   "id": "540b0284",
   "metadata": {
    "id": "540b0284"
   },
   "outputs": [],
   "source": [
    "\n",
    "\n",
    "\n"
   ]
  },
  {
   "cell_type": "markdown",
   "id": "b7f4930a",
   "metadata": {
    "id": "b7f4930a"
   },
   "source": [
    "4) 위에서 만든 파일에 다음 요구사항에 따라 읽어 내용을 확인하세요.\n",
    "\n",
    "- 참고: r 모드로 열고 read() 메소드로 읽기"
   ]
  },
  {
   "cell_type": "code",
   "execution_count": null,
   "id": "4fe6e500",
   "metadata": {
    "id": "4fe6e500"
   },
   "outputs": [],
   "source": [
    "\n",
    "\n",
    "\n"
   ]
  },
  {
   "cell_type": "markdown",
   "id": "a36106f4",
   "metadata": {
    "id": "a36106f4"
   },
   "source": [
    "# 실습 #2: 파일 읽기, 쓰기"
   ]
  },
  {
   "cell_type": "markdown",
   "id": "ec6eb063",
   "metadata": {
    "id": "ec6eb063"
   },
   "source": [
    "1) 다음 요구사항에 따라 파일을 만들어 보세요.\n",
    "\n",
    "- 우선 LittleStar.txt 파일을 생성한 후\n",
    "- write() 메소드를 사용하여 첫 줄을 추가하고\n",
    "- close()로 파일을 닫은 후\n",
    "- 파일을 다시 열어 나머지 내용을 추가\n",
    "\n",
    "\n",
    "- 파일 : LittleStar.txt\n",
    "- 내용 \n",
    "\n",
    "\n",
    "      Twinkle, twinkle little star\n",
    "      How I wonder what you are\n",
    "      Up above the world so high\n",
    "      Like a diamond in the sky\n",
    "      Twinkle, twinkle little star\n",
    "      How I wonder what you are\n"
   ]
  },
  {
   "cell_type": "code",
   "execution_count": null,
   "id": "fc3406c1",
   "metadata": {
    "id": "fc3406c1"
   },
   "outputs": [],
   "source": [
    "\n",
    "\n",
    "\n"
   ]
  },
  {
   "cell_type": "markdown",
   "id": "03ff53bb",
   "metadata": {
    "id": "03ff53bb"
   },
   "source": [
    "2) Poem.txt 파일을 readline() 메소드를 사용해 한 줄씩 네 줄만 읽어오세요."
   ]
  },
  {
   "cell_type": "code",
   "execution_count": null,
   "id": "1f44a218",
   "metadata": {
    "id": "1f44a218"
   },
   "outputs": [],
   "source": [
    "\n",
    "\n",
    "\n"
   ]
  },
  {
   "cell_type": "markdown",
   "id": "fb2bafd2",
   "metadata": {
    "id": "fb2bafd2"
   },
   "source": [
    "3) Poem.txt 파일을 readlines()를 메소드를 사용하여 전체를 리스트로 읽어와 출력하세요."
   ]
  },
  {
   "cell_type": "code",
   "execution_count": null,
   "id": "56b623ac",
   "metadata": {
    "id": "56b623ac"
   },
   "outputs": [],
   "source": [
    "\n",
    "\n",
    "\n"
   ]
  },
  {
   "cell_type": "markdown",
   "id": "aa0379bf",
   "metadata": {
    "id": "aa0379bf"
   },
   "source": [
    "4) Poem.txt 파일을 realines() 메소드와 반복문을 사용해 한 줄 씩 표시하세요."
   ]
  },
  {
   "cell_type": "code",
   "execution_count": null,
   "id": "32e979ad",
   "metadata": {
    "id": "32e979ad"
   },
   "outputs": [],
   "source": [
    "\n",
    "\n",
    "\n"
   ]
  },
  {
   "cell_type": "markdown",
   "id": "aeb85473",
   "metadata": {
    "id": "aeb85473"
   },
   "source": [
    "5) 앞서 생성한 LittleStar.txt 파일을 realines() 메소드와 반복문을 사용해 한 줄 씩 출력하세요.\n",
    "\n",
    "-  단, 인덱싱을 사용하여 각 문장의 맨 앞 세 글자만 출력하세요"
   ]
  },
  {
   "cell_type": "code",
   "execution_count": null,
   "id": "8a79bcb7",
   "metadata": {
    "id": "8a79bcb7"
   },
   "outputs": [],
   "source": [
    "\n",
    "\n",
    "\n"
   ]
  },
  {
   "cell_type": "markdown",
   "id": "ac047d6c",
   "metadata": {},
   "source": [
    "# 실습 #3: 워드 클라우드"
   ]
  },
  {
   "cell_type": "markdown",
   "id": "ceca9616",
   "metadata": {},
   "source": [
    "1) 인터넷에서 좋은 글(영문으로 된 연설문, 혹은 기사, 책 내용 등)을 찾아, txt로 저장하고 읽어와 워드 클라우드를 만들어 보세요.\n",
    "\n",
    "- 코드는 예제파일을 참조하세요.\n",
    "- 불필요한 단어/조사는 제거하세요.\n",
    "- 글의 내용을 한눈에 파악할 수 있는 멋진 워드클라우드를 만들어 보세요."
   ]
  },
  {
   "cell_type": "code",
   "execution_count": 7,
   "id": "0dad721f",
   "metadata": {
    "tags": []
   },
   "outputs": [
    {
     "name": "stdout",
     "output_type": "stream",
     "text": [
      "{'love': 5, 'Gimme-': 1, '잡힐': 1, 'that': 2, '숨결이': 1, 'this,': 1, 'on': 2, 'baby': 2, 'two,': 1, '거짓말처럼': 3, '같아': 1, 'give': 1, '뛰어': 1, 'bet': 1, '어려워?': 2, '애가': 1, 'missing': 2, '타': 1, '모래': 1, '뭐가': 3, '끌려': 1, '흘러가는데,': 1, '밤인': 3, 'whoa': 1, '시간은': 1, 'I': 1, 'we': 1, \"gon'\": 2, '맘이': 1, 'die,': 1, '있어도': 1, '마음만': 1, '내가': 3, '꺾지': 1, '안': 2, '(BLACKPINK': 1, 'Uh,': 2, '사랑인': 3, '내일': 3, '세상은': 2, 'little': 2, '너를': 1, '우릴': 1, '바라보고': 1, '마-마-마지막처럼': 6, 'this': 1, \"O's\": 1, '그래서': 1, '듯': 1, \"X's\": 1, 'or': 1, 'Clyde': 1, 'of': 6, 'three,': 1, '줌의': 1, '것처럼': 7, 'them,': 1, 'catch': 1, '마지막': 6, 'Little': 3, '한': 1, '쉽지': 1, 'it,': 1, '새로운': 1, '가슴은': 1, 'You': 1, '거니까': 1, '(Gimme': 2, '널': 1, '더': 1, '너에게': 4, '어지러워': 1, 'can': 1, 'BLACKPINK': 1, '생각나?': 1, '걸': 1, 'black': 1, '어이없어': 1, 'ride': 1, 'fall': 1, '안아줘': 3, 'all': 1, '않아': 1, 'stack': 1, 'nasty': 1, '않을': 1, '키스해줘': 3, 'love,': 2, '상해': 1, '내': 4, 'this)': 2, '몸이': 1, 'Baby,': 3, '맘대로': 2, 'you': 7, '마지막처럼,': 6, \"'Cause\": 1, '그만': 3, '너는': 1, 'Call': 1, 'the': 2, 'area': 1, '돼,': 2, 'me': 4, 'area)': 1, '그리': 3, '없는': 3, 'in': 3, '꼭': 1, 'get': 1, '원하는': 1, 'We': 2, \"I'ma\": 1, '터질': 3, '너': 2, '따윈': 3, '뭔데': 1, '급해지지': 1, 'finna': 1, 'your': 2, '못할': 1, '계속': 1, \"won't\": 2, '시작이야': 1, '느껴지니?': 1, 'my': 2, '하나만': 1, 'and': 3, '뒤돌아보진': 1, '뜨겁고': 1, '자꾸': 1, '어려워': 1, '서툰': 2, '던지면,': 1, 'double': 1, '생각해': 1, 'pretty': 1, '자존심': 1, '얼굴이': 1, 'be': 2, '테니까': 1, 'One,': 1, '날,': 2, 'it': 1, 'gonna': 1, '절대': 1, '것처럼,': 5, 'Bonnie': 1, '지금': 1, 'set': 2, '않은': 1, '잡히지': 1, '날': 5, '잡아줘': 1, '생각해,': 2, '넌': 2, 'bit': 5, 'free?': 2}\n"
     ]
    }
   ],
   "source": [
    "# 파일 읽기\n",
    "file = open('ma.txt', 'r', encoding='UTF8')\n",
    "file = open('ma.txt', 'r', encoding='UTF-8')\n",
    "text = file.read() \n",
    "file.close()\n",
    "\n",
    "# 확인(100 글자만)\n",
    "text[:100]\n",
    "\n",
    "# 공백을 구분자로 하여 단어 단위로 자르기\n",
    "wordList = text.split()\n",
    "\n",
    "# 중복 단어 제거\n",
    "worduniq = list(set(wordList))\n",
    "\n",
    "# 딕셔너리 선언\n",
    "wordCount = {}\n",
    "\n",
    "# 단어별 개수 저장\n",
    "for w in worduniq:\n",
    "    wordCount[w] = wordList.count(w)\n",
    "    \n",
    "print(wordCount)\n",
    "\n",
    "# 제외 대상 조사 \n",
    "del_word = ['the','a','is','are', 'not','of','on','that','this','and','be','to', 'from']\n",
    "\n",
    "\n",
    "# 제외하기\n",
    "for w in del_word:\n",
    "    if w in wordCount:\n",
    "        del wordCount[w] # key 값으로 지운다.\n"
   ]
  },
  {
   "cell_type": "code",
   "execution_count": 45,
   "id": "3e77d77d-ac29-41e1-9977-789dc79f61f5",
   "metadata": {
    "tags": []
   },
   "outputs": [
    {
     "name": "stdout",
     "output_type": "stream",
     "text": [
      "C:\\Users\\user\n",
      "C:\\Users\\user\\Python01\n"
     ]
    },
    {
     "data": {
      "image/png": "[encoded data removed]",
      "text/plain": [
       "<Figure size 1200x600 with 1 Axes>"
      ]
     },
     "metadata": {
      "image/png": {
       "height": 619,
       "width": 775
      }
     },
     "output_type": "display_data"
    }
   ],
   "source": [
    "# 홈 디렉토리 확인\n",
    "from pathlib import Path\n",
    "\n",
    "print(Path.home())\n",
    "\n",
    "# 작업 디렉토리 확인\n",
    "from pathlib import Path\n",
    "\n",
    "print(Path.cwd())\n",
    "\n",
    "\n",
    "# 파일 읽기\n",
    "file = open('ma.txt', 'r', encoding='UTF8')\n",
    "file = open('ma.txt', 'r', encoding='UTF-8')\n",
    "text = file.read() \n",
    "file.close()\n",
    "\n",
    "# 확인(100 글자만)\n",
    "text[:100]\n",
    "\n",
    "# 공백을 구분자로 하여 단어 단위로 자르기\n",
    "wordList = text.split()\n",
    "\n",
    "# 중복 단어 제거\n",
    "worduniq = list(set(wordList))\n",
    "\n",
    "# 딕셔너리 선언\n",
    "wordCount = {}\n",
    "\n",
    "# 단어별 개수 저장\n",
    "for w in worduniq:\n",
    "    wordCount[w] = wordList.count(w)\n",
    "    \n",
    "# print(wordCount)\n",
    "\n",
    "# 제외 대상 조사 \n",
    "del_word = ['저는','해','이런','가장', '안','또','저','주고','수','그',\n",
    "            '이','어떤', '속에서도','그렇게','텐데','한','와서','어린','같아요',\n",
    "            '많이', '그런','불운이라고','아직','것','사실은','제일','그거는','거라고',\n",
    "            '어려운','때문에','잘','같아요','분명히']\n",
    "\n",
    "\n",
    "# 제외하기\n",
    "for w in del_word:\n",
    "    if w in wordCount:\n",
    "        del wordCount[w] # key 값으로 지운다.\n",
    "\n",
    "\n",
    "\n",
    "# 라이브러리 불러오기\n",
    "import matplotlib.pyplot as plt\n",
    "from wordcloud import WordCloud\n",
    "%config InlineBackend.figure_format='retina'\n",
    "\n",
    "import numpy as np\n",
    "from PIL import Image\n",
    "\n",
    "# 이미지 불러오기\n",
    "masking_image = np.array(Image.open('mama.jpg'))\n",
    "\n",
    "# 워드 클라우드 만들기\n",
    "wordcloud = WordCloud(font_path = 'C:/Windiws/fonts/HMKMRHD.TTF',\n",
    "                      width=2000, \n",
    "                      height=1000, \n",
    "                      mask=masking_image,\n",
    "                      background_color='white').generate_from_frequencies(wordCount)\n",
    "\n",
    "# 표시하기\n",
    "plt.figure(figsize=(12, 6))\n",
    "plt.imshow(wordcloud)\n",
    "plt.axis(\"off\")\n",
    "plt.tight_layout(pad=0)\n",
    "plt.savefig('test.png')\n",
    "plt.show()\n"
   ]
  },
  {
   "cell_type": "code",
   "execution_count": null,
   "id": "5124112c-674b-4f80-9a49-dcf593d80197",
   "metadata": {},
   "outputs": [],
   "source": []
  }
 ],
 "metadata": {
  "colab": {
   "collapsed_sections": [],
   "name": "실습10 - 파일 읽고 쓰기.ipynb",
   "provenance": [],
   "toc_visible": true
  },
  "kernelspec": {
   "display_name": "Python 3 (ipykernel)",
   "language": "python",
   "name": "python3"
  },
  "language_info": {
   "codemirror_mode": {
    "name": "ipython",
    "version": 3
   },
   "file_extension": ".py",
   "mimetype": "text/x-python",
   "name": "python",
   "nbconvert_exporter": "python",
   "pygments_lexer": "ipython3",
   "version": "3.11.4"
  }
 },
 "nbformat": 4,
 "nbformat_minor": 5
}
