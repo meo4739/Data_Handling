{
 "cells": [
  {
   "cell_type": "markdown",
   "id": "ef7c9c2b",
   "metadata": {
    "id": "ef7c9c2b"
   },
   "source": [
    "<center><img src='https://raw.githubusercontent.com/Jangrae/img/master/title3.png' width=500/></center>"
   ]
  },
  {
   "cell_type": "markdown",
   "id": "710ee378",
   "metadata": {
    "id": "710ee378"
   },
   "source": [
    "# 12.이메일 보내기\n",
    "\n",
    "- 다음 네 단계로 Google의 smtp를 사용해 메일을 보냅니다.\n",
    "- 단, GMail 설정을 통해 메일 발송을 위한 앱 비밀번호를 득한 후 가능합니다."
   ]
  },
  {
   "cell_type": "markdown",
   "id": "668049c9",
   "metadata": {
    "id": "668049c9"
   },
   "source": [
    "### 1 단계: 필요한 라이브러리 불러오기\n",
    "\n",
    "- 이메일 보낼 때 필요한 라이브러리를 불러옵니다."
   ]
  },
  {
   "cell_type": "code",
   "execution_count": 14,
   "id": "5e994bca",
   "metadata": {
    "id": "5e994bca",
    "tags": []
   },
   "outputs": [],
   "source": [
    "# 라이브러리를 불러오기\n",
    "import smtplib\n",
    "from email.mime.text import MIMEText"
   ]
  },
  {
   "cell_type": "markdown",
   "id": "185ad1d5",
   "metadata": {
    "id": "185ad1d5"
   },
   "source": [
    "### 2 단계: 이메일 보내기 준비\n",
    "\n",
    "- GMail 주소와 앱 비밀번호를 입력해 로그인 합니다."
   ]
  },
  {
   "cell_type": "code",
   "execution_count": 19,
   "id": "21d8702f",
   "metadata": {
    "id": "21d8702f",
    "outputId": "07119e6a-c836-4950-b0a1-4855707e480a",
    "scrolled": true,
    "tags": []
   },
   "outputs": [
    {
     "data": {
      "text/plain": [
       "(235, b'2.7.0 Accepted')"
      ]
     },
     "execution_count": 19,
     "metadata": {},
     "output_type": "execute_result"
    }
   ],
   "source": [
    "# 라이브러리를 불러오기\n",
    "import smtplib\n",
    "from email.mime.text import MIMEText\n",
    "\n",
    "# smtp 주소\n",
    "s = smtplib.SMTP('smtp.gmail.com', 587)\n",
    "s.ehlo() # say hello\n",
    "\n",
    "# TLS 보안 시작\n",
    "s.starttls()\n",
    "\n",
    "# 로그인 인증\n",
    "s.login('meo4739@gmail.com', 'aidqqaamgyjkyvjv')\n",
    "# s.login('nneo4739.gmail.com', 'Vi8033xz!!')"
   ]
  },
  {
   "cell_type": "markdown",
   "id": "2c518105",
   "metadata": {
    "id": "2c518105"
   },
   "source": [
    "### 3단계: 이메일 내용 구성\n",
    "\n",
    "- 이메일 내용과 제목을 작성합니다."
   ]
  },
  {
   "cell_type": "code",
   "execution_count": 22,
   "id": "1569ef28",
   "metadata": {
    "id": "1569ef28",
    "tags": []
   },
   "outputs": [],
   "source": [
    "# 본문\n",
    "# msg = MIMEText('''\n",
    "# 내용\n",
    "# ''')\n",
    "\n",
    "msg = MIMEText('''\n",
    "멍청하면 시간이라도\n",
    "때려박자\n",
    "''')\n",
    "\n",
    "# 제목\n",
    "# msg['Subject'] = '제목'\n",
    "msg['Subject'] = '나에게 보내는 응원의 메세지'"
   ]
  },
  {
   "cell_type": "markdown",
   "id": "57ace93d",
   "metadata": {
    "id": "57ace93d"
   },
   "source": [
    "### 4 단계: 이메일 보내기\n",
    "\n",
    "- 발신자 주소와 수진자 주소를 입력하고 메일을 보냅니다."
   ]
  },
  {
   "cell_type": "code",
   "execution_count": 23,
   "id": "f0a17fad",
   "metadata": {
    "id": "f0a17fad",
    "outputId": "d8a8ea09-0e83-46df-e895-c833c161afbd",
    "tags": []
   },
   "outputs": [
    {
     "ename": "SMTPServerDisconnected",
     "evalue": "please run connect() first",
     "output_type": "error",
     "traceback": [
      "\u001b[1;31m---------------------------------------------------------------------------\u001b[0m",
      "\u001b[1;31mSMTPServerDisconnected\u001b[0m                    Traceback (most recent call last)",
      "Cell \u001b[1;32mIn[23], line 2\u001b[0m\n\u001b[0;32m      1\u001b[0m \u001b[38;5;66;03m# 메일 보내기\u001b[39;00m\n\u001b[1;32m----> 2\u001b[0m s\u001b[38;5;241m.\u001b[39msendmail(\u001b[38;5;124m'\u001b[39m\u001b[38;5;124mmeo4739@gmail.com\u001b[39m\u001b[38;5;124m'\u001b[39m, \u001b[38;5;124m'\u001b[39m\u001b[38;5;124mmeo4739@gmail.com\u001b[39m\u001b[38;5;124m'\u001b[39m, msg\u001b[38;5;241m.\u001b[39mas_string())\n\u001b[0;32m      3\u001b[0m s\u001b[38;5;241m.\u001b[39mquit()\n",
      "File \u001b[1;32m~\\anaconda3\\Lib\\smtplib.py:881\u001b[0m, in \u001b[0;36mSMTP.sendmail\u001b[1;34m(self, from_addr, to_addrs, msg, mail_options, rcpt_options)\u001b[0m\n\u001b[0;32m    879\u001b[0m     \u001b[38;5;28;01mfor\u001b[39;00m option \u001b[38;5;129;01min\u001b[39;00m mail_options:\n\u001b[0;32m    880\u001b[0m         esmtp_opts\u001b[38;5;241m.\u001b[39mappend(option)\n\u001b[1;32m--> 881\u001b[0m (code, resp) \u001b[38;5;241m=\u001b[39m \u001b[38;5;28mself\u001b[39m\u001b[38;5;241m.\u001b[39mmail(from_addr, esmtp_opts)\n\u001b[0;32m    882\u001b[0m \u001b[38;5;28;01mif\u001b[39;00m code \u001b[38;5;241m!=\u001b[39m \u001b[38;5;241m250\u001b[39m:\n\u001b[0;32m    883\u001b[0m     \u001b[38;5;28;01mif\u001b[39;00m code \u001b[38;5;241m==\u001b[39m \u001b[38;5;241m421\u001b[39m:\n",
      "File \u001b[1;32m~\\anaconda3\\Lib\\smtplib.py:545\u001b[0m, in \u001b[0;36mSMTP.mail\u001b[1;34m(self, sender, options)\u001b[0m\n\u001b[0;32m    542\u001b[0m             \u001b[38;5;28;01mraise\u001b[39;00m SMTPNotSupportedError(\n\u001b[0;32m    543\u001b[0m                 \u001b[38;5;124m'\u001b[39m\u001b[38;5;124mSMTPUTF8 not supported by server\u001b[39m\u001b[38;5;124m'\u001b[39m)\n\u001b[0;32m    544\u001b[0m     optionlist \u001b[38;5;241m=\u001b[39m \u001b[38;5;124m'\u001b[39m\u001b[38;5;124m \u001b[39m\u001b[38;5;124m'\u001b[39m \u001b[38;5;241m+\u001b[39m \u001b[38;5;124m'\u001b[39m\u001b[38;5;124m \u001b[39m\u001b[38;5;124m'\u001b[39m\u001b[38;5;241m.\u001b[39mjoin(options)\n\u001b[1;32m--> 545\u001b[0m \u001b[38;5;28mself\u001b[39m\u001b[38;5;241m.\u001b[39mputcmd(\u001b[38;5;124m\"\u001b[39m\u001b[38;5;124mmail\u001b[39m\u001b[38;5;124m\"\u001b[39m, \u001b[38;5;124m\"\u001b[39m\u001b[38;5;124mFROM:\u001b[39m\u001b[38;5;132;01m%s\u001b[39;00m\u001b[38;5;132;01m%s\u001b[39;00m\u001b[38;5;124m\"\u001b[39m \u001b[38;5;241m%\u001b[39m (quoteaddr(sender), optionlist))\n\u001b[0;32m    546\u001b[0m \u001b[38;5;28;01mreturn\u001b[39;00m \u001b[38;5;28mself\u001b[39m\u001b[38;5;241m.\u001b[39mgetreply()\n",
      "File \u001b[1;32m~\\anaconda3\\Lib\\smtplib.py:378\u001b[0m, in \u001b[0;36mSMTP.putcmd\u001b[1;34m(self, cmd, args)\u001b[0m\n\u001b[0;32m    374\u001b[0m     s \u001b[38;5;241m=\u001b[39m s\u001b[38;5;241m.\u001b[39mreplace(\u001b[38;5;124m'\u001b[39m\u001b[38;5;130;01m\\n\u001b[39;00m\u001b[38;5;124m'\u001b[39m, \u001b[38;5;124m'\u001b[39m\u001b[38;5;130;01m\\\\\u001b[39;00m\u001b[38;5;124mn\u001b[39m\u001b[38;5;124m'\u001b[39m)\u001b[38;5;241m.\u001b[39mreplace(\u001b[38;5;124m'\u001b[39m\u001b[38;5;130;01m\\r\u001b[39;00m\u001b[38;5;124m'\u001b[39m, \u001b[38;5;124m'\u001b[39m\u001b[38;5;130;01m\\\\\u001b[39;00m\u001b[38;5;124mr\u001b[39m\u001b[38;5;124m'\u001b[39m)\n\u001b[0;32m    375\u001b[0m     \u001b[38;5;28;01mraise\u001b[39;00m \u001b[38;5;167;01mValueError\u001b[39;00m(\n\u001b[0;32m    376\u001b[0m         \u001b[38;5;124mf\u001b[39m\u001b[38;5;124m'\u001b[39m\u001b[38;5;124mcommand and arguments contain prohibited newline characters: \u001b[39m\u001b[38;5;132;01m{\u001b[39;00ms\u001b[38;5;132;01m}\u001b[39;00m\u001b[38;5;124m'\u001b[39m\n\u001b[0;32m    377\u001b[0m     )\n\u001b[1;32m--> 378\u001b[0m \u001b[38;5;28mself\u001b[39m\u001b[38;5;241m.\u001b[39msend(\u001b[38;5;124mf\u001b[39m\u001b[38;5;124m'\u001b[39m\u001b[38;5;132;01m{\u001b[39;00ms\u001b[38;5;132;01m}\u001b[39;00m\u001b[38;5;132;01m{\u001b[39;00mCRLF\u001b[38;5;132;01m}\u001b[39;00m\u001b[38;5;124m'\u001b[39m)\n",
      "File \u001b[1;32m~\\anaconda3\\Lib\\smtplib.py:365\u001b[0m, in \u001b[0;36mSMTP.send\u001b[1;34m(self, s)\u001b[0m\n\u001b[0;32m    363\u001b[0m         \u001b[38;5;28;01mraise\u001b[39;00m SMTPServerDisconnected(\u001b[38;5;124m'\u001b[39m\u001b[38;5;124mServer not connected\u001b[39m\u001b[38;5;124m'\u001b[39m)\n\u001b[0;32m    364\u001b[0m \u001b[38;5;28;01melse\u001b[39;00m:\n\u001b[1;32m--> 365\u001b[0m     \u001b[38;5;28;01mraise\u001b[39;00m SMTPServerDisconnected(\u001b[38;5;124m'\u001b[39m\u001b[38;5;124mplease run connect() first\u001b[39m\u001b[38;5;124m'\u001b[39m)\n",
      "\u001b[1;31mSMTPServerDisconnected\u001b[0m: please run connect() first"
     ]
    }
   ],
   "source": [
    "# 메일 보내기\n",
    "s.sendmail('meo4739@gmail.com', 'meo4739@gmail.com', msg.as_string())\n",
    "s.quit()     "
   ]
  },
  {
   "cell_type": "code",
   "execution_count": 24,
   "id": "25be88ad-c48b-441b-a3e0-908c3116a4a7",
   "metadata": {
    "tags": []
   },
   "outputs": [
    {
     "data": {
      "text/plain": [
       "(221,\n",
       " b'2.0.0 closing connection v14-20020aa7850e000000b00679a4b56e41sm11882949pfn.43 - gsmtp')"
      ]
     },
     "execution_count": 24,
     "metadata": {},
     "output_type": "execute_result"
    }
   ],
   "source": [
    "## 통합\n",
    "\n",
    "\n",
    "\n",
    "import smtplib\n",
    "from email.mime.text import MIMEText\n",
    "\n",
    "\n",
    "# smtp 주소\n",
    "s = smtplib.SMTP('smtp.gmail.com', 587)\n",
    "s.ehlo() # say hello\n",
    "\n",
    "# TLS 보안 시작\n",
    "s.starttls()\n",
    "\n",
    "# 로그인 인증\n",
    "s.login('meo4739@gmail.com', 'aidqqaamgyjkyvjv')\n",
    "# s.login('nneo4739.gmail.com', 'Vi8033xz!!')\n",
    "\n",
    "\n",
    "# 본문\n",
    "# msg = MIMEText('''\n",
    "# 내용\n",
    "# ''')\n",
    "\n",
    "msg = MIMEText('''\n",
    "멍청하면 시간이라도\n",
    "때려박자\n",
    "''')\n",
    "\n",
    "# 제목\n",
    "# msg['Subject'] = '제목'\n",
    "msg['Subject'] = '나에게 보내는 응원의 메세지'\n",
    "\n",
    "\n",
    "\n",
    "# 메일 보내기\n",
    "s.sendmail('meo4739@gmail.com', 'meo4739@gmail.com', msg.as_string())\n",
    "s.quit()     "
   ]
  },
  {
   "cell_type": "code",
   "execution_count": null,
   "id": "3530f7a4-64d5-4671-8527-8e57a437981a",
   "metadata": {},
   "outputs": [],
   "source": []
  }
 ],
 "metadata": {
  "colab": {
   "collapsed_sections": [],
   "name": "12 - 이메일 보내기.ipynb",
   "provenance": [],
   "toc_visible": true
  },
  "kernelspec": {
   "display_name": "Python 3 (ipykernel)",
   "language": "python",
   "name": "python3"
  },
  "language_info": {
   "codemirror_mode": {
    "name": "ipython",
    "version": 3
   },
   "file_extension": ".py",
   "mimetype": "text/x-python",
   "name": "python",
   "nbconvert_exporter": "python",
   "pygments_lexer": "ipython3",
   "version": "3.11.4"
  }
 },
 "nbformat": 4,
 "nbformat_minor": 5
}
