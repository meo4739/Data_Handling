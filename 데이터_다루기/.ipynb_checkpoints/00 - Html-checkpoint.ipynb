{
 "cells": [
  {
   "cell_type": "markdown",
   "id": "40cd6a0c",
   "metadata": {},
   "source": [
    "<mark>하이라이트</mark>  \n",
    "\n",
    "*<mark>하이라이트</mark>*\n",
    "\n",
    "**<mark>하이라이트</mark>**"
   ]
  },
  {
   "cell_type": "markdown",
   "id": "a2066593",
   "metadata": {},
   "source": [
    "인용구\n",
    "> 인용구\n",
    ">> 인용구"
   ]
  },
  {
   "cell_type": "code",
   "execution_count": null,
   "id": "8b981cc2",
   "metadata": {},
   "outputs": [],
   "source": []
  }
 ],
 "metadata": {
  "kernelspec": {
   "display_name": "Python 3 (ipykernel)",
   "language": "python",
   "name": "python3"
  },
  "language_info": {
   "codemirror_mode": {
    "name": "ipython",
    "version": 3
   },
   "file_extension": ".py",
   "mimetype": "text/x-python",
   "name": "python",
   "nbconvert_exporter": "python",
   "pygments_lexer": "ipython3",
   "version": "3.11.4"
  }
 },
 "nbformat": 4,
 "nbformat_minor": 5
}
