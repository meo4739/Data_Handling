{
 "cells": [
  {
   "cell_type": "markdown",
   "metadata": {
    "id": "b3TDAdnvnSbh"
   },
   "source": [
    "<center><img src='https://raw.githubusercontent.com/Jangrae/img/master/title3.png' width=500/></center>"
   ]
  },
  {
   "cell_type": "markdown",
   "metadata": {
    "id": "4CichfZUx3z0"
   },
   "source": [
    "<center><img src='https://raw.githubusercontent.com/Jangrae/img/master/practice.png' width=300/></center>"
   ]
  },
  {
   "cell_type": "markdown",
   "metadata": {
    "id": "-SEyFxwm24aY"
   },
   "source": [
    "# 실습 #1: 기본 문자열 다루기"
   ]
  },
  {
   "cell_type": "markdown",
   "metadata": {
    "id": "ZweoqhKc4Mip"
   },
   "source": [
    "1) 문자열 '나는' 과 '너를...'을 붙여서 출력하세요."
   ]
  },
  {
   "cell_type": "code",
   "execution_count": 11,
   "metadata": {
    "id": "Vu6lXL3z24aY",
    "tags": []
   },
   "outputs": [
    {
     "name": "stdout",
     "output_type": "stream",
     "text": [
      "나는너를...\n",
      "나는너를...\n"
     ]
    }
   ],
   "source": [
    "print('나는'+'너를...')\n",
    "print('나는','너를...',sep='')\n"
   ]
  },
  {
   "cell_type": "markdown",
   "metadata": {
    "id": "AhDt0mx64N-B"
   },
   "source": [
    "2) 문자열 '나는'과 '너를...' 사이에 한 칸 띄어서 출력하세요."
   ]
  },
  {
   "cell_type": "code",
   "execution_count": 20,
   "metadata": {
    "id": "Cit_5fLj24aZ",
    "tags": []
   },
   "outputs": [
    {
     "name": "stdout",
     "output_type": "stream",
     "text": [
      "나는 너를\n",
      "나는 너를\n"
     ]
    }
   ],
   "source": [
    "print('나는','너를')\n",
    "print('나는' + ' ' + '너를')\n",
    "\n"
   ]
  },
  {
   "cell_type": "markdown",
   "metadata": {
    "id": "2tAHHR204UI9"
   },
   "source": [
    "3) '안녕하세요?' 3개와 '반갑습니다!' 2개를 하나의 print 함수로 출력하세요."
   ]
  },
  {
   "cell_type": "code",
   "execution_count": 30,
   "metadata": {
    "id": "nInJf9Qr24aZ",
    "tags": []
   },
   "outputs": [
    {
     "name": "stdout",
     "output_type": "stream",
     "text": [
      "안녕하세요? 안녕하세요? 안녕하세요? 반갑습니다! 반갑습니다! \n",
      "안녕하세요? 안녕하세요? 안녕하세요? 반갑습니다! 반갑습니다! \n"
     ]
    },
    {
     "data": {
      "text/plain": [
       "<function print(*args, sep=' ', end='\\n', file=None, flush=False)>"
      ]
     },
     "execution_count": 30,
     "metadata": {},
     "output_type": "execute_result"
    }
   ],
   "source": [
    "print('안녕하세요? '*3 + '반갑습니다! ' *2)\n",
    "print('안녕하세요? '* 3, '반갑습니다! '*2, sep='')\n",
    "print\n"
   ]
  },
  {
   "cell_type": "markdown",
   "metadata": {
    "id": "4otsnRqy5Fac"
   },
   "source": [
    "4) 변수 e에 임의의 숫자를 저장하고, 변수 f에 문자열 '안녕하세요?'를 저장하여 e 개 출력하세요."
   ]
  },
  {
   "cell_type": "code",
   "execution_count": 32,
   "metadata": {
    "id": "yzecGHGx24ab",
    "tags": []
   },
   "outputs": [
    {
     "name": "stdout",
     "output_type": "stream",
     "text": [
      "안녕하세요 안녕하세요 안녕하세요 \n"
     ]
    }
   ],
   "source": [
    "e=3\n",
    "print('안녕하세요 '*e)\n"
   ]
  },
  {
   "cell_type": "markdown",
   "metadata": {
    "id": "a16b2654"
   },
   "source": [
    "# 실습 #2: 문자열 인덱싱, 슬라이싱"
   ]
  },
  {
   "cell_type": "markdown",
   "metadata": {
    "id": "ypIKAIvHmABx"
   },
   "source": [
    "1) 변수 a에 '문자열을 다뤄 봅시다.'를 저장하고 두 번째 문자를 출력하세요."
   ]
  },
  {
   "cell_type": "code",
   "execution_count": 45,
   "metadata": {
    "id": "f250c4bc",
    "tags": []
   },
   "outputs": [
    {
     "data": {
      "text/plain": [
       "'자'"
      ]
     },
     "execution_count": 45,
     "metadata": {},
     "output_type": "execute_result"
    }
   ],
   "source": [
    "a = '문자열을 다뤄 봅시다'\n",
    "a[1]\n"
   ]
  },
  {
   "cell_type": "markdown",
   "metadata": {
    "id": "j3CQ18bgmNrq"
   },
   "source": [
    "2) 변수 a에 '문자열을 다뤄 봅시다.'를 저장하고 세 번째 부터 여섯 번째 문자까지 출력하세요."
   ]
  },
  {
   "cell_type": "code",
   "execution_count": 46,
   "metadata": {
    "id": "0de9e3ec",
    "tags": []
   },
   "outputs": [
    {
     "data": {
      "text/plain": [
       "'열을 다뤄'"
      ]
     },
     "execution_count": 46,
     "metadata": {},
     "output_type": "execute_result"
    }
   ],
   "source": [
    "a = '문자열을 다뤄 봅시다'\n",
    "a[2:7]\n",
    "\n",
    "\n",
    "\n"
   ]
  },
  {
   "cell_type": "markdown",
   "metadata": {
    "id": "S7zDWSn7mclU"
   },
   "source": [
    "3) 변수 a에 '문자열을 다뤄 봅시다.'를 저장하고 뒤에서 두 번째 문자를 출력하세요."
   ]
  },
  {
   "cell_type": "code",
   "execution_count": 48,
   "metadata": {
    "id": "61fea94c",
    "tags": []
   },
   "outputs": [
    {
     "data": {
      "text/plain": [
       "'시'"
      ]
     },
     "execution_count": 48,
     "metadata": {},
     "output_type": "execute_result"
    }
   ],
   "source": [
    "a = '문자열을 다뤄 봅시다'\n",
    "a[-2]\n",
    "\n",
    "\n"
   ]
  },
  {
   "cell_type": "markdown",
   "metadata": {
    "id": "ySBzKiDqmon6"
   },
   "source": [
    "4) 변수 a에 '문자열을 다뤄 봅시다.'를 저장하고 뒤에서 여섯 번째 부터 네 번째 문자까지 출력하세요."
   ]
  },
  {
   "cell_type": "code",
   "execution_count": 52,
   "metadata": {
    "id": "4b079f6f",
    "outputId": "5d7bdb63-8a27-464d-f343-2682dd132222",
    "tags": []
   },
   "outputs": [
    {
     "data": {
      "text/plain": [
       "'다뤄'"
      ]
     },
     "execution_count": 52,
     "metadata": {},
     "output_type": "execute_result"
    }
   ],
   "source": [
    "a = '문자열을 다뤄 봅시다'\n",
    "a[-6:-4]\n",
    "\n",
    "\n",
    "\n"
   ]
  },
  {
   "cell_type": "markdown",
   "metadata": {
    "id": "xHa98IcSnDv_"
   },
   "source": [
    "5) 변수 b에 '파이썬 배울수록 재미있죠?'를 저장하고 여섯 번째 부터 마지막 문자까지 출력하세요."
   ]
  },
  {
   "cell_type": "code",
   "execution_count": 53,
   "metadata": {
    "id": "b7eab123",
    "tags": []
   },
   "outputs": [
    {
     "data": {
      "text/plain": [
       "'록 재미있죠?'"
      ]
     },
     "execution_count": 53,
     "metadata": {},
     "output_type": "execute_result"
    }
   ],
   "source": [
    "b = '파이썬 배울수록 재미있죠?'\n",
    "b[7:]\n",
    "\n",
    "\n"
   ]
  },
  {
   "cell_type": "markdown",
   "metadata": {
    "id": "qx3FEXJ-nay3"
   },
   "source": [
    "6) 변수 b에 '파이썬 배울수록 재미있죠?'를 저장하고 맨 뒤 다섯 문자를 출력하세요."
   ]
  },
  {
   "cell_type": "code",
   "execution_count": 60,
   "metadata": {
    "id": "3db67d11",
    "tags": []
   },
   "outputs": [
    {
     "data": {
      "text/plain": [
       "'재미있죠?'"
      ]
     },
     "execution_count": 60,
     "metadata": {},
     "output_type": "execute_result"
    }
   ],
   "source": [
    "b = '파이썬 배울수록 재미있죠?'\n",
    "b[-5:]\n"
   ]
  },
  {
   "cell_type": "markdown",
   "metadata": {
    "id": "fa936313"
   },
   "source": [
    "# 실습 #3: in, not in"
   ]
  },
  {
   "cell_type": "markdown",
   "metadata": {
    "id": "Fn70HfQ9n9cR"
   },
   "source": [
    "1) 변수 a에 '문자열을 다뤄 봅시다.'를 저장하고 문자열에 '문'이라는 문자가 있는지 확인하세요.\n",
    "\n",
    "- 힌트: 문자 in 문자열"
   ]
  },
  {
   "cell_type": "code",
   "execution_count": 35,
   "metadata": {
    "id": "8be0b61c",
    "tags": []
   },
   "outputs": [
    {
     "name": "stdout",
     "output_type": "stream",
     "text": [
      "True\n"
     ]
    }
   ],
   "source": [
    "a = '문자열을 다뤄 봅시다'\n",
    "# '문' in a\n",
    "print('문' in a)"
   ]
  },
  {
   "cell_type": "markdown",
   "metadata": {
    "id": "a7N7LxW2oI_i"
   },
   "source": [
    "2) 변수 a에 '문자열을 다뤄 봅시다.'를 저장하고 문자열에 '만'이라는 문자가 없는지 확인하세요.\n",
    "\n",
    "- 힌트: 문자 not in 문자열"
   ]
  },
  {
   "cell_type": "code",
   "execution_count": 40,
   "metadata": {
    "id": "5128b300",
    "tags": []
   },
   "outputs": [
    {
     "name": "stdout",
     "output_type": "stream",
     "text": [
      "만이 없나? True\n",
      "문이 없나? False\n"
     ]
    }
   ],
   "source": [
    "a = '문자열을 다뤄 봅시다'\n",
    "# '만' in a\n",
    "print('만이 없나?','만' not in a)\n",
    "print('문이 없나?','문' not in a)"
   ]
  },
  {
   "cell_type": "markdown",
   "metadata": {
    "id": "A55ZWYGaoqf7"
   },
   "source": [
    "3) 변수 b에 '파이썬 배울수록 재미있죠?'를 저장하고 문자열에 '가'이라는 문자가 없는지 확인하세요."
   ]
  },
  {
   "cell_type": "code",
   "execution_count": 42,
   "metadata": {
    "id": "820a03c6",
    "tags": []
   },
   "outputs": [
    {
     "name": "stdout",
     "output_type": "stream",
     "text": [
      "가가 포함? False\n",
      "파이썬 포함? True\n"
     ]
    }
   ],
   "source": [
    "b = '파이썬 배울수록 재미있죠?'\n",
    "print('가가 포함?','가' in b)\n",
    "print('파이썬 포함?','파이썬' in b)\n"
   ]
  },
  {
   "cell_type": "markdown",
   "metadata": {
    "id": "d2d4b9cb"
   },
   "source": [
    "# 실습 #4: 문자열 안에 문자열 넣기"
   ]
  },
  {
   "cell_type": "markdown",
   "metadata": {
    "id": "OuKFea0Io91y"
   },
   "source": [
    "1) 변수 a에 {}를 넣은 문자열 '이름: {}, 나이: {}'를 저장하고 .format()으로 적당한 값을 넣어 출력하세요."
   ]
  },
  {
   "cell_type": "code",
   "execution_count": 67,
   "metadata": {
    "id": "e9a66c46",
    "tags": []
   },
   "outputs": [
    {
     "name": "stdout",
     "output_type": "stream",
     "text": [
      "이름:송주영, 나이:19\n"
     ]
    }
   ],
   "source": [
    "name = '송주영'\n",
    "age = 19\n",
    "print('이름:{}, 나이:{}'.format(name,age))"
   ]
  },
  {
   "cell_type": "markdown",
   "metadata": {
    "id": "ZRaFEi5FpM3T"
   },
   "source": [
    "2) 밖에서 선언한 변수 값을 문자열 안에 넣어서 출력해 봅니다.\n",
    "\n",
    "- 변수 name에는 이름, age에는 나이 값을 저장하고\n",
    "- 변수 a에는 f'문자열{변수}...' 형태를 사용해 위와 동일한 결과가 나오도록 출력하세요."
   ]
  },
  {
   "cell_type": "code",
   "execution_count": 68,
   "metadata": {
    "id": "f784c90c",
    "tags": []
   },
   "outputs": [
    {
     "name": "stdout",
     "output_type": "stream",
     "text": [
      "이름:송주영, 나이:19\n"
     ]
    }
   ],
   "source": [
    "name = '송주영'\n",
    "age = 19\n",
    "print(f'이름:{name}, 나이:{age}')"
   ]
  },
  {
   "cell_type": "markdown",
   "metadata": {
    "id": "ugtIwJWypolH"
   },
   "source": [
    "3) 변수 b에 {}를 넣은 문자열 '{}은(는) {}원입니다.'를 저장하고 .format()으로 적당한 값을 넣어 출력하세요."
   ]
  },
  {
   "cell_type": "code",
   "execution_count": 70,
   "metadata": {
    "id": "f0f820d1",
    "tags": []
   },
   "outputs": [
    {
     "name": "stdout",
     "output_type": "stream",
     "text": [
      "아메리카노은(는) 4000원입니다.\n"
     ]
    }
   ],
   "source": [
    "b = '{}은(는) {}원입니다.'\n",
    "print(b.format('아메리카노', 4000))"
   ]
  },
  {
   "cell_type": "markdown",
   "metadata": {
    "id": "kDdcwmVcqCx9"
   },
   "source": [
    "4) 밖에서 선언한 변수 값을 문자열 안에 넣어서 출력해 봅니다.\n",
    "\n",
    "- 변수 product에는 제품명, price에는 가격을 저정하고\n",
    "- 변수 b에는 f'문자열{변수}...' 형태를 사용해 위와 동일한 결과가 나오도록 출력하세요."
   ]
  },
  {
   "cell_type": "code",
   "execution_count": 75,
   "metadata": {
    "id": "e842dc6e",
    "tags": []
   },
   "outputs": [
    {
     "data": {
      "text/plain": [
       "'아메리카노은(는) 4000원입니다.'"
      ]
     },
     "execution_count": 75,
     "metadata": {},
     "output_type": "execute_result"
    }
   ],
   "source": [
    "product = '아메리카노'\n",
    "price = 4000\n",
    "b = f'{product}은(는) {price}원입니다.'\n",
    "b\n"
   ]
  },
  {
   "cell_type": "markdown",
   "metadata": {
    "id": "09124153"
   },
   "source": [
    "# 실습 #5: 여러 줄 문자열"
   ]
  },
  {
   "cell_type": "markdown",
   "metadata": {
    "id": "R596XVypqm-k"
   },
   "source": [
    "1) 아래와 같은 결과가 나오도록 변수 a에 문자열을 저장하고 출력하세요.\n",
    "\n",
    "\n",
    "        이름: 홍길동\n",
    "        나이: 48\n",
    "\n",
    "- 힌트: ''' '''를 사용해 봅시다."
   ]
  },
  {
   "cell_type": "code",
   "execution_count": 139,
   "metadata": {
    "id": "76dc675d",
    "tags": []
   },
   "outputs": [
    {
     "name": "stdout",
     "output_type": "stream",
     "text": [
      "이름 : 홍길동\n",
      "나이 : 48\n",
      "\n"
     ]
    }
   ],
   "source": [
    "a = '''이름 : 홍길동\n",
    "나이 : 48\n",
    "'''\n",
    "print(a)"
   ]
  },
  {
   "cell_type": "markdown",
   "metadata": {
    "id": "Vj6D9G9xq7Ap"
   },
   "source": [
    "2) 아래와 같은 결과가 나오도록 변수 b에 문자열을 저장하고 출력하세요.\n",
    "\n",
    "        [전화번호부]\n",
    "        강우동: 010-1234-5678\n",
    "        김치국: 010-2346-1578\n",
    "        한국인: 010-3458-6712"
   ]
  },
  {
   "cell_type": "code",
   "execution_count": 133,
   "metadata": {
    "id": "f4ed0ea9",
    "tags": []
   },
   "outputs": [
    {
     "name": "stdout",
     "output_type": "stream",
     "text": [
      "[전화번호부]\n",
      "강우동: 010-1234-5678\n",
      "김치국: 010-2346-1578\n",
      "한국인: 010-3458-6712\n",
      "\n"
     ]
    }
   ],
   "source": [
    "a = '''[전화번호부]\n",
    "강우동: 010-1234-5678\n",
    "김치국: 010-2346-1578\n",
    "한국인: 010-3458-6712\n",
    "'''\n",
    "print(a)\n",
    "\n"
   ]
  },
  {
   "cell_type": "markdown",
   "metadata": {
    "id": "9vHj-IAVrWoo"
   },
   "source": [
    "3) 아래와 같은 결과가 나오도록 변수 c에 f'''문자열{변수}...''' 형태를 사용해 문자열을 대입하여 출력하세요.\n",
    "\n",
    "- 단, 변수 product에 '아메리카노', count에 3, price에 4000을 대입합니다.\n",
    "\n",
    "\n",
    "        주문할게요.\n",
    "        아메리카노 3잔 주세요.\n",
    "        한 잔이 4000원 맞죠?\n"
   ]
  },
  {
   "cell_type": "code",
   "execution_count": 138,
   "metadata": {
    "id": "c9363f75",
    "tags": []
   },
   "outputs": [
    {
     "name": "stdout",
     "output_type": "stream",
     "text": [
      "주문할게요\n",
      "아메리카노 3잔 주세요.\n",
      "한 잔이 4000원 맞죠?\n",
      "\n"
     ]
    }
   ],
   "source": [
    "product = '아메리카노'\n",
    "count = 3\n",
    "price = 4000\n",
    "\n",
    "\n",
    "a=f'''주문할게요\n",
    "{product} {count}잔 주세요.\n",
    "한 잔이 {price}원 맞죠?\n",
    "'''\n",
    "print(a)"
   ]
  },
  {
   "cell_type": "code",
   "execution_count": 155,
   "metadata": {
    "tags": []
   },
   "outputs": [
    {
     "name": "stdout",
     "output_type": "stream",
     "text": [
      "주문할게요\n",
      "아메리카노 3잔 주세요.\n",
      "한 잔이 4000원 맞죠?\n",
      "\n"
     ]
    }
   ],
   "source": [
    "# 튜플 활용\n",
    "\n",
    "product, count, price = '아메리카노',3,4000\n",
    "\n",
    "\n",
    "a=f'''주문할게요\n",
    "{product} {count}잔 주세요.\n",
    "한 잔이 {price}원 맞죠?\n",
    "'''\n",
    "print(a)"
   ]
  },
  {
   "cell_type": "markdown",
   "metadata": {
    "id": "3ca22029"
   },
   "source": [
    "# 실습 #6: 문자열을 다루는 메서드들"
   ]
  },
  {
   "cell_type": "markdown",
   "metadata": {
    "id": "fUa4LHrHwiqL"
   },
   "source": [
    "1) 변수 a에 'I love you'를 저장하고 모든 문자를 대문자로 변환하여 출력하세요.\n",
    "\n",
    "- 힌트: 문자열.upper()"
   ]
  },
  {
   "cell_type": "code",
   "execution_count": 141,
   "metadata": {
    "id": "e264b89c",
    "tags": []
   },
   "outputs": [
    {
     "data": {
      "text/plain": [
       "'I LOVE YOU'"
      ]
     },
     "execution_count": 141,
     "metadata": {},
     "output_type": "execute_result"
    }
   ],
   "source": [
    "a='I love you'\n",
    "\n",
    "a.upper()\n"
   ]
  },
  {
   "cell_type": "markdown",
   "metadata": {
    "id": "ow9v0u8OwsUG"
   },
   "source": [
    "2) 변수 b에 'Life is a journey'를 저장하고 모든 문자를 대문자로 변환하여 출력하세요.\n"
   ]
  },
  {
   "cell_type": "code",
   "execution_count": 142,
   "metadata": {
    "id": "ac7705de",
    "tags": []
   },
   "outputs": [
    {
     "data": {
      "text/plain": [
       "'LIFE IS A JOURNEY'"
      ]
     },
     "execution_count": 142,
     "metadata": {},
     "output_type": "execute_result"
    }
   ],
   "source": [
    "b='Life is a journey'\n",
    "\n",
    "b.upper()"
   ]
  },
  {
   "cell_type": "markdown",
   "metadata": {
    "id": "XT1bJWCAw54x"
   },
   "source": [
    "3) 변수 a에 'I Love You'를 저장하고 모든 문자를 소문자로 변환하여 출력하세요\n",
    "\n",
    "- 힌트: 문자열.lower()"
   ]
  },
  {
   "cell_type": "code",
   "execution_count": 143,
   "metadata": {
    "id": "d63c2d46",
    "tags": []
   },
   "outputs": [
    {
     "data": {
      "text/plain": [
       "'i love you'"
      ]
     },
     "execution_count": 143,
     "metadata": {},
     "output_type": "execute_result"
    }
   ],
   "source": [
    "a='I Love You'\n",
    "\n",
    "a.lower()\n"
   ]
  },
  {
   "cell_type": "markdown",
   "metadata": {
    "id": "mjU0nIIJxIXY"
   },
   "source": [
    "4) 변수 b에 'LIFE is a JOURNEY'를 저장하고 모든 문자를 소문자로 변환하여 출력하세요.\n"
   ]
  },
  {
   "cell_type": "code",
   "execution_count": 144,
   "metadata": {
    "id": "3cfc5d69",
    "tags": []
   },
   "outputs": [
    {
     "data": {
      "text/plain": [
       "'life is a journey'"
      ]
     },
     "execution_count": 144,
     "metadata": {},
     "output_type": "execute_result"
    }
   ],
   "source": [
    "b='Life is a JOURNEY'\n",
    "\n",
    "b.lower()\n"
   ]
  },
  {
   "cell_type": "markdown",
   "metadata": {
    "id": "-9QJEfGmxRF_"
   },
   "source": [
    "5) 변수 a에 'i love you'를 저장하고 첫 번째 문자만 대문자로 변환하여 출력하세요.\n",
    "\n",
    "- 힌트: 문자열.capitalize()"
   ]
  },
  {
   "cell_type": "code",
   "execution_count": 145,
   "metadata": {
    "id": "b8aa66e3",
    "tags": []
   },
   "outputs": [
    {
     "data": {
      "text/plain": [
       "'I love you'"
      ]
     },
     "execution_count": 145,
     "metadata": {},
     "output_type": "execute_result"
    }
   ],
   "source": [
    "a='i love you'\n",
    "\n",
    "a.capitalize()\n"
   ]
  },
  {
   "cell_type": "markdown",
   "metadata": {
    "id": "2o_lvebqximw"
   },
   "source": [
    "6) 변수 b에 'Life Is A Journey'를 저장하고 첫 번째 문자만 대문자로, 나머지는 소문자로 변환하여 출력하세요.\n"
   ]
  },
  {
   "cell_type": "code",
   "execution_count": 146,
   "metadata": {
    "id": "838c5c43",
    "tags": []
   },
   "outputs": [
    {
     "data": {
      "text/plain": [
       "'Life is a journey'"
      ]
     },
     "execution_count": 146,
     "metadata": {},
     "output_type": "execute_result"
    }
   ],
   "source": [
    "b='Life Is a Journey'\n",
    "\n",
    "b.lower().capitalize()"
   ]
  },
  {
   "cell_type": "markdown",
   "metadata": {
    "id": "0_AJ6ODkx0gd"
   },
   "source": [
    "7) 리스트 a = ['사람', '코끼리', '낙타'] 일 때, 각각의 값 사이에 ', '이 들어가도록 a를 하나의 문자열로 결합하세요.\n",
    "\n",
    "- 힌트: 값 사이 들어갈 문자.join(리스트)"
   ]
  },
  {
   "cell_type": "code",
   "execution_count": 147,
   "metadata": {
    "id": "f6b4854c",
    "tags": []
   },
   "outputs": [
    {
     "data": {
      "text/plain": [
       "'사람,코끼리,낙타'"
      ]
     },
     "execution_count": 147,
     "metadata": {},
     "output_type": "execute_result"
    }
   ],
   "source": [
    "a = ['사람','코끼리','낙타']\n",
    "','.join(a)\n"
   ]
  },
  {
   "cell_type": "markdown",
   "metadata": {
    "id": "uLpCDkyyyBDo"
   },
   "source": [
    "8) 리스트 b = ['this', 'is', 'me']일 때, 각각의 값 사이에 공백(' ') 이 들어가도록 b를 하나의 값으로 결합하세요.\n"
   ]
  },
  {
   "cell_type": "code",
   "execution_count": 148,
   "metadata": {
    "id": "f93f337c",
    "tags": []
   },
   "outputs": [
    {
     "data": {
      "text/plain": [
       "'this is me'"
      ]
     },
     "execution_count": 148,
     "metadata": {},
     "output_type": "execute_result"
    }
   ],
   "source": [
    "b = ['this', 'is', 'me']\n",
    "' '.join(b)\n",
    "\n"
   ]
  },
  {
   "cell_type": "markdown",
   "metadata": {
    "id": "RVJh4EAWyMRi"
   },
   "source": [
    "9) 변수 a에 '나는 파이썬을 배우고 있다.'를 저장하고 공백을 기준으로 분할하여 리스트 형태로 출력하세요.\n",
    "\n",
    "- 힌트: 문자열.split(분할의 기준이 될 값)"
   ]
  },
  {
   "cell_type": "code",
   "execution_count": 149,
   "metadata": {
    "id": "99de1e4b",
    "tags": []
   },
   "outputs": [
    {
     "data": {
      "text/plain": [
       "['나는', '파이썬을', '배우고', '있다.']"
      ]
     },
     "execution_count": 149,
     "metadata": {},
     "output_type": "execute_result"
    }
   ],
   "source": [
    "a = '나는 파이썬을 배우고 있다.'\n",
    "a.split(' ')"
   ]
  },
  {
   "cell_type": "markdown",
   "metadata": {
    "id": "fgZ20YYWy09N"
   },
   "source": [
    "10) 변수 b에 '     홍길동     '을 저장하고 왼쪽, 오른쪽, 양쪽 공백을 제거하여 각각 출력하세요.\n",
    "\n",
    "- 힌트: 문자열.lstrip(), 문자열.rstrip(), 문자열.strip()"
   ]
  },
  {
   "cell_type": "code",
   "execution_count": 154,
   "metadata": {
    "id": "0d07c7c6",
    "tags": []
   },
   "outputs": [
    {
     "name": "stdout",
     "output_type": "stream",
     "text": [
      "홍길동 \n",
      " 홍길동\n",
      "홍길동\n"
     ]
    }
   ],
   "source": [
    "b = ' 홍길동 '\n",
    "print(b.lstrip())\n",
    "print(b.rstrip())\n",
    "print(b.strip())\n"
   ]
  },
  {
   "cell_type": "code",
   "execution_count": null,
   "metadata": {},
   "outputs": [],
   "source": []
  }
 ],
 "metadata": {
  "colab": {
   "provenance": []
  },
  "kernelspec": {
   "display_name": "Python 3 (ipykernel)",
   "language": "python",
   "name": "python3"
  },
  "language_info": {
   "codemirror_mode": {
    "name": "ipython",
    "version": 3
   },
   "file_extension": ".py",
   "mimetype": "text/x-python",
   "name": "python",
   "nbconvert_exporter": "python",
   "pygments_lexer": "ipython3",
   "version": "3.11.4"
  }
 },
 "nbformat": 4,
 "nbformat_minor": 4
}
