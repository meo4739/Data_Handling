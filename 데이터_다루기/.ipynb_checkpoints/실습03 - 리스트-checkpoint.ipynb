{
 "cells": [
  {
   "cell_type": "markdown",
   "metadata": {
    "id": "b3TDAdnvnSbh"
   },
   "source": [
    "<center><img src='https://raw.githubusercontent.com/Jangrae/img/master/title3.png' width=500/></center>"
   ]
  },
  {
   "cell_type": "markdown",
   "metadata": {
    "id": "mDCfW4_-1Y_x"
   },
   "source": [
    "<center><img src='https://raw.githubusercontent.com/Jangrae/img/master/practice.png' width=300/></center>"
   ]
  },
  {
   "cell_type": "markdown",
   "metadata": {
    "id": "32779570"
   },
   "source": [
    "# 실습 #1: 리스트 생성하기"
   ]
  },
  {
   "cell_type": "markdown",
   "metadata": {
    "id": "YsczyFXrCcHJ"
   },
   "source": [
    "1) 리스트 a에 1, 2, 3, 4, 5를 저장하고 출력하세요."
   ]
  },
  {
   "cell_type": "code",
   "execution_count": 3,
   "metadata": {
    "id": "060a7ef0",
    "tags": []
   },
   "outputs": [
    {
     "data": {
      "text/plain": [
       "[1, 2, 3, 4, 5]"
      ]
     },
     "execution_count": 3,
     "metadata": {},
     "output_type": "execute_result"
    }
   ],
   "source": [
    "a=[1,2,3,4,5]\n",
    "a"
   ]
  },
  {
   "cell_type": "markdown",
   "metadata": {
    "id": "8hkGME6GCg-r"
   },
   "source": [
    "2) 리스트 b에 'ab', 'cd', 'ef'를 저장하고 출력하세요."
   ]
  },
  {
   "cell_type": "code",
   "execution_count": 4,
   "metadata": {
    "id": "b9a33756",
    "tags": []
   },
   "outputs": [
    {
     "data": {
      "text/plain": [
       "['bc', 'cd', 'ef']"
      ]
     },
     "execution_count": 4,
     "metadata": {},
     "output_type": "execute_result"
    }
   ],
   "source": [
    "b=['bc','cd','ef']\n",
    "b\n",
    "\n"
   ]
  },
  {
   "cell_type": "markdown",
   "metadata": {
    "id": "KCBlca7RC9Oz"
   },
   "source": [
    "3) 리스트 c에 123, 'ab', 45, 'cde'를 저장하고 출력하세요."
   ]
  },
  {
   "cell_type": "code",
   "execution_count": 6,
   "metadata": {
    "id": "e3a434ab",
    "tags": []
   },
   "outputs": [
    {
     "data": {
      "text/plain": [
       "[123, 'ab', 45, 'cde']"
      ]
     },
     "execution_count": 6,
     "metadata": {},
     "output_type": "execute_result"
    }
   ],
   "source": [
    "c = [123,'ab',45,'cde']\n",
    "c\n"
   ]
  },
  {
   "cell_type": "markdown",
   "metadata": {
    "id": "fFMeIxCnC_fL"
   },
   "source": [
    "4) 리스트 list_a에 1, 3, 5, 7, 9를, 리스트 list_b에 1, 'a', 3, 'b'를 저장하고 각각의 리스트를 출력하세요."
   ]
  },
  {
   "cell_type": "code",
   "execution_count": 7,
   "metadata": {
    "id": "47158015",
    "tags": []
   },
   "outputs": [
    {
     "name": "stdout",
     "output_type": "stream",
     "text": [
      "[1, 3, 5, 7, 9]\n",
      "[1, 'a', 3, 'b']\n"
     ]
    }
   ],
   "source": [
    "list_a = [1,3,5,7,9]\n",
    "list_b = [1, 'a', 3, 'b']\n",
    "\n",
    "print(list_a)\n",
    "print(list_b)\n"
   ]
  },
  {
   "cell_type": "markdown",
   "metadata": {
    "id": "V2M5sylfDBsd"
   },
   "source": [
    "5) range() 함수를 사용하여 0부터 20까지의 값들을 리스트 d에 저장하고 출력하세요."
   ]
  },
  {
   "cell_type": "code",
   "execution_count": 14,
   "metadata": {
    "id": "58dbcc58",
    "tags": []
   },
   "outputs": [
    {
     "name": "stdout",
     "output_type": "stream",
     "text": [
      "[0, 1, 2, 3, 4, 5, 6, 7, 8, 9, 10, 11, 12, 13, 14, 15, 16, 17, 18, 19, 20]\n"
     ]
    }
   ],
   "source": [
    "d = list(range(0,21))\n",
    "print(d)\n"
   ]
  },
  {
   "cell_type": "markdown",
   "metadata": {
    "id": "q-wOdj_0DEA2"
   },
   "source": [
    "6) range() 함수를 사용하여 1부터 19까지 3씩 증가시킨 값들을 리스트 list_c에 저장하고 출력하세요."
   ]
  },
  {
   "cell_type": "code",
   "execution_count": 17,
   "metadata": {
    "id": "64c8475f",
    "tags": []
   },
   "outputs": [
    {
     "data": {
      "text/plain": [
       "[1, 4, 7, 10, 13, 16, 19]"
      ]
     },
     "execution_count": 17,
     "metadata": {},
     "output_type": "execute_result"
    }
   ],
   "source": [
    "list_c = list(range(1,20,3))\n",
    "list_c"
   ]
  },
  {
   "cell_type": "markdown",
   "metadata": {
    "id": "V1wO-_JrDF2G"
   },
   "source": [
    "7) 리스트 list_d에 1, 2, 3을 저장한 뒤, 리스트 list_e에 리스트 list_d와 4, 5를 저장하고 출력하세요.\n"
   ]
  },
  {
   "cell_type": "code",
   "execution_count": 18,
   "metadata": {
    "id": "9b35e90a",
    "tags": []
   },
   "outputs": [
    {
     "name": "stdout",
     "output_type": "stream",
     "text": [
      "[1, 2, 3]\n",
      "[4, 5]\n"
     ]
    }
   ],
   "source": [
    "list_d = [1,2,3]\n",
    "list_e = [4,5]\n",
    "\n",
    "print(list_d)\n",
    "print(list_e)\n"
   ]
  },
  {
   "cell_type": "markdown",
   "metadata": {
    "id": "biFIvEzXDL31"
   },
   "source": [
    "8) 리스트 list1에 1, 3, 'hello'를 저장한 뒤, 리스트 list2에 리스트 list1과 'happy', 2, 4를 저장하고 출력하세요."
   ]
  },
  {
   "cell_type": "code",
   "execution_count": 128,
   "metadata": {
    "id": "e8dd7b92",
    "tags": []
   },
   "outputs": [
    {
     "data": {
      "text/plain": [
       "[1, 3, 'hello', 'happy', 2, 4]"
      ]
     },
     "execution_count": 128,
     "metadata": {},
     "output_type": "execute_result"
    }
   ],
   "source": [
    "list1 = [1,3,'hello']\n",
    "list2 = list1 + ['happy',2,4]\n",
    "list2"
   ]
  },
  {
   "cell_type": "markdown",
   "metadata": {
    "id": "415e0083"
   },
   "source": [
    "# 실습 #2: 리스트 인덱싱과 슬라이싱"
   ]
  },
  {
   "cell_type": "markdown",
   "metadata": {
    "id": "Mc1z9yJFDReh"
   },
   "source": [
    "1) 리스트 list1에 1, 2, 3, 4, 5를 저장하고, 첫 번째 값과 마지막 값을 각각 출력하세요."
   ]
  },
  {
   "cell_type": "code",
   "execution_count": 47,
   "metadata": {
    "id": "66a0e92f",
    "tags": []
   },
   "outputs": [
    {
     "name": "stdout",
     "output_type": "stream",
     "text": [
      "1\n",
      "5\n"
     ]
    }
   ],
   "source": [
    "list = [1,2,3,4,5]\n",
    "print(list[0])\n",
    "print(list[-1])"
   ]
  },
  {
   "cell_type": "markdown",
   "metadata": {
    "id": "Edf2Hk6gDTPa"
   },
   "source": [
    "2) 리스트 a에 23, 3, 16, 45, 11을 저장하고 다음 값을 출력하세요. \n",
    "\n",
    "- 앞에서부터 첫 번째 값과 네 번째 값을 하나의 print 함수로 출력\n",
    "- 뒤에서부터 첫 번째 값과 세 번째 값을 하나의 print 함수로 출력"
   ]
  },
  {
   "cell_type": "code",
   "execution_count": 88,
   "metadata": {
    "id": "5314564e",
    "tags": []
   },
   "outputs": [
    {
     "name": "stdout",
     "output_type": "stream",
     "text": [
      "23 45\n",
      "11 16\n"
     ]
    }
   ],
   "source": [
    "a = [23,3,16,45,11]\n",
    "print(a[0], a[3])\n",
    "print(a[-1], a[-3])\n",
    "\n",
    "\n"
   ]
  },
  {
   "cell_type": "markdown",
   "metadata": {
    "id": "V5OQVcVDDXIc"
   },
   "source": [
    "3) 리스트 a에 23, 3, 16, 45, 11을 저장하고, 첫 번째 값부터 세 번째 값까지 출력하세요.\n"
   ]
  },
  {
   "cell_type": "code",
   "execution_count": 55,
   "metadata": {
    "id": "90ab75d3",
    "tags": []
   },
   "outputs": [
    {
     "data": {
      "text/plain": [
       "[23, 3, 16, 45]"
      ]
     },
     "execution_count": 55,
     "metadata": {},
     "output_type": "execute_result"
    }
   ],
   "source": [
    "a = [23,3,16,45,11]\n",
    "a[0:4]\n",
    "\n",
    "\n"
   ]
  },
  {
   "cell_type": "markdown",
   "metadata": {
    "id": "Nb3jpaaADa32"
   },
   "source": [
    "4) 리스트 a에 23, 3, 16, 45, 11을 저장하고, 세 번째 값부터 마지막 값까지 출력하세요."
   ]
  },
  {
   "cell_type": "code",
   "execution_count": 63,
   "metadata": {
    "id": "a1dba84a",
    "tags": []
   },
   "outputs": [
    {
     "data": {
      "text/plain": [
       "[16, 45, 11]"
      ]
     },
     "execution_count": 63,
     "metadata": {},
     "output_type": "execute_result"
    }
   ],
   "source": [
    "a = [23,3,16,45,11]\n",
    "a[2]\n",
    "a[2:len(a)]\n"
   ]
  },
  {
   "cell_type": "markdown",
   "metadata": {
    "id": "MvEBm_5fDeSv"
   },
   "source": [
    "5) 리스트 a에 23, 3, 16, 45, 11을 저장하고, 아래 예시와 같이 출력하세요.\n",
    "\n",
    "- 첫 번째 줄은 순방향 인덱싱과 슬라이싱을 사용하세요.\n",
    "- 두 번째 줄은 역방향 인덱싱과 슬라이싱을 사용하세요.\n",
    "~~~\n",
    "[3, 16, 45] [23, 3, 16] [16, 45] [16, 45, 11]\n",
    "[16, 45] [] [16, 45, 11] [23]\n",
    "~~~"
   ]
  },
  {
   "cell_type": "code",
   "execution_count": 86,
   "metadata": {
    "id": "a429fba0",
    "tags": []
   },
   "outputs": [
    {
     "name": "stdout",
     "output_type": "stream",
     "text": [
      "[16, 45, 11] [23, 3, 16] [16, 45] [16, 45, 11]\n",
      "[16, 45] [] [16, 45, 11] [23]\n"
     ]
    }
   ],
   "source": [
    "a = [23,3,16,45,11]\n",
    "print(a[2:5], a[0:3], a[2:len(a)-1], a[2:len(a)])\n",
    "\n",
    "print(a[-3:-1],a[-1:-1],a[-3:],[a[-5]])\n",
    "\n"
   ]
  },
  {
   "cell_type": "markdown",
   "metadata": {
    "id": "fc048fc3"
   },
   "source": [
    "# 실습 #3: 리스트 수정하기"
   ]
  },
  {
   "cell_type": "markdown",
   "metadata": {
    "id": "UxI2odLADj_D"
   },
   "source": [
    "1) 리스트 a에 23, 3, 16, 45, 11을 저장한 뒤 append()를 사용하여 99를 추가하세요.\n",
    "- 힌트: 리스트.append(추가할 값)"
   ]
  },
  {
   "cell_type": "code",
   "execution_count": 1,
   "metadata": {
    "id": "24ec8803"
   },
   "outputs": [
    {
     "name": "stdout",
     "output_type": "stream",
     "text": [
      "a 타입 :  <class 'list'>\n"
     ]
    },
    {
     "data": {
      "text/plain": [
       "[23, 6, 16, 45, 11, 99]"
      ]
     },
     "execution_count": 1,
     "metadata": {},
     "output_type": "execute_result"
    }
   ],
   "source": [
    "a = [23, 6, 16, 45, 11]\n",
    "print('a 타입 : ', type(a))\n",
    "a.append(99)\n",
    "a"
   ]
  },
  {
   "cell_type": "markdown",
   "metadata": {
    "id": "Z54kSDZCDnS1"
   },
   "source": [
    "2) 리스트 a에 23, 3, 16, 45, 11을 저장하고, append()로 99를 추가한 뒤, 리스트 + 리스트 형태를 사용하여 100을 추가하세요."
   ]
  },
  {
   "cell_type": "code",
   "execution_count": 2,
   "metadata": {
    "id": "ff826916"
   },
   "outputs": [
    {
     "name": "stdout",
     "output_type": "stream",
     "text": [
      "a 타입 :  <class 'list'>\n"
     ]
    },
    {
     "data": {
      "text/plain": [
       "[23, 6, 16, 45, 11, 99, 100]"
      ]
     },
     "execution_count": 2,
     "metadata": {},
     "output_type": "execute_result"
    }
   ],
   "source": [
    "a = [23, 6, 16, 45, 11]\n",
    "print('a 타입 : ', type(a))\n",
    "a.append(99)\n",
    "b = [100]\n",
    "a = a + b\n",
    "a"
   ]
  },
  {
   "cell_type": "markdown",
   "metadata": {
    "id": "KpVyu8wZDxCc"
   },
   "source": [
    "3) 리스트 list1에 1, 3, 5, 7을, 리스트 list2에 2, 4, 8을 저장하고, list1의 두 번째 값을 list2에 추가하세요."
   ]
  },
  {
   "cell_type": "code",
   "execution_count": 98,
   "metadata": {
    "id": "6d06df73"
   },
   "outputs": [
    {
     "name": "stdout",
     "output_type": "stream",
     "text": [
      "list1 [1, 3, 5, 7]\n",
      "list2 [2, 4, 8]\n"
     ]
    },
    {
     "data": {
      "text/plain": [
       "[2, 4, 8, 3]"
      ]
     },
     "execution_count": 98,
     "metadata": {},
     "output_type": "execute_result"
    }
   ],
   "source": [
    "list1 = [1, 3, 5, 7]\n",
    "list2 = [2, 4, 8]\n",
    "\n",
    "print('list1',list1)\n",
    "print('list2',list2)\n",
    "list2.append(list1[1])\n",
    "list2"
   ]
  },
  {
   "cell_type": "markdown",
   "metadata": {
    "id": "iyxySbePD7l8"
   },
   "source": [
    "4) 리스트 list1에 1, 3, 5, 7을, 리스트 list2에 2, 4, 8을 저장하고 list2에 list1를 추가하세요.\n",
    "\n",
    "- 단, 리스트 + 리스트 형태를 사용하세요."
   ]
  },
  {
   "cell_type": "code",
   "execution_count": 103,
   "metadata": {
    "id": "6fbba8ef",
    "scrolled": true
   },
   "outputs": [
    {
     "data": {
      "text/plain": [
       "[2, 4, 8, 1, 3, 5, 7]"
      ]
     },
     "execution_count": 103,
     "metadata": {},
     "output_type": "execute_result"
    }
   ],
   "source": [
    "list1 = [1,3,5,7]\n",
    "list2 = [2,4,8]\n",
    "list2 = list2 + list1\n",
    "list2"
   ]
  },
  {
   "cell_type": "markdown",
   "metadata": {
    "id": "0Vbs7N5mEIHt"
   },
   "source": [
    "5) 리스트 a에 23, 3, 16, 45, 11을 저장하고 두 번째 값을 출력한 뒤 300으로 수정하고 다시 출력하세요.\n",
    "- 힌트: 리스트[수정 대상 인덱스] = 수정할 값\n"
   ]
  },
  {
   "cell_type": "code",
   "execution_count": 109,
   "metadata": {
    "id": "2d72f156"
   },
   "outputs": [
    {
     "name": "stdout",
     "output_type": "stream",
     "text": [
      "두 번째 값 3\n",
      "수정된 두 번째 값 300\n"
     ]
    },
    {
     "data": {
      "text/plain": [
       "[23, 300, 16, 45, 11]"
      ]
     },
     "execution_count": 109,
     "metadata": {},
     "output_type": "execute_result"
    }
   ],
   "source": [
    "list_a = [23,3,16,45,11]\n",
    "print('두 번째 값', list_a[1])\n",
    "list_a[1] = 300\n",
    "print('수정된 두 번째 값', list_a[1])\n",
    "list_a"
   ]
  },
  {
   "cell_type": "markdown",
   "metadata": {
    "id": "ZdTV8guzERIv"
   },
   "source": [
    "6) 리스트 a에 23, 3, 16, 45, 11을 저장하고 리스트의 마지막 값을 출력한 뒤 두 배의 값으로 수정하세요."
   ]
  },
  {
   "cell_type": "code",
   "execution_count": 104,
   "metadata": {
    "id": "81cbdd17"
   },
   "outputs": [
    {
     "name": "stdout",
     "output_type": "stream",
     "text": [
      "마지막 요소 11\n",
      "<class 'int'>\n",
      "수정된 마지막 요소 22\n"
     ]
    }
   ],
   "source": [
    "list_a = [23, 3, 16, 45, 11]\n",
    "print('마지막 요소', list_a[-1])\n",
    "print(type(list_a[-1]))\n",
    "list_a[-1] = list_a[-1]*2\n",
    "\n",
    "print('수정된 마지막 요소',list_a[-1])\n"
   ]
  },
  {
   "cell_type": "markdown",
   "metadata": {
    "id": "iDjXzN-dEXyM"
   },
   "source": [
    "7) 리스트 a에 23, 3, 16, 45, 11을 저장하고 두 번째 값을 삭제하세요.\n",
    "- 힌트: del 리스트[삭제 대상 인덱스]"
   ]
  },
  {
   "cell_type": "code",
   "execution_count": 15,
   "metadata": {
    "id": "90ba61fa"
   },
   "outputs": [
    {
     "name": "stdout",
     "output_type": "stream",
     "text": [
      "[23, 3, 16, 45, 11]\n",
      "[23, 16, 45, 11]\n"
     ]
    }
   ],
   "source": [
    "list_a = [23, 3, 16, 45, 11]\n",
    "print(list_a)\n",
    "\n",
    "del(list_a[1])\n",
    "print(list_a)\n"
   ]
  },
  {
   "cell_type": "markdown",
   "metadata": {
    "id": "f17e9774"
   },
   "source": [
    "# 실습 #4: 리스트 관련 함수와 메소드"
   ]
  },
  {
   "cell_type": "markdown",
   "metadata": {
    "id": "CdLp0KdNEnjM"
   },
   "source": [
    "1) 리스트 list2에 1부터 20까지 3씩 증가하는 값들을 저장하고, 리스트 값들의 개수를 구하세요.\n",
    "\n",
    "- 힌트: len(리스트 이름)\n"
   ]
  },
  {
   "cell_type": "code",
   "execution_count": 110,
   "metadata": {
    "id": "4ed258ee"
   },
   "outputs": [
    {
     "name": "stdout",
     "output_type": "stream",
     "text": [
      "list2 [1, 4, 7, 10, 13, 16, 19]\n",
      "lst2 개수 7\n"
     ]
    }
   ],
   "source": [
    "list2 = list(range(1,20,3))\n",
    "print('list2',list2)\n",
    "print('lst2 개수', len(list2))\n"
   ]
  },
  {
   "cell_type": "markdown",
   "metadata": {
    "id": "D3gEiM3yErZe"
   },
   "source": [
    "2) 리스트 list3에 'python', 'is', 'funny'를 저장하고, 리스트 값들의 개수를 구하세요."
   ]
  },
  {
   "cell_type": "code",
   "execution_count": 14,
   "metadata": {
    "id": "1988b7bd"
   },
   "outputs": [
    {
     "name": "stdout",
     "output_type": "stream",
     "text": [
      "list3 개수 3\n"
     ]
    }
   ],
   "source": [
    "list3 = ['python','is','funny']\n",
    "print('list3 개수',len(list3))\n"
   ]
  },
  {
   "cell_type": "markdown",
   "metadata": {
    "id": "OrH9KDP7Ey4z"
   },
   "source": [
    "3) 리스트 list1에 1 ~ 100 중 7의 배수를 저장하고, 리스트 값들의 합을 구하세요.\n",
    "\n",
    "- 힌트: sum(리스트 이름)"
   ]
  },
  {
   "cell_type": "code",
   "execution_count": 131,
   "metadata": {
    "id": "0f4c7544"
   },
   "outputs": [
    {
     "name": "stdout",
     "output_type": "stream",
     "text": [
      "list1 [7, 14, 21, 28, 35, 42, 49, 56, 63, 70, 77, 84, 91, 98] <class 'list'>\n",
      "list1 합 735\n"
     ]
    }
   ],
   "source": [
    "list1 = list(range(7,100,7))\n",
    "print('list1', list1, type(list1))\n",
    "print('list1 합', sum(list1))"
   ]
  },
  {
   "cell_type": "markdown",
   "metadata": {
    "id": "K5P8icaRFJqw"
   },
   "source": [
    "4) 리스트 list1에 10, 20, 30, 40, 50을 저장하고, list1의 자료형을 확인하세요.\n",
    "\n",
    "- 힌트: type(자료형)\n"
   ]
  },
  {
   "cell_type": "code",
   "execution_count": 50,
   "metadata": {
    "id": "233391f7"
   },
   "outputs": [
    {
     "name": "stdout",
     "output_type": "stream",
     "text": [
      "list1 타입 <class 'list'>\n"
     ]
    }
   ],
   "source": [
    "list1 = [10, 20, 30, 40, 50]\n",
    "print('list1 타입',type(list1))\n",
    "\n",
    "\n"
   ]
  },
  {
   "cell_type": "markdown",
   "metadata": {
    "id": "mRSakjfgFT4l"
   },
   "source": [
    "5)) 리스트에서는 평균을 구하는 함수가 제공되지 않습니다.\n",
    "\n",
    "- 리스트 num = [10, 21, 34, 47, 53]일 때, num의 평균을 계산하여 출력하세요."
   ]
  },
  {
   "cell_type": "code",
   "execution_count": 63,
   "metadata": {
    "id": "00947959"
   },
   "outputs": [
    {
     "name": "stdout",
     "output_type": "stream",
     "text": [
      "num 평균 33.0\n"
     ]
    }
   ],
   "source": [
    "num = [10, 21, 34, 47, 53]\n",
    "print('num 평균', sum(num)/len(num))\n",
    "\n"
   ]
  },
  {
   "cell_type": "markdown",
   "metadata": {
    "id": "23X8SittFn6I"
   },
   "source": [
    "6) 리스트 list1에 10, 20, 30, 40, 50을 저장하고, 맨 끝에 60을 추가하세요."
   ]
  },
  {
   "cell_type": "code",
   "execution_count": 52,
   "metadata": {
    "id": "45f38846"
   },
   "outputs": [
    {
     "data": {
      "text/plain": [
       "[10, 20, 30, 40, 50, 60]"
      ]
     },
     "execution_count": 52,
     "metadata": {},
     "output_type": "execute_result"
    }
   ],
   "source": [
    "list1 = [10, 20, 30, 40, 50]\n",
    "list1.append(60)\n",
    "list1\n"
   ]
  },
  {
   "cell_type": "markdown",
   "metadata": {
    "id": "SJCxCEP0Fv5c"
   },
   "source": [
    "7) 리스트 list3에 'python', 'is', 'funny'를 저장하고, 맨 끝에 '~', '!' 을 차례대로 추가하세요."
   ]
  },
  {
   "cell_type": "code",
   "execution_count": 56,
   "metadata": {
    "id": "7d34a796"
   },
   "outputs": [
    {
     "data": {
      "text/plain": [
       "['python', 'is', 'funny', '~', '!']"
      ]
     },
     "execution_count": 56,
     "metadata": {},
     "output_type": "execute_result"
    }
   ],
   "source": [
    "list3 = ['python', 'is','funny']\n",
    "list3.append('~')\n",
    "list3.append('!')\n",
    "list3\n",
    "\n"
   ]
  },
  {
   "cell_type": "markdown",
   "metadata": {
    "id": "D2z7mynEF8vz"
   },
   "source": [
    "8) 리스트 list1에 10, 20, 30, 40, 50을 저장하고 세 번째 위치에 60을 추가하세요.\n",
    "- 힌트: 리스트 이름.insert(추가할 위치의 인덱스 값, 추가할 값)"
   ]
  },
  {
   "cell_type": "code",
   "execution_count": 58,
   "metadata": {
    "id": "60d29e0b"
   },
   "outputs": [
    {
     "data": {
      "text/plain": [
       "[10, 20, 60, 30, 40, 50]"
      ]
     },
     "execution_count": 58,
     "metadata": {},
     "output_type": "execute_result"
    }
   ],
   "source": [
    "list1 = [10,20,30,40,50]\n",
    "list1.insert(2,60)\n",
    "list1\n",
    "\n"
   ]
  },
  {
   "cell_type": "markdown",
   "metadata": {
    "id": "2UytxYVmGFH4"
   },
   "source": [
    "9) 리스트 list1에 10, 20, 30, 40, 50을 저장하고, 30을 삭제하세요.\n",
    "\n",
    "- 힌트: 리스트 이름.remove(삭제할 값)"
   ]
  },
  {
   "cell_type": "code",
   "execution_count": 71,
   "metadata": {
    "id": "305935aa"
   },
   "outputs": [
    {
     "data": {
      "text/plain": [
       "[10, 20, 40, 50]"
      ]
     },
     "execution_count": 71,
     "metadata": {},
     "output_type": "execute_result"
    }
   ],
   "source": [
    "list1 = [10,20,30,40,50]\n",
    "\n",
    "list1.remove(30)\n",
    "list1"
   ]
  },
  {
   "cell_type": "markdown",
   "metadata": {
    "id": "GN7mCHa-GK-x"
   },
   "source": [
    "10) 리스트 list2에 1부터 20까지 3씩 증가하는 값들을 저장하고, 뒤에서 세 번째 값을 삭제하세요."
   ]
  },
  {
   "cell_type": "code",
   "execution_count": 67,
   "metadata": {
    "id": "c0c2c69b"
   },
   "outputs": [
    {
     "name": "stdout",
     "output_type": "stream",
     "text": [
      "[1, 4, 7, 10, 13, 16, 19]\n",
      "[1, 4, 7, 10, 16, 19]\n"
     ]
    }
   ],
   "source": [
    "list2 = list(range(1,20,3))\n",
    "print(list2)\n",
    "list2.pop(-3)\n",
    "print(list2)"
   ]
  },
  {
   "cell_type": "markdown",
   "metadata": {
    "id": "qjGi__UFGQp-"
   },
   "source": [
    "11) 리스트 a = [1, 4, 3, 2]일 때 리스트의 값들을 오름차순으로 정렬해서 출력하세요.\n",
    "\n",
    "- 힌트: 리스트 이름.sort()"
   ]
  },
  {
   "cell_type": "code",
   "execution_count": 69,
   "metadata": {
    "id": "39c77831"
   },
   "outputs": [
    {
     "data": {
      "text/plain": [
       "[1, 2, 3, 4]"
      ]
     },
     "execution_count": 69,
     "metadata": {},
     "output_type": "execute_result"
    }
   ],
   "source": [
    "list_a = [1,4,3,2]\n",
    "list_a.sort()\n",
    "list_a\n",
    "\n",
    "\n"
   ]
  },
  {
   "cell_type": "markdown",
   "metadata": {
    "id": "MC_e_FNgGVxZ"
   },
   "source": [
    "12) 리스트 b = ['c', 'a', 'b', 'd']일 때 리스트의 값들을 내림차순으로 정렬해서 출력하세요.\n",
    "\n",
    "- 힌트: 리스트 이름.sort(reverse = True)"
   ]
  },
  {
   "cell_type": "code",
   "execution_count": 75,
   "metadata": {
    "id": "888a76e3"
   },
   "outputs": [
    {
     "name": "stdout",
     "output_type": "stream",
     "text": [
      "첫 번째 방법\n",
      "['d', 'c', 'b', 'a']\n"
     ]
    }
   ],
   "source": [
    "list_b = ['c', 'a', 'b', 'd']\n",
    "\n",
    "print('첫 번째 방법')\n",
    "list_b.sort(reverse=True)\n",
    "print(list_b)"
   ]
  },
  {
   "cell_type": "code",
   "execution_count": null,
   "metadata": {},
   "outputs": [],
   "source": []
  },
  {
   "cell_type": "code",
   "execution_count": null,
   "metadata": {},
   "outputs": [],
   "source": []
  },
  {
   "cell_type": "code",
   "execution_count": null,
   "metadata": {
    "tags": []
   },
   "outputs": [],
   "source": []
  },
  {
   "cell_type": "code",
   "execution_count": null,
   "metadata": {},
   "outputs": [],
   "source": []
  }
 ],
 "metadata": {
  "colab": {
   "provenance": []
  },
  "kernelspec": {
   "display_name": "Python 3 (ipykernel)",
   "language": "python",
   "name": "python3"
  },
  "language_info": {
   "codemirror_mode": {
    "name": "ipython",
    "version": 3
   },
   "file_extension": ".py",
   "mimetype": "text/x-python",
   "name": "python",
   "nbconvert_exporter": "python",
   "pygments_lexer": "ipython3",
   "version": "3.11.4"
  }
 },
 "nbformat": 4,
 "nbformat_minor": 4
}
