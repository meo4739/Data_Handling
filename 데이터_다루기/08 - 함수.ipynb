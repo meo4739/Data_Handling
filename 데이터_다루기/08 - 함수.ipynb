{
 "cells": [
  {
   "cell_type": "markdown",
   "metadata": {
    "id": "b3TDAdnvnSbh"
   },
   "source": [
    "<center><img src='https://raw.githubusercontent.com/Jangrae/img/master/title3.png' width=500/></center>"
   ]
  },
  {
   "cell_type": "markdown",
   "metadata": {
    "id": "9lVOgXy-vVa5"
   },
   "source": [
    "# 8.함수(Function)\n",
    "\n",
    "- 함수는 입력을 받아 무엇인가를 처리한 후 그 결과를 반환하는 것입니다.\n",
    "- 쌀(입력)을 밥솥(함수)에 넣으면 밥(출력)이 되는 형태와 같습니다.\n",
    "- 같은 입력(쌀)이라 해도 함수(밥솥)기능에 따라 다른 출력(밥)이 됩니다."
   ]
  },
  {
   "cell_type": "markdown",
   "metadata": {
    "id": "fl30Ti3DYuo2"
   },
   "source": [
    "<img src='https://raw.githubusercontent.com/jangrae/img/master/function.png' width=650 align=\"left\"/>"
   ]
  },
  {
   "cell_type": "markdown",
   "metadata": {
    "id": "Suxg0kO3ZZuW"
   },
   "source": [
    "- 프로그래밍에서 함수란 반복해 사용할 코드를 미리 정의해 두고 필요할 때 사용하는 모듈입니다.\n",
    "- 함수를 사용하면 같은 로직을 반복해 코딩할 필요가 없어집니다.\n",
    "- 함수는 **def** 문으로 정의합니다.\n",
    "- 함수는 기본적으로 세 가지로 구성됩니다.  \n",
    "\n",
    "        ① 입력(Input)  \n",
    "        - 입력 매개변수, 생략가능  \n",
    "            \n",
    "        ② 처리\n",
    "        - 코드들  \n",
    "            \n",
    "        ③ 출력(Output)\n",
    "        - 처리 결과, 생략가능"
   ]
  },
  {
   "cell_type": "markdown",
   "metadata": {
    "id": "xD8bQr7KN3qb"
   },
   "source": [
    "## 8.1.입력(Input)\n",
    "\n",
    "- 우선 무작정 다음과 같이 함수를 만들어 봅니다."
   ]
  },
  {
   "cell_type": "code",
   "execution_count": 1,
   "metadata": {
    "colab": {
     "base_uri": "https://localhost:8080/"
    },
    "executionInfo": {
     "elapsed": 287,
     "status": "ok",
     "timestamp": 1657871271091,
     "user": {
      "displayName": "Jangrae Lee",
      "userId": "08475661575434032088"
     },
     "user_tz": -540
    },
    "id": "i1jtbf1tNvy2",
    "outputId": "876ac37e-3ad9-4d2b-e550-739fedb355ea",
    "tags": []
   },
   "outputs": [
    {
     "name": "stdout",
     "output_type": "stream",
     "text": [
      "안녕하세요? 반갑습니다!\n"
     ]
    }
   ],
   "source": [
    "# 함수 만들기: 입력 없음\n",
    "def hello():\n",
    "    print('안녕하세요? 반갑습니다!')\n",
    "\n",
    "# 함수 사용하기\n",
    "hello()"
   ]
  },
  {
   "cell_type": "markdown",
   "metadata": {
    "id": "2GwwWw_Bw3aJ"
   },
   "source": [
    "**1) 입력 매개변수**\n",
    "\n",
    "- 위 함수는 입력 없이 처리되는 함수입니다.\n",
    "- 이제 이름을 입력 받아 처리하는, 즉 입력 매개변수를 갖는 함수를 만듭니다."
   ]
  },
  {
   "cell_type": "code",
   "execution_count": 6,
   "metadata": {
    "colab": {
     "base_uri": "https://localhost:8080/"
    },
    "executionInfo": {
     "elapsed": 256,
     "status": "ok",
     "timestamp": 1657871278140,
     "user": {
      "displayName": "Jangrae Lee",
      "userId": "08475661575434032088"
     },
     "user_tz": -540
    },
    "id": "a0J-Z-xvwwBA",
    "outputId": "de25f9b8-c809-4e96-f32d-26a26cafb0cf",
    "tags": []
   },
   "outputs": [
    {
     "name": "stdout",
     "output_type": "stream",
     "text": [
      "홍길동님 안녕하세요? 반갑습니다!\n"
     ]
    }
   ],
   "source": [
    "# 함수 만들기: 입력 있음\n",
    "def hello(name):\n",
    "    print(f'{name}님 안녕하세요? 반갑습니다!') \n",
    "\n",
    "# 함수 사용\n",
    "hello('홍길동')\n",
    "# hello()"
   ]
  },
  {
   "cell_type": "markdown",
   "metadata": {
    "id": "vYfKjINCxzcR"
   },
   "source": [
    "**2) 입력 매개변수 기본값**\n",
    "\n",
    "- 위 함수는 입력 매개변수가 없으면 오류가 발생합니다.\n",
    "- '매개변수 = 값' 형태로 기본값을 지정할 수 있습니다.\n",
    "- 이름을 전달하지 않으면 '여러분'이 기본값으로 사용되게 수정합니다."
   ]
  },
  {
   "cell_type": "code",
   "execution_count": 8,
   "metadata": {
    "colab": {
     "base_uri": "https://localhost:8080/"
    },
    "executionInfo": {
     "elapsed": 3,
     "status": "ok",
     "timestamp": 1657871489354,
     "user": {
      "displayName": "Jangrae Lee",
      "userId": "08475661575434032088"
     },
     "user_tz": -540
    },
    "id": "RAVftLGzyLne",
    "outputId": "123cfa2a-9542-4dc8-a5c6-bfa335712707",
    "tags": []
   },
   "outputs": [
    {
     "name": "stdout",
     "output_type": "stream",
     "text": [
      "홍길동님 안녕하세요? 반갑습니다!\n",
      "여러분님 안녕하세요? 반갑습니다!\n"
     ]
    }
   ],
   "source": [
    "# 함수 만들기: 기본값 있음\n",
    "def hello(name='여러분'):\n",
    "    print(f'{name}님 안녕하세요? 반갑습니다!')\n",
    "\n",
    "# 함수 사용\n",
    "hello('홍길동')\n",
    "hello()"
   ]
  },
  {
   "cell_type": "markdown",
   "metadata": {
    "id": "CWCc9eR_1MJ7"
   },
   "source": [
    "<img src='https://raw.githubusercontent.com/jangrae/img/master/practice_01.png' width=120 align=\"left\"/>"
   ]
  },
  {
   "cell_type": "markdown",
   "metadata": {
    "id": "23c_zQMg1MKC"
   },
   "source": [
    "[문1] 위 함수에서 기본값이 사용된 경우 '여러분님 안녕하세요? 반갑습니다!'가 표시됩니다.\n",
    "\n",
    "- '여러분 안녕하세요? 반갑습니다!'가 표시되게 함수를 수정하세요."
   ]
  },
  {
   "cell_type": "code",
   "execution_count": 36,
   "metadata": {
    "colab": {
     "base_uri": "https://localhost:8080/"
    },
    "executionInfo": {
     "elapsed": 290,
     "status": "ok",
     "timestamp": 1657871480148,
     "user": {
      "displayName": "Jangrae Lee",
      "userId": "08475661575434032088"
     },
     "user_tz": -540
    },
    "id": "nETufo5_1MKC",
    "outputId": "5b843e56-5f14-4ab4-e263-1ca12e69082e",
    "tags": []
   },
   "outputs": [
    {
     "name": "stdout",
     "output_type": "stream",
     "text": [
      "여러분 안녕하세요? 반갑습니다!\n",
      "홍길동님 안녕하세요? 반갑습니다!\n"
     ]
    }
   ],
   "source": [
    "# def hello(name=''):\n",
    "#     if name=='':\n",
    "#         print('여러분 안녕하세요? 반갑습니다!')\n",
    "#     else:\n",
    "#         print(f'{name}님 안녕하세요? 반갑습니다!')\n",
    "    \n",
    "# hello()\n",
    "# hello('홍길동')\n",
    "\n",
    "def hello(name='여러분'):\n",
    "    if (name=='여러분'):\n",
    "        print(f'{name} 안녕하세요? 반갑습니다!')\n",
    "    else:\n",
    "        print(f'{name}님 안녕하세요? 반갑습니다!')\n",
    "    \n",
    "hello()\n",
    "hello('홍길동')"
   ]
  },
  {
   "cell_type": "markdown",
   "metadata": {
    "id": "vY5MaNkIyoTe"
   },
   "source": [
    "**3) 입력 매개변수 순서**\n",
    "\n",
    "- 매개변수 이름으로 지정하면 전달되는 순서를 바꿀 수 있습니다.\n",
    "- 매개변수 순서에 맞게 값을 넣으면 매개변수 이름을 생략할 수 있습니다."
   ]
  },
  {
   "cell_type": "code",
   "execution_count": 37,
   "metadata": {
    "colab": {
     "base_uri": "https://localhost:8080/"
    },
    "executionInfo": {
     "elapsed": 280,
     "status": "ok",
     "timestamp": 1657872511195,
     "user": {
      "displayName": "Jangrae Lee",
      "userId": "08475661575434032088"
     },
     "user_tz": -540
    },
    "id": "0FpZAvfTyuBF",
    "outputId": "b776a4a3-ab4e-49fd-d969-b7ee51a4a47b",
    "tags": []
   },
   "outputs": [
    {
     "name": "stdout",
     "output_type": "stream",
     "text": [
      "우~~와~~ 홍길동님 안녕하세요? 반갑습니다!!!\n",
      "홍길동님 안녕하세요? 반가워요.\n",
      "홍길동님 안녕하세요? 반가워요.\n",
      "우~~와~~ 홍길동님 안녕하세요? 반갑습니다!!!\n"
     ]
    }
   ],
   "source": [
    "# 함수 만들기\n",
    "def hello(name, loud=1):\n",
    "    if loud == 1:\n",
    "        print(f'우~~와~~ {name}님 안녕하세요? 반갑습니다!!!') \n",
    "    else:\n",
    "        print(f'{name}님 안녕하세요? 반가워요.')\n",
    "        \n",
    "# 함수 사용\n",
    "hello(name='홍길동', loud=1)   # 매개변수 이름 = 값 으로 지정\n",
    "hello(loud=0, name='홍길동')   # 매개변수 이름으로 지정하면 순서 변경 가능\n",
    "hello('홍길동', 0)             # 매개변수 순서에 맞게 값을 넣으면 매개변수 이름 생략 가능\n",
    "hello('홍길동')                # 함수 생성 시 loud = 1 로 선언했으므로, 안쓰면 기본값 1이 입력됨"
   ]
  },
  {
   "cell_type": "markdown",
   "metadata": {
    "id": "AlUenevh4ZP4"
   },
   "source": [
    "**4) 임의의 여러 매개변수**\n",
    "\n",
    "- 일반적으로 임의의 여러 입력 매개변수가 전달된 경우는 함수 안에서 반복문을 사용해 처리합니다."
   ]
  },
  {
   "cell_type": "code",
   "execution_count": 16,
   "metadata": {
    "colab": {
     "base_uri": "https://localhost:8080/"
    },
    "executionInfo": {
     "elapsed": 268,
     "status": "ok",
     "timestamp": 1657872257632,
     "user": {
      "displayName": "Jangrae Lee",
      "userId": "08475661575434032088"
     },
     "user_tz": -540
    },
    "id": "8tSDYJ9N0LMy",
    "outputId": "77295ffa-4458-4704-ee27-5edda5ef5890"
   },
   "outputs": [
    {
     "name": "stdout",
     "output_type": "stream",
     "text": [
      "홍길동님 안녕하세요? 반갑습니다!\n",
      "일지매님 안녕하세요? 반갑습니다!\n",
      "강우동님 안녕하세요? 반갑습니다!\n"
     ]
    }
   ],
   "source": [
    "# 함수 만들기\n",
    "def hello(*args):\n",
    "    for who in args:\n",
    "        print(f'{who}님 안녕하세요? 반갑습니다!')\n",
    "\n",
    "# 함수 사용\n",
    "hello('홍길동', '일지매', '강우동')"
   ]
  },
  {
   "cell_type": "code",
   "execution_count": 56,
   "metadata": {
    "tags": []
   },
   "outputs": [
    {
     "name": "stdout",
     "output_type": "stream",
     "text": [
      "['홍길동', '일지매', '강우동']님 안녕하세요? 반갑습니다!\n"
     ]
    }
   ],
   "source": [
    "# 함수 만들기\n",
    "def hello(*args):\n",
    "    for who in args:\n",
    "        print(f'{who}님 안녕하세요? 반갑습니다!')\n",
    "\n",
    "# 함수 사용\n",
    "men = ['홍길동', '일지매','강우동']\n",
    "hello(men)"
   ]
  },
  {
   "cell_type": "markdown",
   "metadata": {},
   "source": [
    "**(*) 찍어서 리스트 분해해서 함수에 대입하기**"
   ]
  },
  {
   "cell_type": "code",
   "execution_count": 58,
   "metadata": {
    "tags": []
   },
   "outputs": [
    {
     "name": "stdout",
     "output_type": "stream",
     "text": [
      "홍길동님 안녕하세요? 반갑습니다!\n",
      "일지매님 안녕하세요? 반갑습니다!\n",
      "강우동님 안녕하세요? 반갑습니다!\n"
     ]
    }
   ],
   "source": [
    "# 함수 만들기\n",
    "def hello(*args):\n",
    "    for who in args:\n",
    "        print(f'{who}님 안녕하세요? 반갑습니다!')\n",
    "\n",
    "# 함수 사용\n",
    "men = ['홍길동', '일지매','강우동']\n",
    "hello(*men)"
   ]
  },
  {
   "cell_type": "markdown",
   "metadata": {
    "id": "OFqgIyTb5MLx"
   },
   "source": [
    "**5) 임의의 여러 매개변수와 고정 매개변수**\n",
    "\n",
    "- 임의의 여러 입력 매개변수와 고정된 매개변수를 사용할 수 있습니다."
   ]
  },
  {
   "cell_type": "code",
   "execution_count": 59,
   "metadata": {
    "colab": {
     "base_uri": "https://localhost:8080/"
    },
    "executionInfo": {
     "elapsed": 283,
     "status": "ok",
     "timestamp": 1657872353850,
     "user": {
      "displayName": "Jangrae Lee",
      "userId": "08475661575434032088"
     },
     "user_tz": -540
    },
    "id": "IziA8qSG0LMz",
    "outputId": "d95cb621-c7eb-4aff-c268-7d065e8da698",
    "tags": []
   },
   "outputs": [
    {
     "name": "stdout",
     "output_type": "stream",
     "text": [
      "홍길동선생님 안녕하세요? 반갑습니다!\n",
      "일지매선생님 안녕하세요? 반갑습니다!\n",
      "강우동선생님 안녕하세요? 반갑습니다!\n"
     ]
    }
   ],
   "source": [
    "# 함수 만들기\n",
    "def hello(*args, title):\n",
    "    for who in args:\n",
    "        print(f'{who}{title} 안녕하세요? 반갑습니다!')\n",
    "\n",
    "# 함수 사용\n",
    "hello('홍길동', '일지매', '강우동', title='선생님')"
   ]
  },
  {
   "cell_type": "markdown",
   "metadata": {
    "id": "XuvberTIoBJO"
   },
   "source": [
    "<img src='https://raw.githubusercontent.com/jangrae/img/master/practice_01.png' width=120 align=\"left\"/>"
   ]
  },
  {
   "cell_type": "markdown",
   "metadata": {
    "id": "F1GV2OdU7r6q"
   },
   "source": [
    "[문1] 숫자를 여러 개 받아(*입력변수) 각각의 숫자를 제곱한 후 모두 더한 값을 출력하는 함수 summ를 만드세요."
   ]
  },
  {
   "cell_type": "code",
   "execution_count": 65,
   "metadata": {
    "colab": {
     "base_uri": "https://localhost:8080/"
    },
    "executionInfo": {
     "elapsed": 276,
     "status": "ok",
     "timestamp": 1657872768486,
     "user": {
      "displayName": "Jangrae Lee",
      "userId": "08475661575434032088"
     },
     "user_tz": -540
    },
    "id": "3_Y1eRUenwmU",
    "outputId": "ed51abb2-4e76-41e1-b734-fb040a02c446",
    "tags": []
   },
   "outputs": [
    {
     "name": "stdout",
     "output_type": "stream",
     "text": [
      "51\n"
     ]
    }
   ],
   "source": [
    "# 함수 만들기\n",
    "def summ(*args):\n",
    "    tot = 0\n",
    "    for num in args:\n",
    "        tot+=num**2\n",
    "    print(tot)\n",
    "\n",
    "# 함수 사용\n",
    "summ(1, 4, 3, 5)"
   ]
  },
  {
   "cell_type": "code",
   "execution_count": 72,
   "metadata": {
    "tags": []
   },
   "outputs": [
    {
     "name": "stdout",
     "output_type": "stream",
     "text": [
      "51\n",
      "51\n"
     ]
    }
   ],
   "source": [
    "# 함수 만들기\n",
    "def summ(*args):\n",
    "    tot = 0\n",
    "    for num in args:\n",
    "        tot+=num**2\n",
    "    print(tot)\n",
    "\n",
    "# 함수 사용\n",
    "summ(1, 4, 3, 5)\n",
    "\n",
    "\n",
    "# 함수 만들기\n",
    "def summ(*args):\n",
    "    print(f\"{sum (  num**2 for num in args  )  }\")\n",
    "\n",
    "# 함수 사용\n",
    "summ(1, 4, 3, 5)"
   ]
  },
  {
   "cell_type": "code",
   "execution_count": 71,
   "metadata": {
    "tags": []
   },
   "outputs": [
    {
     "name": "stdout",
     "output_type": "stream",
     "text": [
      "['김길동', '김지매', '김사랑', '이길동', '이지매', '이사랑', '박길동', '박지매', '박사랑']\n"
     ]
    }
   ],
   "source": [
    "name1 = ['김','이','박']\n",
    "name2 = ['길동','지매','사랑']\n",
    "print([x+y for x in name1 \n",
    "           for y in name2])"
   ]
  },
  {
   "cell_type": "markdown",
   "metadata": {
    "id": "MvbZiv9hOlZD"
   },
   "source": [
    "## 8.2.출력(Output)\n",
    "\n",
    "- 함수 안에서 print() 함수로 결과를 출력하는 함수는 반환되는 값이 없습니다.\n",
    "- 반환되는 값이 없는 함수의 결괏 값을 받아 출력하면 None이 출력됩니다."
   ]
  },
  {
   "cell_type": "code",
   "execution_count": 61,
   "metadata": {
    "colab": {
     "base_uri": "https://localhost:8080/"
    },
    "executionInfo": {
     "elapsed": 4,
     "status": "ok",
     "timestamp": 1657872880675,
     "user": {
      "displayName": "Jangrae Lee",
      "userId": "08475661575434032088"
     },
     "user_tz": -540
    },
    "id": "vsB1YMjwOofc",
    "outputId": "e95a3497-dd39-489e-ddf3-0198c2dbb8c0",
    "tags": []
   },
   "outputs": [
    {
     "name": "stdout",
     "output_type": "stream",
     "text": [
      "(1, 2, 3)\n",
      "None\n"
     ]
    }
   ],
   "source": [
    "# 함수 만들기\n",
    "def numbers1(*nums):\n",
    "    print(nums)\n",
    "\n",
    "# 함수 사용\n",
    "a1 = numbers1(1, 2, 3)\n",
    "print(a1)"
   ]
  },
  {
   "cell_type": "markdown",
   "metadata": {
    "id": "aIk2jtr5zzmY"
   },
   "source": [
    "- 함수가 여러 개의 결괏값을 반환할 수도 있습니다."
   ]
  },
  {
   "cell_type": "code",
   "execution_count": 102,
   "metadata": {
    "colab": {
     "base_uri": "https://localhost:8080/"
    },
    "executionInfo": {
     "elapsed": 264,
     "status": "ok",
     "timestamp": 1657873129455,
     "user": {
      "displayName": "Jangrae Lee",
      "userId": "08475661575434032088"
     },
     "user_tz": -540
    },
    "id": "NETSaXwtPDX2",
    "outputId": "ad1f6417-021f-406f-85b6-c4e48b4e0da6"
   },
   "outputs": [
    {
     "name": "stdout",
     "output_type": "stream",
     "text": [
      "15\n",
      "50\n",
      "(15, 50) <class 'tuple'>\n"
     ]
    }
   ],
   "source": [
    "# 함수 만들기\n",
    "def calculate(a, b):\n",
    "    summ = a + b\n",
    "    mult = a * b\n",
    "    return summ, mult\n",
    "\n",
    "# 함수 사용\n",
    "r1, r2 = calculate(10, 5)\n",
    "print(r1)\n",
    "print(r2)\n",
    "calculate(10, 5)\n",
    "print(f'{calculate(10,5)} {type(calculate(10,5))}')"
   ]
  },
  {
   "cell_type": "code",
   "execution_count": 105,
   "metadata": {
    "tags": []
   },
   "outputs": [
    {
     "name": "stdout",
     "output_type": "stream",
     "text": [
      "15 50\n",
      "(15, 50) <class 'tuple'>\n"
     ]
    }
   ],
   "source": [
    "# 함수 만들기\n",
    "def calculate(a, b):\n",
    "    return a+b, a*b\n",
    "\n",
    "# 함수 사용\n",
    "r1, r2 = calculate(10, 5)\n",
    "print(f'{r1} {r2}')\n",
    "print(f'{calculate(10,5)} {type(calculate(10,5))}')"
   ]
  },
  {
   "cell_type": "markdown",
   "metadata": {
    "id": "iCBK6juK8TF9"
   },
   "source": [
    "<img src='https://raw.githubusercontent.com/jangrae/img/master/practice_01.png' width=120 align=\"left\"/>"
   ]
  },
  {
   "cell_type": "markdown",
   "metadata": {
    "id": "pDPOWYZ48TF-"
   },
   "source": [
    "[문1] 두 숫자를 입력받아 몫과 나머지를 반환하는 divide2 함수를 만드세요."
   ]
  },
  {
   "cell_type": "code",
   "execution_count": 108,
   "metadata": {
    "colab": {
     "base_uri": "https://localhost:8080/"
    },
    "executionInfo": {
     "elapsed": 320,
     "status": "ok",
     "timestamp": 1657874046224,
     "user": {
      "displayName": "Jangrae Lee",
      "userId": "08475661575434032088"
     },
     "user_tz": -540
    },
    "id": "PKMBqL7J8TF-",
    "outputId": "5ee4a405-c66c-40f9-e8f9-3329d508127b",
    "tags": []
   },
   "outputs": [
    {
     "name": "stdout",
     "output_type": "stream",
     "text": [
      "2\n",
      "0\n"
     ]
    }
   ],
   "source": [
    "# 함수 만들기\n",
    "def divide2(a,b):\n",
    "    r1 = a//b\n",
    "    r2 = a%b\n",
    "    return(r1,r2)\n",
    "\n",
    "# 함수 사용\n",
    "r1, r2 = divide2(10, 5)\n",
    "print(r1)\n",
    "print(r2)"
   ]
  },
  {
   "cell_type": "code",
   "execution_count": 111,
   "metadata": {
    "tags": []
   },
   "outputs": [
    {
     "name": "stdout",
     "output_type": "stream",
     "text": [
      "2\n",
      "0\n"
     ]
    }
   ],
   "source": [
    "# 함수 만들기\n",
    "def divide2(a,b):\n",
    "    return a//b, a%b\n",
    "\n",
    "# 함수 사용\n",
    "r1, r2 = divide2(10, 5)\n",
    "print(r1)\n",
    "print(r2)"
   ]
  },
  {
   "cell_type": "code",
   "execution_count": 114,
   "metadata": {
    "tags": []
   },
   "outputs": [
    {
     "name": "stdout",
     "output_type": "stream",
     "text": [
      "2\n",
      "0\n"
     ]
    }
   ],
   "source": [
    "# 함수 만들기\n",
    "def divide2(a,b):\n",
    "    return divmod(a,b)\n",
    "\n",
    "# 함수 사용\n",
    "r1, r2 = divide2(10, 5)\n",
    "print(r1)\n",
    "print(r2)"
   ]
  },
  {
   "cell_type": "markdown",
   "metadata": {
    "id": "eEdgSt-4_TiT"
   },
   "source": [
    "## 8.3.예외 처리\n",
    "\n",
    "- 함수 내에서 발생할 수 있는 오류에 대한 사전 처리를 권고합니다.\n",
    "- 다음 함수는 오류에 대한 처리가 없어 함수 사용 시 오류가 발생합니다."
   ]
  },
  {
   "cell_type": "code",
   "execution_count": null,
   "metadata": {
    "id": "42J910oTQXOZ"
   },
   "outputs": [],
   "source": [
    "# 함수 만들기\n",
    "def divide(a, b) : \n",
    "    result = a / b\n",
    "    return result\n",
    "\n",
    "# 함수 사용\n",
    "divide(10, 0)"
   ]
  },
  {
   "cell_type": "markdown",
   "metadata": {
    "id": "zCkxpumW9WiG"
   },
   "source": [
    "**1) 입력 오류 처리**\n",
    "\n",
    "- 나누는 값, 즉 분모가 0인 경우에 대한 처리를 함수에 추가합니다."
   ]
  },
  {
   "cell_type": "code",
   "execution_count": null,
   "metadata": {
    "colab": {
     "base_uri": "https://localhost:8080/"
    },
    "executionInfo": {
     "elapsed": 276,
     "status": "ok",
     "timestamp": 1657873542534,
     "user": {
      "displayName": "Jangrae Lee",
      "userId": "08475661575434032088"
     },
     "user_tz": -540
    },
    "id": "3N2HiHULQ7Sz",
    "outputId": "4137d5e8-bbcb-4f2f-ed18-bba3263a6470"
   },
   "outputs": [],
   "source": [
    "# 함수 만들기\n",
    "def divide(a, b) : \n",
    "    if b == 0 :\n",
    "        print('나누는 값이 0이 될 수 없습니다.')    \n",
    "    \n",
    "    else :\n",
    "        result = a / b\n",
    "        return result\n",
    "\n",
    "# 함수 사용\n",
    "divide(10, 0)"
   ]
  },
  {
   "cell_type": "markdown",
   "metadata": {
    "id": "wH-Vti3J9-F-"
   },
   "source": [
    "**2) 입력 데이터 형식 확인**\n",
    "\n",
    "- 다음과 같이 데이터 형식을 확인할 수 있습니다."
   ]
  },
  {
   "cell_type": "code",
   "execution_count": null,
   "metadata": {
    "colab": {
     "base_uri": "https://localhost:8080/"
    },
    "executionInfo": {
     "elapsed": 282,
     "status": "ok",
     "timestamp": 1657873604146,
     "user": {
      "displayName": "Jangrae Lee",
      "userId": "08475661575434032088"
     },
     "user_tz": -540
    },
    "id": "1hcSOqT991eF",
    "outputId": "3ecd41ad-db4b-4513-e4e5-3dd302d6c04d"
   },
   "outputs": [],
   "source": [
    "# 데이터 형식 확인\n",
    "a = 123\n",
    "print(type(a) == int)\n",
    "\n",
    "b = 'abc'\n",
    "print(type(b) is str)\n",
    "\n",
    "c = [1, 2, 3]\n",
    "print(type(c) is list)\n",
    "\n",
    "d = {'v': 23}\n",
    "print(type(d) == dict)"
   ]
  },
  {
   "cell_type": "markdown",
   "metadata": {
    "id": "OxCMFEiH-OPx"
   },
   "source": [
    "- 입력되는 데이터 형식이 적절한지 확인하는 구문을 함수에 추가합니다."
   ]
  },
  {
   "cell_type": "code",
   "execution_count": null,
   "metadata": {
    "colab": {
     "base_uri": "https://localhost:8080/"
    },
    "executionInfo": {
     "elapsed": 3,
     "status": "ok",
     "timestamp": 1657873932813,
     "user": {
      "displayName": "Jangrae Lee",
      "userId": "08475661575434032088"
     },
     "user_tz": -540
    },
    "id": "VSzYwRU_-XM3",
    "outputId": "28e43b33-cff1-4631-9bd4-ba24bc115a7c"
   },
   "outputs": [],
   "source": [
    "# 함수 만들기\n",
    "def divide(a, b) : \n",
    "    if b == 0 :\n",
    "        print('나누는 값이 0이 될 수 없습니다.')\n",
    "    elif (type(a) != int) or (type(b) != int):\n",
    "        print('정수 연산만 가능합니다.')\n",
    "    else:\n",
    "        result = a / b\n",
    "        return result\n",
    "\n",
    "# 함수 사용\n",
    "divide(10, 0)\n",
    "divide(10, 'ab')\n",
    "divide(10, 2)"
   ]
  },
  {
   "cell_type": "markdown",
   "metadata": {},
   "source": [
    "<img src='https://raw.githubusercontent.com/jangrae/img/master/function2.png' width=400 align=\"left\"/>"
   ]
  },
  {
   "cell_type": "markdown",
   "metadata": {
    "id": "Cf99Hi4fKo2c"
   },
   "source": [
    "## 8.4.내장 함수\n",
    "\n",
    "- 이미 Python이 제공하고 있는 함수를 알고 사용할 수 있어야 합니다.\n",
    "- 중요한 함수들을 정리했으니 참고하기 바랍니다."
   ]
  },
  {
   "cell_type": "markdown",
   "metadata": {
    "id": "y8gslhjLLQzi"
   },
   "source": [
    "**1) abs(x) 함수**\n",
    "\n",
    "- x의 절대값을 반환합니다."
   ]
  },
  {
   "cell_type": "code",
   "execution_count": null,
   "metadata": {
    "id": "iCRXdLF8K2Bs"
   },
   "outputs": [],
   "source": [
    "a = -123.45\n",
    "abs(a)"
   ]
  },
  {
   "cell_type": "markdown",
   "metadata": {
    "id": "2FyT6LqMLpyE"
   },
   "source": [
    "**2) all(x) 함수**\n",
    "\n",
    "- x의 요소 모두가 참이면 True를 반환합니다."
   ]
  },
  {
   "cell_type": "code",
   "execution_count": 115,
   "metadata": {
    "id": "BHWgMt7VLWO8",
    "tags": []
   },
   "outputs": [
    {
     "data": {
      "text/plain": [
       "True"
      ]
     },
     "execution_count": 115,
     "metadata": {},
     "output_type": "execute_result"
    }
   ],
   "source": [
    "a = [1, 2, 3, 4, 5]\n",
    "all(a)"
   ]
  },
  {
   "cell_type": "code",
   "execution_count": 116,
   "metadata": {
    "id": "sU-B02PyLmPF",
    "tags": []
   },
   "outputs": [
    {
     "data": {
      "text/plain": [
       "False"
      ]
     },
     "execution_count": 116,
     "metadata": {},
     "output_type": "execute_result"
    }
   ],
   "source": [
    "a = [0, 1, 2, 3, 4]\n",
    "all(a)"
   ]
  },
  {
   "cell_type": "markdown",
   "metadata": {
    "id": "pD6jUZgtLulF"
   },
   "source": [
    "**3) any(x) 함수**\n",
    "\n",
    "- x의 요소 중 하나라도 참이면 True를 반환합니다."
   ]
  },
  {
   "cell_type": "code",
   "execution_count": 117,
   "metadata": {
    "id": "iqcSLdjxLtMe",
    "tags": []
   },
   "outputs": [
    {
     "data": {
      "text/plain": [
       "True"
      ]
     },
     "execution_count": 117,
     "metadata": {},
     "output_type": "execute_result"
    }
   ],
   "source": [
    "a = [0, 1, 2, 3, 4]\n",
    "any(a)"
   ]
  },
  {
   "cell_type": "markdown",
   "metadata": {
    "id": "d9Q9hODVMQfL"
   },
   "source": [
    "**4) chr(x) 함수**\n",
    "\n",
    "- 아스키 코드값 x에 대응하는 문자를 반환합니다."
   ]
  },
  {
   "cell_type": "code",
   "execution_count": 118,
   "metadata": {
    "id": "qR_s1O7-L85I",
    "tags": []
   },
   "outputs": [
    {
     "data": {
      "text/plain": [
       "'A'"
      ]
     },
     "execution_count": 118,
     "metadata": {},
     "output_type": "execute_result"
    }
   ],
   "source": [
    "chr(65)"
   ]
  },
  {
   "cell_type": "code",
   "execution_count": 119,
   "metadata": {
    "id": "cjOK3ct4MDKN",
    "tags": []
   },
   "outputs": [
    {
     "data": {
      "text/plain": [
       "'a'"
      ]
     },
     "execution_count": 119,
     "metadata": {},
     "output_type": "execute_result"
    }
   ],
   "source": [
    "chr(97)"
   ]
  },
  {
   "cell_type": "markdown",
   "metadata": {
    "id": "RYeKAdnmNAFt"
   },
   "source": [
    "**5) dir(x) 함수**\n",
    "\n",
    "- 객체 x가 가지고 있는 변수나 메소드 목록을 반환합니다."
   ]
  },
  {
   "cell_type": "code",
   "execution_count": 120,
   "metadata": {
    "id": "5KLd2qshMYvY",
    "tags": []
   },
   "outputs": [
    {
     "data": {
      "text/plain": [
       "['__add__',\n",
       " '__class__',\n",
       " '__class_getitem__',\n",
       " '__contains__',\n",
       " '__delattr__',\n",
       " '__delitem__',\n",
       " '__dir__',\n",
       " '__doc__',\n",
       " '__eq__',\n",
       " '__format__',\n",
       " '__ge__',\n",
       " '__getattribute__',\n",
       " '__getitem__',\n",
       " '__getstate__',\n",
       " '__gt__',\n",
       " '__hash__',\n",
       " '__iadd__',\n",
       " '__imul__',\n",
       " '__init__',\n",
       " '__init_subclass__',\n",
       " '__iter__',\n",
       " '__le__',\n",
       " '__len__',\n",
       " '__lt__',\n",
       " '__mul__',\n",
       " '__ne__',\n",
       " '__new__',\n",
       " '__reduce__',\n",
       " '__reduce_ex__',\n",
       " '__repr__',\n",
       " '__reversed__',\n",
       " '__rmul__',\n",
       " '__setattr__',\n",
       " '__setitem__',\n",
       " '__sizeof__',\n",
       " '__str__',\n",
       " '__subclasshook__',\n",
       " 'append',\n",
       " 'clear',\n",
       " 'copy',\n",
       " 'count',\n",
       " 'extend',\n",
       " 'index',\n",
       " 'insert',\n",
       " 'pop',\n",
       " 'remove',\n",
       " 'reverse',\n",
       " 'sort']"
      ]
     },
     "execution_count": 120,
     "metadata": {},
     "output_type": "execute_result"
    }
   ],
   "source": [
    "a = [1, 2, 3]\n",
    "dir(a)"
   ]
  },
  {
   "cell_type": "code",
   "execution_count": 122,
   "metadata": {
    "id": "SeuNUtAoNJ1N",
    "tags": []
   },
   "outputs": [
    {
     "name": "stdout",
     "output_type": "stream",
     "text": [
      "['append', 'clear', 'copy', 'count', 'extend', 'index', 'insert', 'pop', 'remove', 'reverse', 'sort']\n"
     ]
    }
   ],
   "source": [
    "a = [1, 2, 3]\n",
    "b = [x for x in dir(a) if x[0] != '_']\n",
    "print(b)"
   ]
  },
  {
   "cell_type": "markdown",
   "metadata": {
    "id": "RN4z45RAN4Tu"
   },
   "source": [
    "**6) divmod(x, y) 함수**\n",
    "\n",
    "- x를 y로 나눈 몫과 나머지를 튜플 형태로 반환합니다."
   ]
  },
  {
   "cell_type": "code",
   "execution_count": null,
   "metadata": {
    "id": "DQmxLvnANccm"
   },
   "outputs": [],
   "source": [
    "a = 32\n",
    "b = 5\n",
    "divmod(a, b)"
   ]
  },
  {
   "cell_type": "code",
   "execution_count": null,
   "metadata": {
    "id": "G5OlvH_8NnVG"
   },
   "outputs": [],
   "source": [
    "a = 32\n",
    "b = 5\n",
    "c, d = divmod(a, b)\n",
    "print('몫:', c, '나머지:', d)"
   ]
  },
  {
   "cell_type": "markdown",
   "metadata": {
    "id": "FWr_rh3YOPUI"
   },
   "source": [
    "**7) enumerate(x) 함수**\n",
    "\n",
    "- 리스트, 튜플, 문자열을 받아 인덱스와 값을 반환합니다."
   ]
  },
  {
   "cell_type": "code",
   "execution_count": 123,
   "metadata": {
    "id": "qqs8ZiVuN_2z",
    "tags": []
   },
   "outputs": [
    {
     "name": "stdout",
     "output_type": "stream",
     "text": [
      "0 1\n",
      "1 2\n",
      "2 3\n"
     ]
    }
   ],
   "source": [
    "a = [1, 2, 3]\n",
    "for idx, name in enumerate(a):\n",
    "    print(idx, name)"
   ]
  },
  {
   "cell_type": "markdown",
   "metadata": {
    "id": "5LOrjXZPOnfk"
   },
   "source": [
    "**8) eval(x) 함수**\n",
    "\n",
    "- 실행 가능한 문자열 x를 받아 그 문자열을 실행한 결과를 반환합니다."
   ]
  },
  {
   "cell_type": "code",
   "execution_count": 124,
   "metadata": {
    "id": "15bmfsECOdkr",
    "tags": []
   },
   "outputs": [
    {
     "data": {
      "text/plain": [
       "30"
      ]
     },
     "execution_count": 124,
     "metadata": {},
     "output_type": "execute_result"
    }
   ],
   "source": [
    "eval('10 + 20')"
   ]
  },
  {
   "cell_type": "code",
   "execution_count": 125,
   "metadata": {
    "id": "-RYAOpxaOk4f",
    "tags": []
   },
   "outputs": [
    {
     "name": "stdout",
     "output_type": "stream",
     "text": [
      "ABC\n"
     ]
    }
   ],
   "source": [
    "eval('print(\"ABC\")')"
   ]
  },
  {
   "cell_type": "markdown",
   "metadata": {
    "id": "KfCi66hDO2ww"
   },
   "source": [
    "**9) filter(f, x) 함수**\n",
    "\n",
    "- 함수 f에 x를 매개변수로 전달해 True 인 경우만 반환합니다."
   ]
  },
  {
   "cell_type": "code",
   "execution_count": 131,
   "metadata": {
    "tags": []
   },
   "outputs": [
    {
     "data": {
      "text/plain": [
       "[2, 4, 6, 8]"
      ]
     },
     "execution_count": 131,
     "metadata": {},
     "output_type": "execute_result"
    }
   ],
   "source": [
    "def 짝수(x):\n",
    "    return x%2==0\n",
    "\n",
    "list(filter(짝수, [1,2,3,4,5,6,7,8,9]))"
   ]
  },
  {
   "cell_type": "code",
   "execution_count": 132,
   "metadata": {
    "tags": []
   },
   "outputs": [
    {
     "name": "stdout",
     "output_type": "stream",
     "text": [
      "[2, 4, 6, 8]\n"
     ]
    }
   ],
   "source": [
    "# 람다(lambda)\n",
    "print(list(filter(  lambda x: x%2==0 , [1,2,3,4,5,6,7,8,9] )))"
   ]
  },
  {
   "cell_type": "code",
   "execution_count": 136,
   "metadata": {
    "id": "D0EzOdXgO4pk",
    "tags": []
   },
   "outputs": [
    {
     "data": {
      "text/plain": [
       "['I', 'H', 'D']"
      ]
     },
     "execution_count": 136,
     "metadata": {},
     "output_type": "execute_result"
    }
   ],
   "source": [
    "def ucase(s):\n",
    "    ## 얘가 대문자랑 같으면서 동시에 공백이 아니면 True를 반환한다.\n",
    "    return s == s.upper() and s != ' '\n",
    "\n",
    "a = 'I Have a Dream'\n",
    "list(filter(ucase, a))"
   ]
  },
  {
   "cell_type": "code",
   "execution_count": 134,
   "metadata": {
    "id": "01_Ou5MsQJsi",
    "tags": []
   },
   "outputs": [
    {
     "data": {
      "text/plain": [
       "['I', 'H', 'D']"
      ]
     },
     "execution_count": 134,
     "metadata": {},
     "output_type": "execute_result"
    }
   ],
   "source": [
    "a = 'I Have a Dream'\n",
    "list(filter(lambda x: x == x.upper() and x != ' ', a))"
   ]
  },
  {
   "cell_type": "code",
   "execution_count": 144,
   "metadata": {
    "tags": []
   },
   "outputs": [
    {
     "name": "stdout",
     "output_type": "stream",
     "text": [
      "30\n"
     ]
    }
   ],
   "source": [
    "def hap(x,y):\n",
    "    return x+y\n",
    "\n",
    "# print(hap(10,20))\n",
    "\n",
    "print( (lambda x, y: x+y)(10,20) ) "
   ]
  },
  {
   "cell_type": "markdown",
   "metadata": {
    "id": "X3UF1KpTQfrs"
   },
   "source": [
    "**10) id(x) 함수**\n",
    "\n",
    "- 객체 x의 고유 주소값을 반환합니다."
   ]
  },
  {
   "cell_type": "code",
   "execution_count": 145,
   "metadata": {
    "id": "sMDJJ5LWQouV",
    "tags": []
   },
   "outputs": [
    {
     "data": {
      "text/plain": [
       "140728539062152"
      ]
     },
     "execution_count": 145,
     "metadata": {},
     "output_type": "execute_result"
    }
   ],
   "source": [
    "a = 100\n",
    "id(a)"
   ]
  },
  {
   "cell_type": "code",
   "execution_count": 146,
   "metadata": {
    "id": "EOuILtQrQtRt",
    "tags": []
   },
   "outputs": [
    {
     "data": {
      "text/plain": [
       "140728539062152"
      ]
     },
     "execution_count": 146,
     "metadata": {},
     "output_type": "execute_result"
    }
   ],
   "source": [
    "b = a\n",
    "id(b)"
   ]
  },
  {
   "cell_type": "markdown",
   "metadata": {
    "id": "04_Nxif8Q_iQ"
   },
   "source": [
    "**11) input() 함수**\n",
    "\n",
    "- 사용자로부터 입력을 받습니다.(입력 받은 값은 언제나 문자열임)"
   ]
  },
  {
   "cell_type": "code",
   "execution_count": 148,
   "metadata": {
    "id": "ZWXdZR42Qyjc",
    "tags": []
   },
   "outputs": [
    {
     "name": "stdin",
     "output_type": "stream",
     "text": [
      " ㄴ\n"
     ]
    },
    {
     "name": "stdout",
     "output_type": "stream",
     "text": [
      "입력 값 ㄴ\n"
     ]
    }
   ],
   "source": [
    "a = input()\n",
    "print('입력 값', a)"
   ]
  },
  {
   "cell_type": "markdown",
   "metadata": {
    "id": "LkTr5XD5RLpx"
   },
   "source": [
    "**12) int(x) 함수**\n",
    "\n",
    "- x를 정수로 변환합니다."
   ]
  },
  {
   "cell_type": "code",
   "execution_count": 149,
   "metadata": {
    "id": "aSedrO-TRPh1",
    "tags": []
   },
   "outputs": [
    {
     "data": {
      "text/plain": [
       "124"
      ]
     },
     "execution_count": 149,
     "metadata": {},
     "output_type": "execute_result"
    }
   ],
   "source": [
    "a = int(124.6)\n",
    "a"
   ]
  },
  {
   "cell_type": "code",
   "execution_count": 150,
   "metadata": {
    "id": "hAuQX70bRTZF",
    "tags": []
   },
   "outputs": [
    {
     "data": {
      "text/plain": [
       "579"
      ]
     },
     "execution_count": 150,
     "metadata": {},
     "output_type": "execute_result"
    }
   ],
   "source": [
    "a = 123 + int('456')\n",
    "a"
   ]
  },
  {
   "cell_type": "markdown",
   "metadata": {
    "id": "2ZzL6hwyRwxN"
   },
   "source": [
    "**13) isinstance(x, y) 함수**\n",
    "\n",
    "- x가 y의 인스턴스인지 여부를 True, False로 반환합니다."
   ]
  },
  {
   "cell_type": "code",
   "execution_count": 157,
   "metadata": {
    "id": "Qnv-7wfGRjH9",
    "tags": []
   },
   "outputs": [
    {
     "name": "stdout",
     "output_type": "stream",
     "text": [
      "['P', 'Y', 'T', 'H', 'O', 'N']\n",
      "False\n",
      "True\n"
     ]
    }
   ],
   "source": [
    "a = list('PYTHON')\n",
    "print(f'{a}')\n",
    "print(isinstance(a, tuple))\n",
    "print(isinstance(a, list))"
   ]
  },
  {
   "cell_type": "markdown",
   "metadata": {
    "id": "Wi_bVXZKSQfM"
   },
   "source": [
    "**14) len(x) 함수**\n",
    "\n",
    "- x 요소들 개수를 반환합니다."
   ]
  },
  {
   "cell_type": "code",
   "execution_count": 153,
   "metadata": {
    "id": "epKYJx_ISE1S",
    "tags": []
   },
   "outputs": [
    {
     "data": {
      "text/plain": [
       "14"
      ]
     },
     "execution_count": 153,
     "metadata": {},
     "output_type": "execute_result"
    }
   ],
   "source": [
    "a = 'I have a Dream'\n",
    "len(a)"
   ]
  },
  {
   "cell_type": "code",
   "execution_count": 154,
   "metadata": {
    "id": "mbnGWfknSLVx",
    "tags": []
   },
   "outputs": [
    {
     "data": {
      "text/plain": [
       "5"
      ]
     },
     "execution_count": 154,
     "metadata": {},
     "output_type": "execute_result"
    }
   ],
   "source": [
    "b = [1, 2, 3, 4, 5]\n",
    "len(b)"
   ]
  },
  {
   "cell_type": "markdown",
   "metadata": {
    "id": "-ouOzAeASbGs"
   },
   "source": [
    "**15) list(x) 함수**\n",
    "\n",
    "- x를 리스트 자료형으로 변환하여 반환합니다."
   ]
  },
  {
   "cell_type": "code",
   "execution_count": 155,
   "metadata": {
    "id": "7Kd8Ot7ZSVYf",
    "tags": []
   },
   "outputs": [
    {
     "data": {
      "text/plain": [
       "['1', '2', '3', '4', '5', '6', '7', '8', '9', '0']"
      ]
     },
     "execution_count": 155,
     "metadata": {},
     "output_type": "execute_result"
    }
   ],
   "source": [
    "a = '1234567890'\n",
    "b = list(a)\n",
    "b"
   ]
  },
  {
   "cell_type": "markdown",
   "metadata": {
    "id": "4bDuqdpAS5ol"
   },
   "source": [
    "**16) map(f, x) 함수**\n",
    "\n",
    "- 함수 f에 x 요소를 하나씩 전달해 얻은 결과를 반환합니다."
   ]
  },
  {
   "cell_type": "code",
   "execution_count": 159,
   "metadata": {
    "id": "uiXSJQCKSt76",
    "tags": []
   },
   "outputs": [
    {
     "data": {
      "text/plain": [
       "[2, 4, 6, 8, 10]"
      ]
     },
     "execution_count": 159,
     "metadata": {},
     "output_type": "execute_result"
    }
   ],
   "source": [
    "def 배수(num):\n",
    "    return num*2\n",
    "b=list(map(배수,a))\n",
    "b"
   ]
  },
  {
   "cell_type": "code",
   "execution_count": 160,
   "metadata": {
    "tags": []
   },
   "outputs": [
    {
     "data": {
      "text/plain": [
       "[2, 4, 6, 8, 10]"
      ]
     },
     "execution_count": 160,
     "metadata": {},
     "output_type": "execute_result"
    }
   ],
   "source": [
    "a = [1, 2, 3, 4, 5]\n",
    "b = list(map(lambda x: x * 2, a))\n",
    "b"
   ]
  },
  {
   "cell_type": "code",
   "execution_count": 164,
   "metadata": {
    "tags": []
   },
   "outputs": [
    {
     "data": {
      "text/plain": [
       "[3, 4, 9, 8, 15]"
      ]
     },
     "execution_count": 164,
     "metadata": {},
     "output_type": "execute_result"
    }
   ],
   "source": [
    "a = [1, 2, 3, 4, 5]\n",
    "b = list(map( lambda x: x*2 if x%2==0 else x * 3, a   )  )\n",
    "b"
   ]
  },
  {
   "cell_type": "markdown",
   "metadata": {
    "id": "V0J48pQHTNDj"
   },
   "source": [
    "**17) max(x) 함수**\n",
    "\n",
    "- x 요소들 중 최댓값을 반환합니다."
   ]
  },
  {
   "cell_type": "code",
   "execution_count": null,
   "metadata": {
    "id": "ogcIOQb-TFBE"
   },
   "outputs": [],
   "source": [
    "a = [1, 2, 3, 4, 5]\n",
    "max(a)"
   ]
  },
  {
   "cell_type": "markdown",
   "metadata": {
    "id": "yZMCVE9sTP7f"
   },
   "source": [
    "**18) min(x) 함수**\n",
    "\n",
    "- x 요소들 중 최솟값을 반환합니다."
   ]
  },
  {
   "cell_type": "code",
   "execution_count": null,
   "metadata": {
    "id": "rMx_Erm0TI9l"
   },
   "outputs": [],
   "source": [
    "a = [1, 2, 3, 4, 5]\n",
    "min(a)"
   ]
  },
  {
   "cell_type": "markdown",
   "metadata": {
    "id": "d1sRq19ZTZkW"
   },
   "source": [
    "**19) ord(x) 함수**\n",
    "\n",
    "- 문자 x의 아스키 코드값을 반환합니다."
   ]
  },
  {
   "cell_type": "code",
   "execution_count": null,
   "metadata": {
    "id": "QIzVn8FlTf0r"
   },
   "outputs": [],
   "source": [
    "ord('A')"
   ]
  },
  {
   "cell_type": "markdown",
   "metadata": {
    "id": "x_CcZUtiTjv0"
   },
   "source": [
    "**20) pow(x, y) 함수**\n",
    "\n",
    "- x를 y번 제곱한 결과를 반환합니다."
   ]
  },
  {
   "cell_type": "code",
   "execution_count": null,
   "metadata": {
    "id": "PY0zVqM_TmyF"
   },
   "outputs": [],
   "source": [
    "pow(5, 3)"
   ]
  },
  {
   "cell_type": "markdown",
   "metadata": {
    "id": "UuEGp0bPUMhs"
   },
   "source": [
    "**21) range(x, y, z) 함수**\n",
    "\n",
    "- x 부터 y - 1 까지 z 씩 증가하는 객체를 반환합니다."
   ]
  },
  {
   "cell_type": "code",
   "execution_count": null,
   "metadata": {
    "id": "mNnSJV3XT16O"
   },
   "outputs": [],
   "source": [
    "print(list(range(10)))\n",
    "print(list(range(1, 11)))\n",
    "print(list(range(1, 11, 2)))"
   ]
  },
  {
   "cell_type": "code",
   "execution_count": 166,
   "metadata": {
    "tags": []
   },
   "outputs": [
    {
     "data": {
      "text/plain": [
       "[2, 3, 4, 5]"
      ]
     },
     "execution_count": 166,
     "metadata": {},
     "output_type": "execute_result"
    }
   ],
   "source": [
    "a = [3,2,4,5]\n",
    "a.sort()\n",
    "a"
   ]
  },
  {
   "cell_type": "markdown",
   "metadata": {
    "id": "NQtdaqrfWe7c"
   },
   "source": [
    "**22) sorted(x) 함수**\n",
    "\n",
    "- x 요소를 정렬하여 반환합니다.\n"
   ]
  },
  {
   "cell_type": "code",
   "execution_count": null,
   "metadata": {
    "id": "q7DMxdm-WZli"
   },
   "outputs": [],
   "source": [
    "a = [3, 2, 4, 5, 1]\n",
    "a = sorted(a)\n",
    "a"
   ]
  },
  {
   "cell_type": "markdown",
   "metadata": {
    "id": "6qZN1puYXCPK"
   },
   "source": [
    "**23) str(x) 함수**\n",
    "\n",
    "- x를 문자열로 변환하여 반환합니다."
   ]
  },
  {
   "cell_type": "code",
   "execution_count": null,
   "metadata": {
    "id": "gvXPhTOfW7a2"
   },
   "outputs": [],
   "source": [
    "a = 123\n",
    "b = str(a) + '입니다.'\n",
    "b"
   ]
  },
  {
   "cell_type": "markdown",
   "metadata": {
    "id": "Do7jUvRKYVht"
   },
   "source": [
    "**24) sum(x) 함수**\n",
    "\n",
    "- x의 요소를 모두 더한 결과를 반환합니다."
   ]
  },
  {
   "cell_type": "code",
   "execution_count": null,
   "metadata": {
    "id": "9ll8KYpEYTn7"
   },
   "outputs": [],
   "source": [
    "a = [1, 2, 3, 4, 5]\n",
    "sum(a)"
   ]
  },
  {
   "cell_type": "markdown",
   "metadata": {
    "id": "aaS7xGKZXJNF"
   },
   "source": [
    "**25) tuple(x) 함수**\n",
    "\n",
    "- x를 튜플로 변환하여 반환합니다."
   ]
  },
  {
   "cell_type": "code",
   "execution_count": null,
   "metadata": {
    "id": "wXoBOIRaXPmJ"
   },
   "outputs": [],
   "source": [
    "a = '1234567890'\n",
    "b = tuple(a)\n",
    "b"
   ]
  },
  {
   "cell_type": "markdown",
   "metadata": {
    "id": "_9YTHvV-Xd0-"
   },
   "source": [
    "**26) zip(x, y) 함수**\n",
    "\n",
    "- x와 y 요소를 쌍으로 묶어서 반환합니다."
   ]
  },
  {
   "cell_type": "code",
   "execution_count": 168,
   "metadata": {
    "id": "UAkulD9_XVup",
    "tags": []
   },
   "outputs": [
    {
     "data": {
      "text/plain": [
       "[(1, 10), (2, 20), (3, 30), (4, 40)]"
      ]
     },
     "execution_count": 168,
     "metadata": {},
     "output_type": "execute_result"
    }
   ],
   "source": [
    "a = [1, 2, 3, 4, 5]\n",
    "b = [10, 20, 30, 40]\n",
    "list(zip(a, b))"
   ]
  },
  {
   "cell_type": "code",
   "execution_count": null,
   "metadata": {},
   "outputs": [],
   "source": []
  }
 ],
 "metadata": {
  "colab": {
   "collapsed_sections": [],
   "name": "08 - 함수.ipynb",
   "provenance": [],
   "toc_visible": true
  },
  "kernelspec": {
   "display_name": "Python 3 (ipykernel)",
   "language": "python",
   "name": "python3"
  },
  "language_info": {
   "codemirror_mode": {
    "name": "ipython",
    "version": 3
   },
   "file_extension": ".py",
   "mimetype": "text/x-python",
   "name": "python",
   "nbconvert_exporter": "python",
   "pygments_lexer": "ipython3",
   "version": "3.11.4"
  }
 },
 "nbformat": 4,
 "nbformat_minor": 4
}
