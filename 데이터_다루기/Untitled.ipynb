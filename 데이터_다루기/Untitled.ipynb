{
 "cells": [
  {
   "cell_type": "code",
   "execution_count": 1,
   "id": "e67fd11b-afb5-434d-9e08-cf74187b26f4",
   "metadata": {
    "tags": []
   },
   "outputs": [
    {
     "name": "stdin",
     "output_type": "stream",
     "text": [
      " Hellow World\n"
     ]
    }
   ],
   "source": [
    "str = input()"
   ]
  },
  {
   "cell_type": "code",
   "execution_count": 2,
   "id": "346576a2-85a6-49ea-951f-b6e73a1b6095",
   "metadata": {
    "tags": []
   },
   "outputs": [
    {
     "data": {
      "text/plain": [
       "str"
      ]
     },
     "execution_count": 2,
     "metadata": {},
     "output_type": "execute_result"
    }
   ],
   "source": [
    "type('1')"
   ]
  },
  {
   "cell_type": "code",
   "execution_count": 8,
   "id": "b2235bf5-e44f-4ecb-b879-cbafa51c031c",
   "metadata": {
    "tags": []
   },
   "outputs": [
    {
     "name": "stdin",
     "output_type": "stream",
     "text": [
      " 4 5\n"
     ]
    },
    {
     "name": "stdout",
     "output_type": "stream",
     "text": [
      "a= 4\n",
      "b= 5\n"
     ]
    }
   ],
   "source": [
    "a, b = map(int, input().strip().split(' '))\n",
    "print('a=',a)\n",
    "print('b=',b)"
   ]
  },
  {
   "cell_type": "code",
   "execution_count": 11,
   "id": "ecf4db00-73ca-4e5c-b083-ca67a3217e45",
   "metadata": {
    "tags": []
   },
   "outputs": [
    {
     "name": "stdout",
     "output_type": "stream",
     "text": [
      "1\n",
      "2\n",
      "3\n"
     ]
    }
   ],
   "source": [
    "list = [1,2,3]\n",
    "for i in list:\n",
    "    print(i)"
   ]
  },
  {
   "cell_type": "code",
   "execution_count": 20,
   "id": "c0e5dd92-a8c0-4a71-b344-8a02991fdb5f",
   "metadata": {
    "tags": []
   },
   "outputs": [
    {
     "name": "stdout",
     "output_type": "stream",
     "text": [
      "ABC\n",
      "abc\n",
      "a\n",
      "a\n",
      "b\n",
      "c\n"
     ]
    }
   ],
   "source": [
    "a = 'abc'\n",
    "print(a.upper())\n",
    "print(a.lower())\n",
    "print(a[0])\n",
    "\n",
    "for i in range(len(a)):\n",
    "    print(a[i])"
   ]
  },
  {
   "cell_type": "code",
   "execution_count": null,
   "id": "f20c333c-a698-46ea-9fb4-da127add9f5b",
   "metadata": {
    "tags": []
   },
   "outputs": [],
   "source": [
    "str = input()\n",
    "a=''\n",
    "for i in range(len(str)):\n",
    "    if str[i].islower():\n",
    "        str[i].upper()\n",
    "        a += str[i]\n",
    "    else:\n",
    "        str[i].lower()\n",
    "        a += str[i]\n",
    "print(a)"
   ]
  },
  {
   "cell_type": "code",
   "execution_count": 2,
   "id": "00bd0e47-70cc-4bf3-984a-2a23b9f7ba1a",
   "metadata": {
    "tags": []
   },
   "outputs": [
    {
     "name": "stdin",
     "output_type": "stream",
     "text": [
      " aBcDeFg\n"
     ]
    },
    {
     "name": "stdout",
     "output_type": "stream",
     "text": [
      "AbCdEfG\n"
     ]
    }
   ],
   "source": [
    "str = input()\n",
    "a=''\n",
    "for i in range(len(str)):\n",
    "    if str[i].islower():\n",
    "        str[i].upper()\n",
    "        a += str[i].upper()\n",
    "    else:\n",
    "        str[i].lower()\n",
    "        a += str[i].lower()\n",
    "print(a)"
   ]
  },
  {
   "cell_type": "code",
   "execution_count": 5,
   "id": "4ec0a886-162a-4e0d-b5ac-aecbc5a12f07",
   "metadata": {
    "tags": []
   },
   "outputs": [
    {
     "data": {
      "text/plain": [
       "'111'"
      ]
     },
     "execution_count": 5,
     "metadata": {},
     "output_type": "execute_result"
    }
   ],
   "source": [
    "def solution(my_string, overwrite_string, s):\n",
    "    answer = '1'*s\n",
    "    return answer\n",
    "\n",
    "solution(1,2,3)"
   ]
  },
  {
   "cell_type": "code",
   "execution_count": 10,
   "id": "2f61b0d6-6baa-4117-af3e-41b2db6e1e29",
   "metadata": {
    "tags": []
   },
   "outputs": [
    {
     "name": "stdout",
     "output_type": "stream",
     "text": [
      "HelloWorld\n",
      "ProgrammerS123\n"
     ]
    }
   ],
   "source": [
    "def solution(my_string, overwrite_string, s):\n",
    "    answer = my_string[:s] + overwrite_string\n",
    "    return answer\n",
    "\n",
    "print(solution(\"He11oWor1d\", \"lloWorld\", 2))\n",
    "print(solution(\"Program29b8UYP\",\"merS123\",7))"
   ]
  },
  {
   "cell_type": "code",
   "execution_count": 43,
   "id": "df3fc13b-713c-496a-b3c9-eeed9cf84d91",
   "metadata": {
    "tags": []
   },
   "outputs": [
    {
     "name": "stdout",
     "output_type": "stream",
     "text": [
      "HelloWorld\n",
      "ProgrammerS123\n"
     ]
    }
   ],
   "source": [
    "def solution(my_string, overwrite_string, s):\n",
    "    answer = my_string[:s] + overwrite_string[:] +  my_string[s+len(overwrite_string):]\n",
    "    return answer\n",
    "\n",
    "print(solution(\"HelloWorld\", 'lloWorl', 2))\n",
    "print(solution(\"Program29b8UYP\",\"merS123\",7))"
   ]
  },
  {
   "cell_type": "code",
   "execution_count": 32,
   "id": "45d31d06-7f1d-4ea9-aed1-0f55cc68a0cf",
   "metadata": {
    "tags": []
   },
   "outputs": [
    {
     "data": {
      "text/plain": [
       "7"
      ]
     },
     "execution_count": 32,
     "metadata": {},
     "output_type": "execute_result"
    }
   ],
   "source": [
    "len('lloWorl')"
   ]
  },
  {
   "cell_type": "code",
   "execution_count": 51,
   "id": "d9a6065d-40d7-4765-9521-c4a84ebc82ea",
   "metadata": {
    "tags": []
   },
   "outputs": [
    {
     "name": "stdout",
     "output_type": "stream",
     "text": [
      "aaaaabbbbb  <class 'str'>\n"
     ]
    }
   ],
   "source": [
    "str1 = 'aaaaa'\n",
    "str2 = 'bbbbb'\n",
    "str = str1 + str2\n",
    "print(str, '', type(str))"
   ]
  },
  {
   "cell_type": "code",
   "execution_count": 79,
   "id": "afd304c2-c694-493d-b983-06a503e0fd3a",
   "metadata": {
    "tags": []
   },
   "outputs": [
    {
     "name": "stdout",
     "output_type": "stream",
     "text": [
      "0 번쨰 a\n",
      "1 번쨰 b\n",
      "2 번쨰 a\n",
      "3 번쨰 b\n",
      "4 번쨰 a\n",
      "5 번쨰 \n",
      "6 번쨰 b\n",
      "7 번쨰 \n",
      "8 번쨰 b\n",
      "9 번쨰 \n"
     ]
    },
    {
     "data": {
      "text/plain": [
       "'abababb'"
      ]
     },
     "execution_count": 79,
     "metadata": {},
     "output_type": "execute_result"
    }
   ],
   "source": [
    "str1 = 'aaaaa'\n",
    "str2 = 'bbbbb'\n",
    "final = str1 + str2\n",
    "\n",
    "def solution(str1, str2):\n",
    "    answer = str1 + str2\n",
    "    final = ''\n",
    "\n",
    "    for i in range(len(answer)):\n",
    "        if i%2==0:\n",
    "            \n",
    "            final += answer[i:i+1]\n",
    "            print(i,'번쨰',answer[i:i+1])\n",
    "            \n",
    "        else:\n",
    "            final += answer[i+len(str1) : i+len(str1)+1]\n",
    "            print(i,'번쨰',answer[i+len(str1) : i+len(str1)+1])\n",
    "    return final\n",
    "\n",
    "solution(str1,str2)\n",
    "\n"
   ]
  },
  {
   "cell_type": "code",
   "execution_count": 77,
   "id": "2dda7db6-e93f-412f-a57a-7845e2d4f368",
   "metadata": {
    "tags": []
   },
   "outputs": [
    {
     "data": {
      "text/plain": [
       "10"
      ]
     },
     "execution_count": 77,
     "metadata": {},
     "output_type": "execute_result"
    }
   ],
   "source": [
    "str1 = 'aaaaa'\n",
    "str2 = 'bbbbb'\n",
    "final = str1 + str2\n",
    "len(final)"
   ]
  },
  {
   "cell_type": "code",
   "execution_count": 83,
   "id": "ce6eea83-04d1-4d8e-8a71-d5439c88fdec",
   "metadata": {
    "tags": []
   },
   "outputs": [
    {
     "ename": "TypeError",
     "evalue": "cannot unpack non-iterable int object",
     "output_type": "error",
     "traceback": [
      "\u001b[1;31m---------------------------------------------------------------------------\u001b[0m",
      "\u001b[1;31mTypeError\u001b[0m                                 Traceback (most recent call last)",
      "Cell \u001b[1;32mIn[83], line 4\u001b[0m\n\u001b[0;32m      1\u001b[0m str1 \u001b[38;5;241m=\u001b[39m \u001b[38;5;124m'\u001b[39m\u001b[38;5;124maaaaa\u001b[39m\u001b[38;5;124m'\u001b[39m\n\u001b[0;32m      2\u001b[0m str2 \u001b[38;5;241m=\u001b[39m \u001b[38;5;124m'\u001b[39m\u001b[38;5;124mbbbbb\u001b[39m\u001b[38;5;124m'\u001b[39m\n\u001b[1;32m----> 4\u001b[0m \u001b[38;5;28;01mfor\u001b[39;00m x, i \u001b[38;5;129;01min\u001b[39;00m \u001b[38;5;28mrange\u001b[39m(\u001b[38;5;28mlen\u001b[39m(str1)):\n\u001b[0;32m      5\u001b[0m     \u001b[38;5;28mprint\u001b[39m(x)\n",
      "\u001b[1;31mTypeError\u001b[0m: cannot unpack non-iterable int object"
     ]
    }
   ],
   "source": [
    "str1 = 'aaaaa'\n",
    "str2 = 'bbbbb'\n",
    "\n",
    "for x, i in range(len(str1)):\n",
    "    print(x)"
   ]
  },
  {
   "cell_type": "code",
   "execution_count": 89,
   "id": "2c0fc4f9-bb93-4caf-9ded-4a209a4680aa",
   "metadata": {
    "tags": []
   },
   "outputs": [
    {
     "data": {
      "text/plain": [
       "['a', 'a', 'a', 'a', 'a']"
      ]
     },
     "execution_count": 89,
     "metadata": {},
     "output_type": "execute_result"
    }
   ],
   "source": [
    "\n",
    "str1 = 'aaaaa'\n",
    "a = list(str1)\n",
    "a"
   ]
  },
  {
   "cell_type": "code",
   "execution_count": 88,
   "id": "6880b7cc-101f-4c50-86f0-81b4781dfb3b",
   "metadata": {
    "tags": []
   },
   "outputs": [],
   "source": [
    "del list"
   ]
  },
  {
   "cell_type": "code",
   "execution_count": 128,
   "id": "24e092e6-82f9-4ffc-8fe0-43f4737a2cc2",
   "metadata": {
    "tags": []
   },
   "outputs": [
    {
     "name": "stdout",
     "output_type": "stream",
     "text": [
      "1526374859\n"
     ]
    }
   ],
   "source": [
    "\n",
    "str1 = '12345'\n",
    "str2 = '56789'\n",
    "a = list(str1)\n",
    "b = list(str2)\n",
    "\n",
    "c=''\n",
    "\n",
    "for i,j in zip(a,b):\n",
    "    c +=i\n",
    "    c +=j\n",
    "    \n",
    "print(c)\n",
    "\n"
   ]
  },
  {
   "cell_type": "code",
   "execution_count": 127,
   "id": "b0f06cda-fed6-4a07-b2d6-7c1d1cdb23f9",
   "metadata": {
    "tags": []
   },
   "outputs": [
    {
     "data": {
      "text/plain": [
       "'aaaaabbbbb'"
      ]
     },
     "execution_count": 127,
     "metadata": {},
     "output_type": "execute_result"
    }
   ],
   "source": [
    "str1 ='12345'\n",
    "str2 ='56789'\n",
    "\n",
    "def solution(str1, str2):\n",
    "    # str1 = '12345'\n",
    "    # str2 = '56789'\n",
    "    a = list(str1)\n",
    "    b = list(str2)\n",
    "    c = ''\n",
    "    \n",
    "    for i, j in zip(a,b):\n",
    "        c+=i\n",
    "        c+=j\n",
    "        \n",
    "    \n",
    "    return final\n",
    "\n",
    "solution(str1,str2)"
   ]
  },
  {
   "cell_type": "code",
   "execution_count": 132,
   "id": "e804efe3-6f22-4ffc-bdc0-2f8382fa5dd1",
   "metadata": {
    "tags": []
   },
   "outputs": [
    {
     "data": {
      "text/plain": [
       "'ababababab'"
      ]
     },
     "execution_count": 132,
     "metadata": {},
     "output_type": "execute_result"
    }
   ],
   "source": [
    "def solution(str1, str2):\n",
    "    a = list(str1)\n",
    "    b = list(str2)\n",
    "    c = ''    \n",
    "    for i, j in zip(a,b):\n",
    "        c+=i\n",
    "        \n",
    "        c+=j\n",
    "        \n",
    "        \n",
    "    return c\n",
    "\n",
    "solution('aaaaa','bbbbb')"
   ]
  },
  {
   "cell_type": "code",
   "execution_count": 134,
   "id": "97b73691-64f9-43b2-8fff-e3dae482300b",
   "metadata": {
    "tags": []
   },
   "outputs": [
    {
     "data": {
      "text/plain": [
       "'ababababab'"
      ]
     },
     "execution_count": 134,
     "metadata": {},
     "output_type": "execute_result"
    }
   ],
   "source": [
    "def solution(str1, str2):\n",
    "\n",
    "    a = list(str1)\n",
    "    b = list(str2)\n",
    "    c = ''\n",
    "    \n",
    "    for i, j in zip(a,b):\n",
    "        c+=i\n",
    "        c+=j\n",
    "        \n",
    "    return c\n",
    "\n",
    "solution('aaaaa','bbbbb')"
   ]
  },
  {
   "cell_type": "code",
   "execution_count": 144,
   "id": "a26ae1e2-6378-4af7-95ef-73fa538b4a29",
   "metadata": {
    "tags": []
   },
   "outputs": [
    {
     "name": "stdout",
     "output_type": "stream",
     "text": [
      "a\n",
      "b\n",
      "c\n",
      "d\n",
      "e\n",
      "abcde\n"
     ]
    }
   ],
   "source": [
    "import numpy as np\n",
    "arr = [\"a\",\"b\",\"c\",\"d\",\"e\"]\n",
    "final =''\n",
    "for i in arr:\n",
    "    print(i)\n",
    "    final +=i\n",
    "    \n",
    "print(final)"
   ]
  },
  {
   "cell_type": "code",
   "execution_count": 145,
   "id": "cd457956-495d-4f10-95e4-9ab8fe6e8673",
   "metadata": {
    "tags": []
   },
   "outputs": [
    {
     "ename": "NameError",
     "evalue": "name 'string' is not defined",
     "output_type": "error",
     "traceback": [
      "\u001b[1;31m---------------------------------------------------------------------------\u001b[0m",
      "\u001b[1;31mNameError\u001b[0m                                 Traceback (most recent call last)",
      "Cell \u001b[1;32mIn[145], line 1\u001b[0m\n\u001b[1;32m----> 1\u001b[0m my_string \u001b[38;5;241m=\u001b[39m string\n\u001b[0;32m      2\u001b[0m k \u001b[38;5;241m=\u001b[39m \u001b[38;5;241m3\u001b[39m\n",
      "\u001b[1;31mNameError\u001b[0m: name 'string' is not defined"
     ]
    }
   ],
   "source": [
    "my_string = string\n",
    "k = 3\n",
    "\n"
   ]
  },
  {
   "cell_type": "code",
   "execution_count": 146,
   "id": "a2e9f3e7-4333-4ee8-989b-565fba6bd0f4",
   "metadata": {
    "tags": []
   },
   "outputs": [
    {
     "data": {
      "text/plain": [
       "4"
      ]
     },
     "execution_count": 146,
     "metadata": {},
     "output_type": "execute_result"
    }
   ],
   "source": [
    "a='aaaa'\n",
    "len(a)"
   ]
  },
  {
   "cell_type": "code",
   "execution_count": 167,
   "id": "ed4d0272-e64c-44a9-9e86-0ae18f0e3c0c",
   "metadata": {
    "tags": []
   },
   "outputs": [
    {
     "name": "stdout",
     "output_type": "stream",
     "text": [
      "31\n",
      "2\n",
      "3100\n"
     ]
    }
   ],
   "source": [
    "a = 31\n",
    "a = str(a)\n",
    "len_a = 10**len(a)\n",
    "\n",
    "\n",
    "print(a)\n",
    "\n",
    "print(len(a))\n",
    "\n",
    "\n",
    "a = int(a)\n",
    "a = a*len_a\n",
    "\n",
    "print(a)\n"
   ]
  },
  {
   "cell_type": "code",
   "execution_count": 169,
   "id": "f2d9596b-9181-40bf-a40d-d06818a6b268",
   "metadata": {
    "tags": []
   },
   "outputs": [
    {
     "name": "stdout",
     "output_type": "stream",
     "text": [
      "3100\n"
     ]
    }
   ],
   "source": [
    "a = 31\n",
    "a = str(a)\n",
    "len_a =10**len(str(a))\n",
    "\n",
    "\n",
    "\n",
    "\n",
    "a = int(a)\n",
    "a = a*len_a\n",
    "\n",
    "print(a)\n"
   ]
  },
  {
   "cell_type": "code",
   "execution_count": 183,
   "id": "db9b4528-4797-4093-bafd-5c617b8495bc",
   "metadata": {
    "tags": []
   },
   "outputs": [
    {
     "name": "stdout",
     "output_type": "stream",
     "text": [
      "2\n",
      "2\n",
      "9100\n",
      "9100\n"
     ]
    }
   ],
   "source": [
    "b=91\n",
    "\n",
    "len_b = len(str(b))\n",
    "print(len_b)\n",
    "\n",
    "\n",
    "print(len(str(b)))\n",
    "b_power = 10**len(str(b))\n",
    "print(b*b_power)\n",
    "\n",
    "print(b* ( 10**len( str(b) ) ) )"
   ]
  },
  {
   "cell_type": "code",
   "execution_count": 204,
   "id": "ed3abd5d-cb89-4acf-96f6-fc8bbb280548",
   "metadata": {
    "tags": []
   },
   "outputs": [
    {
     "name": "stdout",
     "output_type": "stream",
     "text": [
      "a 9\n",
      "b 91\n",
      "자릿수_a 1\n",
      "자릿수_b 10\n",
      "\n",
      "\n",
      "1 100\n",
      "2 919\n",
      "a_power + b < a + b_power\n",
      "9\n",
      "910\n",
      "919\n",
      "a 89\n",
      "b 8\n",
      "자릿수_a 10\n",
      "자릿수_b 1\n",
      "\n",
      "\n",
      "1 898\n",
      "2 97\n",
      "a_power + b > a + b_power\n",
      "890\n",
      "8\n",
      "898\n"
     ]
    }
   ],
   "source": [
    "def solution(a,b):\n",
    "    print('a',a)\n",
    "    print('b',b)\n",
    "    \n",
    "    \n",
    "    print( '자릿수_a', 10**(len( str(a) ) -1) )\n",
    "    print( '자릿수_b', 10** (len( str(b) ) -1) )\n",
    "    \n",
    "    a_power = a * ( 10** (len( str(a) ) -1) )\n",
    "    b_power = b * ( 10** (len( str(b) ) -1) )\n",
    "    \n",
    "    print('\\n')\n",
    "\n",
    "    \n",
    "    print('1',a_power + b)\n",
    "    print('2',a + b_power)\n",
    "    \n",
    "    \n",
    "    \n",
    "    if a_power + b > a + b_power:\n",
    "        print('a_power + b > a + b_power')\n",
    "        print(a_power)\n",
    "        print(b)\n",
    "        answer = a_power+b\n",
    "    else:\n",
    "        print('a_power + b < a + b_power')\n",
    "        print(a)\n",
    "        print(b_power)\n",
    "        answer = a + b_power\n",
    "    return answer\n",
    "\n",
    "\n",
    "print(solution(9,91))\n",
    "print(solution(89,8))"
   ]
  },
  {
   "cell_type": "code",
   "execution_count": null,
   "id": "a594da45-7ec1-49e1-9bad-8f0692283d72",
   "metadata": {},
   "outputs": [],
   "source": []
  }
 ],
 "metadata": {
  "kernelspec": {
   "display_name": "Python 3 (ipykernel)",
   "language": "python",
   "name": "python3"
  },
  "language_info": {
   "codemirror_mode": {
    "name": "ipython",
    "version": 3
   },
   "file_extension": ".py",
   "mimetype": "text/x-python",
   "name": "python",
   "nbconvert_exporter": "python",
   "pygments_lexer": "ipython3",
   "version": "3.11.4"
  }
 },
 "nbformat": 4,
 "nbformat_minor": 5
}
