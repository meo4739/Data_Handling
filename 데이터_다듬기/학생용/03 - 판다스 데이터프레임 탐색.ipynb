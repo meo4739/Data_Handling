{
 "cells": [
  {
   "cell_type": "markdown",
   "metadata": {
    "id": "BFhIXgdYoYGp"
   },
   "source": [
    "<center><img src='https://raw.githubusercontent.com/Jangrae/img/master/title.png' width=500/></center>"
   ]
  },
  {
   "cell_type": "markdown",
   "metadata": {
    "id": "-sdzPN0Uwxi2"
   },
   "source": [
    "# 2.데이터프레임 탐색\n",
    "\n",
    "- 데이터프레임 탐색은 **데이터프레임**의 **키**와 **몸무게**를 재는 것이라 할 수 있습니다.\n",
    "- 파일에서 불러온 데이터의 크기, 내용, 분포, 누락된 값 등을 확인할 수 있어야 합니다.\n",
    "- 확인된 내용을 통해 데이터 전처리 필요 여부를 결정합니다.\n",
    "- 데이터를 알아야 데이터를 분석할 수 있습니다."
   ]
  },
  {
   "cell_type": "code",
   "execution_count": 1,
   "metadata": {
    "id": "siCMN2lzSelq"
   },
   "outputs": [],
   "source": [
    "# 라이브러리 불러오기\n",
    "import pandas as pd"
   ]
  },
  {
   "cell_type": "code",
   "execution_count": 2,
   "metadata": {
    "id": "i-hbJbQnH_tC"
   },
   "outputs": [
    {
     "ename": "SyntaxError",
     "evalue": "invalid syntax (549444574.py, line 3)",
     "output_type": "error",
     "traceback": [
      "\u001b[1;36m  Cell \u001b[1;32mIn[2], line 3\u001b[1;36m\u001b[0m\n\u001b[1;33m    tip =\u001b[0m\n\u001b[1;37m          ^\u001b[0m\n\u001b[1;31mSyntaxError\u001b[0m\u001b[1;31m:\u001b[0m invalid syntax\n"
     ]
    }
   ],
   "source": [
    "# 데이터 읽어오기\n",
    "path = 'https://raw.githubusercontent.com/Jangrae/csv/master/tips.csv'\n",
    "tip = "
   ]
  },
  {
   "cell_type": "markdown",
   "metadata": {
    "id": "tBiPJrpmJ7Ys"
   },
   "source": [
    "**[tips 데이터 셋 정보]**\n",
    "\n",
    "- total_bill: 금액\n",
    "- tip: 팁\n",
    "- sex: 성별(Male, Female)\n",
    "- smoker: 흡연 여부(Yes. No)\n",
    "- day: 요일([Thur, Fri, Sat, Sun)\n",
    "- time: 시간(Dinner, Lunch)\n",
    "- size: 고객 수"
   ]
  },
  {
   "cell_type": "markdown",
   "metadata": {
    "id": "pYIMdO6BeBaH"
   },
   "source": [
    "**[참고] 우선 익숙해져야 할 것들**\n",
    "\n",
    "- head(): 상위 데이터 확인\n",
    "- tail(): 하위 데이터 확인\n",
    "- shape: 데이터프레임 크기\n",
    "- index: 인덱스 정보 확인\n",
    "- values: 값 정보 확인\n",
    "- columns: 열 정보 확인\n",
    "- dtypes: 열 자료형 확인\n",
    "- info(): 열에 대한 상세한 정보 확인\n",
    "- describe(): 기초통계정보 확인"
   ]
  },
  {
   "cell_type": "markdown",
   "metadata": {
    "id": "hbfAmuE90-ht"
   },
   "source": [
    "<img src='https://raw.githubusercontent.com/jangrae/img/master/eda.png' width=700 align=\"left\"/>"
   ]
  },
  {
   "cell_type": "markdown",
   "metadata": {
    "id": "ut-2PJEa3ES4"
   },
   "source": [
    "## 2.1.앞, 뒤 일부 데이터, 크기 확인\n",
    "\n",
    "- **head(*n*), tail(*n*)** 메소드를 사용해 앞 뒤 데이터를 확인합니다.\n",
    "- 개수를 지정하지 않으면 기본적으로 5개 행이 조회됩니다."
   ]
  },
  {
   "cell_type": "markdown",
   "metadata": {
    "id": "xifu7T7TsCYu"
   },
   "source": [
    "**1) 상위 데이터 확인**"
   ]
  },
  {
   "cell_type": "code",
   "execution_count": null,
   "metadata": {
    "id": "TVoWootyIJPU",
    "scrolled": true
   },
   "outputs": [],
   "source": [
    "# 상위 10개 행 데이터\n"
   ]
  },
  {
   "cell_type": "markdown",
   "metadata": {
    "id": "-vHvSJQhsFht"
   },
   "source": [
    "**2) 하위 데이터 확인**"
   ]
  },
  {
   "cell_type": "code",
   "execution_count": null,
   "metadata": {
    "id": "-Qr9hq-SsV70"
   },
   "outputs": [],
   "source": [
    "# 하위 3개 행 데이터\n"
   ]
  },
  {
   "cell_type": "markdown",
   "metadata": {
    "id": "6lBnFI3xsJRR"
   },
   "source": [
    "**3) 크기 확인**\n",
    "\n",
    "- **(rows, cols)** 값을 갖는 **튜플** 형태로 확인이 가능합니다.\n",
    "- 데이터를 분석할 때 처리할 **데이터 양을 확인**하는 목적으로 많이 사용 합니다."
   ]
  },
  {
   "cell_type": "code",
   "execution_count": null,
   "metadata": {
    "id": "EYh2NhMSYnVh"
   },
   "outputs": [],
   "source": [
    "# 행 수와 열 수 확인\n",
    "tip.shape"
   ]
  },
  {
   "cell_type": "markdown",
   "metadata": {
    "id": "Lf1-5iz_wxkT"
   },
   "source": [
    "## 2.2.열, 행 정보 보기"
   ]
  },
  {
   "cell_type": "markdown",
   "metadata": {
    "id": "DKmBgIFtIJPa"
   },
   "source": [
    "**1) 인덱스 확인**"
   ]
  },
  {
   "cell_type": "code",
   "execution_count": null,
   "metadata": {
    "id": "iGMPPsVZmO_J"
   },
   "outputs": [],
   "source": [
    "# 인덱스 확인\n"
   ]
  },
  {
   "cell_type": "markdown",
   "metadata": {
    "id": "2yAu6hjGmqX5"
   },
   "source": [
    "**2) 값 확인**\n",
    "\n",
    "- values 속성 조회 결과는 Array 입니다."
   ]
  },
  {
   "cell_type": "code",
   "execution_count": null,
   "metadata": {
    "id": "DK_uz55rmRRM"
   },
   "outputs": [],
   "source": [
    "# 값 확인\n"
   ]
  },
  {
   "cell_type": "markdown",
   "metadata": {
    "id": "moM8H3EnmtsP"
   },
   "source": [
    "**3) 열 확인**"
   ]
  },
  {
   "cell_type": "code",
   "execution_count": null,
   "metadata": {
    "id": "YZp-NPIQYnVl",
    "scrolled": false
   },
   "outputs": [],
   "source": [
    "# 열 확인\n"
   ]
  },
  {
   "cell_type": "markdown",
   "metadata": {
    "id": "03NTnomXIJPc"
   },
   "source": [
    "**4) 자료형 확인**\n",
    "- int64: 정수형 데이터(int)\n",
    "- float64: 실수형 데이터(float)\n",
    "- object: 문자열 데이터(string)"
   ]
  },
  {
   "cell_type": "code",
   "execution_count": null,
   "metadata": {
    "id": "mJbpIbz2YnVn",
    "scrolled": true
   },
   "outputs": [],
   "source": [
    "# 열 자료형 확인\n"
   ]
  },
  {
   "cell_type": "code",
   "execution_count": null,
   "metadata": {
    "id": "zXmD-NqbURwP",
    "scrolled": true
   },
   "outputs": [],
   "source": [
    "# 열 자료형, 값 개수 확인\n"
   ]
  },
  {
   "cell_type": "markdown",
   "metadata": {
    "id": "ZdTxUS47IJPe"
   },
   "source": [
    "**5) 기술 통계 확인**\n",
    "\n",
    "- 기술 통계(Descriptive Statistics)는 데이터의 정리, 요약, 해석, 표현 등을 통해 데이터가 갖는 특성을 나타내는 정보입니다.\n",
    "- describe() 메소드는 데이터에 대한 많은 정보를 제공하는 매우 중요한 메소드입니다.\n",
    "- 개수(count), 평균(mean), 표준편차(std), 최솟값(min), 사분위값(25%, 50%, 75%), 최댓값(max)을 표시합니다."
   ]
  },
  {
   "cell_type": "code",
   "execution_count": null,
   "metadata": {
    "id": "8Z8rhBNBYnVw",
    "scrolled": true
   },
   "outputs": [],
   "source": [
    "# 기술 통계\n"
   ]
  },
  {
   "cell_type": "markdown",
   "metadata": {
    "id": "aKbf5zyz9Kuc"
   },
   "source": [
    "- 일부 열에 대해서만 기술 통계를 확인할 수 있습니다."
   ]
  },
  {
   "cell_type": "code",
   "execution_count": null,
   "metadata": {
    "id": "KP6zEKvC9Jxu"
   },
   "outputs": [],
   "source": [
    "# 기술 통계\n"
   ]
  },
  {
   "cell_type": "markdown",
   "metadata": {},
   "source": [
    "**[참고] 사분위에 대한 이해**"
   ]
  },
  {
   "cell_type": "markdown",
   "metadata": {},
   "source": [
    "<img src='https://raw.githubusercontent.com/jangrae/img/master/quartile2.png' width=700 align=\"left\"/>"
   ]
  },
  {
   "cell_type": "markdown",
   "metadata": {
    "id": "JhRnKC0L-wjG"
   },
   "source": [
    "<img src='https://raw.githubusercontent.com/jangrae/img/master/practice_01.png' width=120 align=\"left\"/>"
   ]
  },
  {
   "cell_type": "markdown",
   "metadata": {},
   "source": [
    "[문1] 25%, 50%, 75% 값을 확인하세요."
   ]
  },
  {
   "cell_type": "markdown",
   "metadata": {},
   "source": [
    "<img src='https://raw.githubusercontent.com/jangrae/img/master/quartile_q.png' width=700 align=\"left\"/>"
   ]
  },
  {
   "cell_type": "markdown",
   "metadata": {
    "id": "IOb6vqTbdtPC"
   },
   "source": [
    "[문2] 다음 경로의 파일을 읽어와 temp 데이터프레임을 선언하세요.\n",
    "\n",
    "- 파일 경로: 'https://raw.githubusercontent.com/Jangrae/csv/master/weather_simple.csv'"
   ]
  },
  {
   "cell_type": "code",
   "execution_count": null,
   "metadata": {
    "id": "UmooiWmRdQUj",
    "scrolled": false
   },
   "outputs": [],
   "source": [
    "# 데이터 읽어오기\n",
    "\n"
   ]
  },
  {
   "cell_type": "markdown",
   "metadata": {
    "id": "fdi1AhcMEqAn"
   },
   "source": [
    "[문3] temp 데이터프레임 관련 정보를 확인하세요."
   ]
  },
  {
   "cell_type": "code",
   "execution_count": null,
   "metadata": {
    "id": "2XqDG9RwtaXz"
   },
   "outputs": [],
   "source": [
    "# 상위 데이터 확인\n"
   ]
  },
  {
   "cell_type": "code",
   "execution_count": null,
   "metadata": {
    "id": "juWI1txLdtPE",
    "scrolled": false
   },
   "outputs": [],
   "source": [
    "# 크기 확인\n"
   ]
  },
  {
   "cell_type": "code",
   "execution_count": null,
   "metadata": {
    "id": "6X9fadORdtPJ"
   },
   "outputs": [],
   "source": [
    "# 인덱스 확인\n"
   ]
  },
  {
   "cell_type": "code",
   "execution_count": null,
   "metadata": {
    "id": "orwZpYENdtPN"
   },
   "outputs": [],
   "source": [
    "# 열 확인\n"
   ]
  },
  {
   "cell_type": "code",
   "execution_count": null,
   "metadata": {
    "id": "P1q5Hn6FdtPQ"
   },
   "outputs": [],
   "source": [
    "# 열 자료형, 값 개수 확인\n"
   ]
  },
  {
   "cell_type": "code",
   "execution_count": null,
   "metadata": {
    "executionInfo": {
     "elapsed": 3,
     "status": "ok",
     "timestamp": 1674549653164,
     "user": {
      "displayName": "Jangrae Lee",
      "userId": "08475661575434032088"
     },
     "user_tz": -540
    },
    "id": "s7zaSvW4dtPT"
   },
   "outputs": [],
   "source": [
    "# 기술 통계 확인\n"
   ]
  },
  {
   "cell_type": "markdown",
   "metadata": {
    "id": "7d32vCo6wxk0"
   },
   "source": [
    "## 2.3.정렬해서 보기\n",
    "\n",
    "- 인덱스를 기준으로 정렬하는 방법과 특정 열을 기준으로 정렬하는 방법이 있습니다.\n",
    "- **sort_values()** 메소드로 **특정 열**을 기준으로 정렬합니다.\n",
    "- **ascending** 옵션을 설정해 오름차순, 내림차순을 설정할 수 있습니다.\n",
    "    - ascending=True: 오름차순 정렬(기본값)\n",
    "    - ascending=False: 내림차순 정렬"
   ]
  },
  {
   "cell_type": "code",
   "execution_count": null,
   "metadata": {
    "id": "b54Sod9nYnV2",
    "scrolled": false
   },
   "outputs": [],
   "source": [
    "# 단일 열 정렬\n"
   ]
  },
  {
   "cell_type": "code",
   "execution_count": null,
   "metadata": {
    "id": "YSsGC3B8IJPv",
    "scrolled": false
   },
   "outputs": [],
   "source": [
    "# 복합 열('total_bill', 'tip') 정렬\n"
   ]
  },
  {
   "cell_type": "markdown",
   "metadata": {
    "id": "mHrKYYWip4Es"
   },
   "source": [
    "<img src='https://raw.githubusercontent.com/jangrae/img/master/practice_01.png' width=120 align=\"left\"/>"
   ]
  },
  {
   "cell_type": "markdown",
   "metadata": {
    "id": "MpHVdpI9FN0Z"
   },
   "source": [
    "[문1] 다음 경로의 파일을 읽어와 temp 데이터프레임을 선언하세요.\n",
    "\n",
    "- 파일 경로: 'https://raw.githubusercontent.com/Jangrae/csv/master/weather_simple.csv'"
   ]
  },
  {
   "cell_type": "code",
   "execution_count": null,
   "metadata": {
    "id": "zLjhVF9uFN0f",
    "scrolled": false
   },
   "outputs": [],
   "source": [
    "# 데이터 읽어오기\n",
    "\n",
    "\n",
    "\n",
    "# 확인\n"
   ]
  },
  {
   "cell_type": "markdown",
   "metadata": {
    "id": "tCp5TKDdEj_J"
   },
   "source": [
    "[문2] temp 열을 기준으로 내림차순 정렬해서 조회하세요."
   ]
  },
  {
   "cell_type": "code",
   "execution_count": null,
   "metadata": {
    "id": "HUQb2W5DEj_K"
   },
   "outputs": [],
   "source": [
    "# 내림차순 정렬\n"
   ]
  },
  {
   "cell_type": "markdown",
   "metadata": {
    "id": "KLWHHG-k9vvV"
   },
   "source": [
    "[문3] min_temp 열을 기준으로 오름차순 정렬해서 조회하세요."
   ]
  },
  {
   "cell_type": "code",
   "execution_count": null,
   "metadata": {
    "id": "wAPdqAeLEj_Q"
   },
   "outputs": [],
   "source": [
    "# 오름차순 정렬\n"
   ]
  },
  {
   "cell_type": "markdown",
   "metadata": {
    "id": "f-eJyDjygRQD"
   },
   "source": [
    "[문4] min_temp 열을 기준으로 오름차순 정렬해서 상위 10개 행만 조회하세요."
   ]
  },
  {
   "cell_type": "code",
   "execution_count": null,
   "metadata": {
    "id": "07bXPrSNgRQE"
   },
   "outputs": [],
   "source": [
    "# 내림차순 정렬\n"
   ]
  },
  {
   "cell_type": "markdown",
   "metadata": {
    "id": "po7MS1EwXovc"
   },
   "source": [
    "## 2.4.기본 집계\n",
    "\n",
    "- 데이터를 좀더 이해하기 위해 고유값, 합, 평균, 최댓값, 최솟값 등을 확인합니다."
   ]
  },
  {
   "cell_type": "markdown",
   "metadata": {
    "id": "DZwznq_YPFcP"
   },
   "source": [
    "### 2.4.1.고유값 확인\n",
    "\n",
    "- 범주형 열(열이 가진 값이 일정한 값인 경우, 성별, 등급 등)인지 확인할 때 사용합니다."
   ]
  },
  {
   "cell_type": "markdown",
   "metadata": {
    "id": "ZyrGVDBw0iwp"
   },
   "source": [
    "**1) 고유값 확인**\n",
    "\n",
    "- unique() 메소드로 고유값을 확인하며, 결괏값은 배열 형태가 됩니다."
   ]
  },
  {
   "cell_type": "code",
   "execution_count": null,
   "metadata": {
    "id": "A0c6CMhbEpSX"
   },
   "outputs": [],
   "source": [
    "# day 열 고유값 확인\n"
   ]
  },
  {
   "cell_type": "markdown",
   "metadata": {
    "id": "EYT80NSO0H0v"
   },
   "source": [
    "**2) 고유값과 개수 확인**\n",
    "\n",
    "- value_counts() 메소드로 고유값과 그 개수를 확인하며, 결괏값은 시리즈 형태가 됩니다.\n",
    "- dropna 옵션을 생략하거나 dropna=True로 지정하면 NaN 값은 대상에서 제외합니다."
   ]
  },
  {
   "cell_type": "code",
   "execution_count": null,
   "metadata": {
    "id": "-Q-y5ii8OnRp"
   },
   "outputs": [],
   "source": [
    "# day 열 고유값 개수 확인\n"
   ]
  },
  {
   "cell_type": "code",
   "execution_count": null,
   "metadata": {
    "id": "r14W1fvuPQHx"
   },
   "outputs": [],
   "source": [
    "# smoker 열 고유값 개수 확인\n"
   ]
  },
  {
   "cell_type": "markdown",
   "metadata": {
    "id": "7T0TyKesveFc"
   },
   "source": [
    "### 2.4.2.최빈값 확인\n",
    "\n",
    "- 최빈값은 가장 많이 관측되는 수, 즉 주어진 값 중에서 가장 자주 나오는 값입니다.\n",
    "- 예를 들어, {1, 3, 6, 6, 6, 7, 7, 12, 12, 17}의 최빈값은 6입니다.\n",
    "- 최빈값은 산술 평균과 달리 유일한 값이 아닐 수도 있습니다.\n",
    "- mode() 메소드로 최빈값을 확인할 수 있습니다. \n",
    "- 최빈값이 여럿인 경우 행으로 구분되어 표시됩니다."
   ]
  },
  {
   "cell_type": "code",
   "execution_count": null,
   "metadata": {
    "id": "JDpCinG_vR8M"
   },
   "outputs": [],
   "source": [
    "# day 열 최빈값 확인\n"
   ]
  },
  {
   "cell_type": "code",
   "execution_count": null,
   "metadata": {
    "id": "47uRqaqrvOSE"
   },
   "outputs": [],
   "source": [
    "# smoker 열 최빈값 확인\n"
   ]
  },
  {
   "cell_type": "markdown",
   "metadata": {
    "id": "E8SZpUovxdiq"
   },
   "source": [
    "### 2.4.3.기본 통계 메소드 사용\n",
    "\n",
    "- 데이터를 1차 집계 한 후 분석을 진행하는 경우가 많으므로 필히 알아두어야 할 내용입니다.\n",
    "- 이후에 배우는 Groupby 기능에서 같이 사용됩니다.\n",
    "- 우선 간단한 데이터프레임을 만들어 전체 집계를 해봅니디."
   ]
  },
  {
   "cell_type": "code",
   "execution_count": null,
   "metadata": {
    "id": "69iLl3VUjg6a"
   },
   "outputs": [],
   "source": [
    "# 리스트 만들기\n",
    "stock = [[94500, 92100, 92200, 92300],\n",
    "         [96500, 93200, 95900, 94300],\n",
    "         [93400, 91900, 93400, 92100],\n",
    "         [94200, 92100, 94100, 92400],\n",
    "         [94500, 92500, 94300, 92600]]\n",
    "dates = ['2019-02-15', '2019-02-16', '2019-02-17', '2019-02-18', '2019-02-19']\n",
    "names = ['High', 'Low', 'Open', 'Close']\n",
    "\n",
    "# 데이터프레임 만들기\n",
    "df = pd.DataFrame(stock, index=dates, columns=names)\n",
    "\n",
    "# 확인\n",
    "df.head()"
   ]
  },
  {
   "cell_type": "markdown",
   "metadata": {
    "id": "bBRm_5JG1CC5"
   },
   "source": [
    "<img src='https://raw.githubusercontent.com/jangrae/img/master/aggrigation.png' width=500 align=\"left\"/>"
   ]
  },
  {
   "cell_type": "markdown",
   "metadata": {
    "id": "p3F-HnhLkgUW"
   },
   "source": [
    "- df.sum()은 df.sum(axis=0) 과 같으며 전체 열 기준으로 합을 집계합니다\n",
    "- 전체 행 기준으로 집계를 하려면 df.sum(axis=1) 형태로 axis=1을 지정합니다."
   ]
  },
  {
   "cell_type": "code",
   "execution_count": null,
   "metadata": {
    "id": "a9rl1nGFjywb"
   },
   "outputs": [],
   "source": [
    "# 전체 열 기준 합\n"
   ]
  },
  {
   "cell_type": "code",
   "execution_count": null,
   "metadata": {
    "id": "hW_3WL9kj1FY"
   },
   "outputs": [],
   "source": [
    "# 전체 행 기준 합\n"
   ]
  },
  {
   "cell_type": "markdown",
   "metadata": {
    "id": "2yaciwGVleMi"
   },
   "source": [
    "- tip 데이터프레임에 대한 집계를 수행해 봅니다."
   ]
  },
  {
   "cell_type": "code",
   "execution_count": null,
   "metadata": {
    "id": "VrhS8Ntzn5dl"
   },
   "outputs": [],
   "source": [
    "# tip 데이터프레임 확인\n"
   ]
  },
  {
   "cell_type": "code",
   "execution_count": null,
   "metadata": {
    "id": "yx6fF3MsnnqC"
   },
   "outputs": [],
   "source": [
    "# 전체 열 기준 합\n"
   ]
  },
  {
   "cell_type": "code",
   "execution_count": null,
   "metadata": {
    "id": "gCTaAoghOtFd"
   },
   "outputs": [],
   "source": [
    "# total_bill 열 합계 조회\n"
   ]
  },
  {
   "cell_type": "code",
   "execution_count": null,
   "metadata": {
    "id": "uSatNX0BBNpe"
   },
   "outputs": [],
   "source": [
    "# tip 열 최댓값 조회\n"
   ]
  },
  {
   "cell_type": "code",
   "execution_count": null,
   "metadata": {
    "id": "EN1swYgLBDTI"
   },
   "outputs": [],
   "source": [
    "# total_bill, tip 열 평균값 확인\n"
   ]
  },
  {
   "cell_type": "code",
   "execution_count": null,
   "metadata": {
    "id": "7PQLVC7MIOSY"
   },
   "outputs": [],
   "source": [
    "# total_bill, tip 열 중앙값 확인\n"
   ]
  },
  {
   "cell_type": "markdown",
   "metadata": {
    "id": "4-12_zGOGkYo"
   },
   "source": [
    "<img src='https://raw.githubusercontent.com/jangrae/img/master/practice_01.png' width=120 align=\"left\"/>"
   ]
  },
  {
   "cell_type": "markdown",
   "metadata": {
    "id": "bjj1TKoHFmiJ"
   },
   "source": [
    "[문1] 다음 경로의 파일을 읽어와 temp 데이터프레임을 선언하세요.\n",
    "\n",
    "- 파일 경로: 'https://raw.githubusercontent.com/Jangrae/csv/master/weather_simple.csv'"
   ]
  },
  {
   "cell_type": "code",
   "execution_count": null,
   "metadata": {
    "id": "doRkZOJqFmiK",
    "scrolled": false
   },
   "outputs": [],
   "source": [
    "# 데이터 읽어오기\n",
    "\n",
    "\n",
    "\n",
    "# 확인\n"
   ]
  },
  {
   "cell_type": "markdown",
   "metadata": {
    "id": "2hWEwIAJGkYv"
   },
   "source": [
    "[문2] max_temp 최댓값을 확인하세요."
   ]
  },
  {
   "cell_type": "code",
   "execution_count": null,
   "metadata": {
    "id": "sHmY3X1YGkYv"
   },
   "outputs": [],
   "source": [
    "# max_temp 열 최댓값\n"
   ]
  },
  {
   "cell_type": "markdown",
   "metadata": {
    "id": "4IA83NgPG4-o"
   },
   "source": [
    "[문3] min_temp, ext_min_temp 최솟값을 확인하세요."
   ]
  },
  {
   "cell_type": "code",
   "execution_count": null,
   "metadata": {
    "id": "WZW4L_k3G4-p"
   },
   "outputs": [],
   "source": [
    "# min_temp, ext_min_temp 열 최솟값\n"
   ]
  }
 ],
 "metadata": {
  "colab": {
   "provenance": [],
   "toc_visible": true
  },
  "kernelspec": {
   "display_name": "Python 3 (ipykernel)",
   "language": "python",
   "name": "python3"
  },
  "language_info": {
   "codemirror_mode": {
    "name": "ipython",
    "version": 3
   },
   "file_extension": ".py",
   "mimetype": "text/x-python",
   "name": "python",
   "nbconvert_exporter": "python",
   "pygments_lexer": "ipython3",
   "version": "3.10.9"
  }
 },
 "nbformat": 4,
 "nbformat_minor": 1
}
