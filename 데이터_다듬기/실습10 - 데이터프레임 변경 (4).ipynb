{
 "cells": [
  {
   "cell_type": "markdown",
   "metadata": {
    "id": "BFhIXgdYoYGp"
   },
   "source": [
    "<center><img src='https://raw.githubusercontent.com/Jangrae/img/master/title.png' width=500/></center>"
   ]
  },
  {
   "cell_type": "markdown",
   "metadata": {
    "id": "d6jVPeiR2MK_"
   },
   "source": [
    "<center><img src='https://raw.githubusercontent.com/Jangrae/img/master/practice.png' width=300/></center>"
   ]
  },
  {
   "cell_type": "markdown",
   "metadata": {
    "id": "PcLUjkq0wxpF"
   },
   "source": [
    "# 데이터프레임 변경 (4)"
   ]
  },
  {
   "cell_type": "markdown",
   "metadata": {
    "id": "MlGWwll3atTk"
   },
   "source": [
    "### [실습1]"
   ]
  },
  {
   "cell_type": "markdown",
   "metadata": {
    "id": "swByQenKUAXS"
   },
   "source": [
    "1) 다음 요구사항에 맞게 순서대로 구문을 작성하고 확인하세요.\n",
    "\n",
    "- 1-1) pandas 라이브러리를 pd 별칭을 주어 불러오세요.\n",
    "- 1-2) 다음 경로의 파일들을 불러와 **pop01, pop02, pop03** 데이터프레임을 만드세요. \n",
    "    - 단, read_csv() 함수 사용시  index_col='year' 옵션을 지정하세요.\n",
    "    - 파일 경로: 'https://raw.githubusercontent.com/Jangrae/csv/master/seoul_pop_h01.csv'    \n",
    "    - 파일 경로: 'https://raw.githubusercontent.com/Jangrae/csv/master/seoul_pop_h02.csv'\n",
    "    - 파일 경로: 'https://raw.githubusercontent.com/Jangrae/csv/master/seoul_pop_h03.csv' \n",
    "- 1-3) 세 개의 데이터프레임을 outer 방식으로 연결해 pop 데이터프레임을 만드세요.\n",
    "- 1-4) pop 데이터프레임 인덱스를 초기화 하세요. 단 기존 인덱스 값을 버리지 마세요. "
   ]
  },
  {
   "cell_type": "code",
   "execution_count": 46,
   "metadata": {
    "id": "zFm_DPTaUdqQ"
   },
   "outputs": [],
   "source": [
    "import pandas as pd\n",
    "import numpy as np\n",
    "import matplotlib.pyplot as plt"
   ]
  },
  {
   "cell_type": "markdown",
   "metadata": {
    "id": "WAGgvzDv2klV"
   },
   "source": [
    "2) pop 데이터프레임 상위 10개 행을 확인하세요."
   ]
  },
  {
   "cell_type": "code",
   "execution_count": 47,
   "metadata": {
    "id": "vJwQEeOt2fSD"
   },
   "outputs": [
    {
     "data": {
      "text/html": [
       "<div>\n",
       "<style scoped>\n",
       "    .dataframe tbody tr th:only-of-type {\n",
       "        vertical-align: middle;\n",
       "    }\n",
       "\n",
       "    .dataframe tbody tr th {\n",
       "        vertical-align: top;\n",
       "    }\n",
       "\n",
       "    .dataframe thead th {\n",
       "        text-align: right;\n",
       "    }\n",
       "</style>\n",
       "<table border=\"1\" class=\"dataframe\">\n",
       "  <thead>\n",
       "    <tr style=\"text-align: right;\">\n",
       "      <th></th>\n",
       "      <th>k_male</th>\n",
       "      <th>k_female</th>\n",
       "      <th>f_male</th>\n",
       "      <th>f_female</th>\n",
       "      <th>household</th>\n",
       "      <th>older_65</th>\n",
       "    </tr>\n",
       "    <tr>\n",
       "      <th>year</th>\n",
       "      <th></th>\n",
       "      <th></th>\n",
       "      <th></th>\n",
       "      <th></th>\n",
       "      <th></th>\n",
       "      <th></th>\n",
       "    </tr>\n",
       "  </thead>\n",
       "  <tbody>\n",
       "    <tr>\n",
       "      <th>1981</th>\n",
       "      <td>4160</td>\n",
       "      <td>4191</td>\n",
       "      <td>NaN</td>\n",
       "      <td>NaN</td>\n",
       "      <td>1915</td>\n",
       "      <td>246</td>\n",
       "    </tr>\n",
       "    <tr>\n",
       "      <th>1982</th>\n",
       "      <td>4160</td>\n",
       "      <td>4191</td>\n",
       "      <td>NaN</td>\n",
       "      <td>NaN</td>\n",
       "      <td>2001</td>\n",
       "      <td>260</td>\n",
       "    </tr>\n",
       "    <tr>\n",
       "      <th>1983</th>\n",
       "      <td>4160</td>\n",
       "      <td>4191</td>\n",
       "      <td>NaN</td>\n",
       "      <td>NaN</td>\n",
       "      <td>2116</td>\n",
       "      <td>260</td>\n",
       "    </tr>\n",
       "    <tr>\n",
       "      <th>1984</th>\n",
       "      <td>4160</td>\n",
       "      <td>4191</td>\n",
       "      <td>NaN</td>\n",
       "      <td>NaN</td>\n",
       "      <td>2246</td>\n",
       "      <td>275</td>\n",
       "    </tr>\n",
       "    <tr>\n",
       "      <th>1985</th>\n",
       "      <td>4160</td>\n",
       "      <td>4191</td>\n",
       "      <td>7.0</td>\n",
       "      <td>6.0</td>\n",
       "      <td>2338</td>\n",
       "      <td>211</td>\n",
       "    </tr>\n",
       "    <tr>\n",
       "      <th>1986</th>\n",
       "      <td>4899</td>\n",
       "      <td>4888</td>\n",
       "      <td>7.0</td>\n",
       "      <td>5.0</td>\n",
       "      <td>2428</td>\n",
       "      <td>305</td>\n",
       "    </tr>\n",
       "    <tr>\n",
       "      <th>1987</th>\n",
       "      <td>5000</td>\n",
       "      <td>4979</td>\n",
       "      <td>6.0</td>\n",
       "      <td>5.0</td>\n",
       "      <td>2518</td>\n",
       "      <td>329</td>\n",
       "    </tr>\n",
       "    <tr>\n",
       "      <th>1988</th>\n",
       "      <td>5156</td>\n",
       "      <td>5120</td>\n",
       "      <td>5.0</td>\n",
       "      <td>5.0</td>\n",
       "      <td>2658</td>\n",
       "      <td>349</td>\n",
       "    </tr>\n",
       "    <tr>\n",
       "      <th>1989</th>\n",
       "      <td>5305</td>\n",
       "      <td>5261</td>\n",
       "      <td>6.0</td>\n",
       "      <td>5.0</td>\n",
       "      <td>2817</td>\n",
       "      <td>363</td>\n",
       "    </tr>\n",
       "    <tr>\n",
       "      <th>1990</th>\n",
       "      <td>5321</td>\n",
       "      <td>5282</td>\n",
       "      <td>5.0</td>\n",
       "      <td>4.0</td>\n",
       "      <td>2820</td>\n",
       "      <td>363</td>\n",
       "    </tr>\n",
       "  </tbody>\n",
       "</table>\n",
       "</div>"
      ],
      "text/plain": [
       "      k_male  k_female  f_male  f_female  household  older_65\n",
       "year                                                         \n",
       "1981    4160      4191     NaN       NaN       1915       246\n",
       "1982    4160      4191     NaN       NaN       2001       260\n",
       "1983    4160      4191     NaN       NaN       2116       260\n",
       "1984    4160      4191     NaN       NaN       2246       275\n",
       "1985    4160      4191     7.0       6.0       2338       211\n",
       "1986    4899      4888     7.0       5.0       2428       305\n",
       "1987    5000      4979     6.0       5.0       2518       329\n",
       "1988    5156      5120     5.0       5.0       2658       349\n",
       "1989    5305      5261     6.0       5.0       2817       363\n",
       "1990    5321      5282     5.0       4.0       2820       363"
      ]
     },
     "execution_count": 47,
     "metadata": {},
     "output_type": "execute_result"
    }
   ],
   "source": [
    "pop1= pd.read_csv('https://raw.githubusercontent.com/Jangrae/csv/master/seoul_pop_h01.csv',index_col = 'year')\n",
    "pop2= pd.read_csv('https://raw.githubusercontent.com/Jangrae/csv/master/seoul_pop_h02.csv', index_col = 'year')\n",
    "pop3= pd.read_csv('https://raw.githubusercontent.com/Jangrae/csv/master/seoul_pop_h03.csv', index_col = 'year')\n",
    "\n",
    "pop = pd.concat([pop1,pop2,pop3],join='outer', axis=1)\n",
    "pop.head(10)"
   ]
  },
  {
   "cell_type": "markdown",
   "metadata": {
    "id": "lkEBQNhC75Nj"
   },
   "source": [
    "3) 결측치가 어느 정도 존재하는 지 확인하세요."
   ]
  },
  {
   "cell_type": "code",
   "execution_count": 48,
   "metadata": {
    "id": "Agb9g-487zld"
   },
   "outputs": [
    {
     "data": {
      "text/plain": [
       "k_male       0\n",
       "k_female     0\n",
       "f_male       4\n",
       "f_female     4\n",
       "household    0\n",
       "older_65     0\n",
       "dtype: int64"
      ]
     },
     "execution_count": 48,
     "metadata": {},
     "output_type": "execute_result"
    }
   ],
   "source": [
    "pop.isnull().sum()"
   ]
  },
  {
   "cell_type": "markdown",
   "metadata": {
    "id": "G2d9WL1sjDA4"
   },
   "source": [
    "4) 모든 결측치는 뒤에 오는 값으로 채우세요."
   ]
  },
  {
   "cell_type": "code",
   "execution_count": 49,
   "metadata": {
    "id": "yQ7NKRPcjDA8",
    "scrolled": true
   },
   "outputs": [
    {
     "data": {
      "text/html": [
       "<div>\n",
       "<style scoped>\n",
       "    .dataframe tbody tr th:only-of-type {\n",
       "        vertical-align: middle;\n",
       "    }\n",
       "\n",
       "    .dataframe tbody tr th {\n",
       "        vertical-align: top;\n",
       "    }\n",
       "\n",
       "    .dataframe thead th {\n",
       "        text-align: right;\n",
       "    }\n",
       "</style>\n",
       "<table border=\"1\" class=\"dataframe\">\n",
       "  <thead>\n",
       "    <tr style=\"text-align: right;\">\n",
       "      <th></th>\n",
       "      <th>k_male</th>\n",
       "      <th>k_female</th>\n",
       "      <th>f_male</th>\n",
       "      <th>f_female</th>\n",
       "      <th>household</th>\n",
       "      <th>older_65</th>\n",
       "    </tr>\n",
       "    <tr>\n",
       "      <th>year</th>\n",
       "      <th></th>\n",
       "      <th></th>\n",
       "      <th></th>\n",
       "      <th></th>\n",
       "      <th></th>\n",
       "      <th></th>\n",
       "    </tr>\n",
       "  </thead>\n",
       "  <tbody>\n",
       "    <tr>\n",
       "      <th>1981</th>\n",
       "      <td>4160</td>\n",
       "      <td>4191</td>\n",
       "      <td>7.0</td>\n",
       "      <td>6.0</td>\n",
       "      <td>1915</td>\n",
       "      <td>246</td>\n",
       "    </tr>\n",
       "    <tr>\n",
       "      <th>1982</th>\n",
       "      <td>4160</td>\n",
       "      <td>4191</td>\n",
       "      <td>7.0</td>\n",
       "      <td>6.0</td>\n",
       "      <td>2001</td>\n",
       "      <td>260</td>\n",
       "    </tr>\n",
       "    <tr>\n",
       "      <th>1983</th>\n",
       "      <td>4160</td>\n",
       "      <td>4191</td>\n",
       "      <td>7.0</td>\n",
       "      <td>6.0</td>\n",
       "      <td>2116</td>\n",
       "      <td>260</td>\n",
       "    </tr>\n",
       "    <tr>\n",
       "      <th>1984</th>\n",
       "      <td>4160</td>\n",
       "      <td>4191</td>\n",
       "      <td>7.0</td>\n",
       "      <td>6.0</td>\n",
       "      <td>2246</td>\n",
       "      <td>275</td>\n",
       "    </tr>\n",
       "    <tr>\n",
       "      <th>1985</th>\n",
       "      <td>4160</td>\n",
       "      <td>4191</td>\n",
       "      <td>7.0</td>\n",
       "      <td>6.0</td>\n",
       "      <td>2338</td>\n",
       "      <td>211</td>\n",
       "    </tr>\n",
       "  </tbody>\n",
       "</table>\n",
       "</div>"
      ],
      "text/plain": [
       "      k_male  k_female  f_male  f_female  household  older_65\n",
       "year                                                         \n",
       "1981    4160      4191     7.0       6.0       1915       246\n",
       "1982    4160      4191     7.0       6.0       2001       260\n",
       "1983    4160      4191     7.0       6.0       2116       260\n",
       "1984    4160      4191     7.0       6.0       2246       275\n",
       "1985    4160      4191     7.0       6.0       2338       211"
      ]
     },
     "execution_count": 49,
     "metadata": {},
     "output_type": "execute_result"
    }
   ],
   "source": [
    "pop['f_male'].fillna(method='bfill', inplace = True)\n",
    "pop['f_female'].fillna(method='bfill', inplace = True)\n",
    "pop.head()"
   ]
  },
  {
   "cell_type": "markdown",
   "metadata": {
    "id": "axszLBfc-HoH"
   },
   "source": [
    "5) 결측치가 남아 있는지 확인하세요."
   ]
  },
  {
   "cell_type": "code",
   "execution_count": 50,
   "metadata": {
    "id": "RWlMOEde-HoQ"
   },
   "outputs": [
    {
     "data": {
      "text/plain": [
       "k_male       0\n",
       "k_female     0\n",
       "f_male       0\n",
       "f_female     0\n",
       "household    0\n",
       "older_65     0\n",
       "dtype: int64"
      ]
     },
     "execution_count": 50,
     "metadata": {},
     "output_type": "execute_result"
    }
   ],
   "source": [
    "pop.isnull().sum()"
   ]
  },
  {
   "cell_type": "markdown",
   "metadata": {
    "id": "Z0aFRTI6azjy"
   },
   "source": [
    "### [실습2]"
   ]
  },
  {
   "cell_type": "markdown",
   "metadata": {
    "id": "C_HPBRxHA56R"
   },
   "source": [
    "1) 다음 요구사항에 맞게 순서대로 구문을 작성하고 확인하세요.\n",
    "\n",
    "- 1-1) pandas 라이브러리를 pd 별칭을 주어 불러오세요.\n",
    "- 1-2) 다음 경로의 파일들을 불러와 **pop01, pop02, pop03** 데이터프레임을 만드세요. \n",
    "    - 파일 경로: 'https://raw.githubusercontent.com/Jangrae/csv/master/seoul_pop_h01.csv'    \n",
    "    - 파일 경로: 'https://raw.githubusercontent.com/Jangrae/csv/master/seoul_pop_h02.csv'\n",
    "    - 파일 경로: 'https://raw.githubusercontent.com/Jangrae/csv/master/seoul_pop_h03.csv'\n",
    "- 1-3) 세 개의 데이터프레임을 inner 방식으로 **조인(merge)** 해 pop 데이터프레임을 만드세요."
   ]
  },
  {
   "cell_type": "code",
   "execution_count": 51,
   "metadata": {
    "id": "914EtI97A56Y"
   },
   "outputs": [
    {
     "data": {
      "text/html": [
       "<div>\n",
       "<style scoped>\n",
       "    .dataframe tbody tr th:only-of-type {\n",
       "        vertical-align: middle;\n",
       "    }\n",
       "\n",
       "    .dataframe tbody tr th {\n",
       "        vertical-align: top;\n",
       "    }\n",
       "\n",
       "    .dataframe thead th {\n",
       "        text-align: right;\n",
       "    }\n",
       "</style>\n",
       "<table border=\"1\" class=\"dataframe\">\n",
       "  <thead>\n",
       "    <tr style=\"text-align: right;\">\n",
       "      <th></th>\n",
       "      <th>k_male</th>\n",
       "      <th>k_female</th>\n",
       "      <th>f_male</th>\n",
       "      <th>f_female</th>\n",
       "      <th>household</th>\n",
       "      <th>older_65</th>\n",
       "    </tr>\n",
       "    <tr>\n",
       "      <th>year</th>\n",
       "      <th></th>\n",
       "      <th></th>\n",
       "      <th></th>\n",
       "      <th></th>\n",
       "      <th></th>\n",
       "      <th></th>\n",
       "    </tr>\n",
       "  </thead>\n",
       "  <tbody>\n",
       "    <tr>\n",
       "      <th>1985</th>\n",
       "      <td>4160</td>\n",
       "      <td>4191</td>\n",
       "      <td>7</td>\n",
       "      <td>6</td>\n",
       "      <td>2338</td>\n",
       "      <td>211</td>\n",
       "    </tr>\n",
       "    <tr>\n",
       "      <th>1986</th>\n",
       "      <td>4899</td>\n",
       "      <td>4888</td>\n",
       "      <td>7</td>\n",
       "      <td>5</td>\n",
       "      <td>2428</td>\n",
       "      <td>305</td>\n",
       "    </tr>\n",
       "    <tr>\n",
       "      <th>1987</th>\n",
       "      <td>5000</td>\n",
       "      <td>4979</td>\n",
       "      <td>6</td>\n",
       "      <td>5</td>\n",
       "      <td>2518</td>\n",
       "      <td>329</td>\n",
       "    </tr>\n",
       "    <tr>\n",
       "      <th>1988</th>\n",
       "      <td>5156</td>\n",
       "      <td>5120</td>\n",
       "      <td>5</td>\n",
       "      <td>5</td>\n",
       "      <td>2658</td>\n",
       "      <td>349</td>\n",
       "    </tr>\n",
       "    <tr>\n",
       "      <th>1989</th>\n",
       "      <td>5305</td>\n",
       "      <td>5261</td>\n",
       "      <td>6</td>\n",
       "      <td>5</td>\n",
       "      <td>2817</td>\n",
       "      <td>363</td>\n",
       "    </tr>\n",
       "    <tr>\n",
       "      <th>1990</th>\n",
       "      <td>5321</td>\n",
       "      <td>5282</td>\n",
       "      <td>5</td>\n",
       "      <td>4</td>\n",
       "      <td>2820</td>\n",
       "      <td>363</td>\n",
       "    </tr>\n",
       "    <tr>\n",
       "      <th>1991</th>\n",
       "      <td>5468</td>\n",
       "      <td>5405</td>\n",
       "      <td>18</td>\n",
       "      <td>14</td>\n",
       "      <td>3330</td>\n",
       "      <td>424</td>\n",
       "    </tr>\n",
       "    <tr>\n",
       "      <th>1992</th>\n",
       "      <td>5500</td>\n",
       "      <td>5435</td>\n",
       "      <td>19</td>\n",
       "      <td>16</td>\n",
       "      <td>3383</td>\n",
       "      <td>434</td>\n",
       "    </tr>\n",
       "    <tr>\n",
       "      <th>1993</th>\n",
       "      <td>5478</td>\n",
       "      <td>5412</td>\n",
       "      <td>19</td>\n",
       "      <td>17</td>\n",
       "      <td>3431</td>\n",
       "      <td>445</td>\n",
       "    </tr>\n",
       "    <tr>\n",
       "      <th>1994</th>\n",
       "      <td>5409</td>\n",
       "      <td>5351</td>\n",
       "      <td>21</td>\n",
       "      <td>19</td>\n",
       "      <td>3456</td>\n",
       "      <td>454</td>\n",
       "    </tr>\n",
       "  </tbody>\n",
       "</table>\n",
       "</div>"
      ],
      "text/plain": [
       "      k_male  k_female  f_male  f_female  household  older_65\n",
       "year                                                         \n",
       "1985    4160      4191       7         6       2338       211\n",
       "1986    4899      4888       7         5       2428       305\n",
       "1987    5000      4979       6         5       2518       329\n",
       "1988    5156      5120       5         5       2658       349\n",
       "1989    5305      5261       6         5       2817       363\n",
       "1990    5321      5282       5         4       2820       363\n",
       "1991    5468      5405      18        14       3330       424\n",
       "1992    5500      5435      19        16       3383       434\n",
       "1993    5478      5412      19        17       3431       445\n",
       "1994    5409      5351      21        19       3456       454"
      ]
     },
     "execution_count": 51,
     "metadata": {},
     "output_type": "execute_result"
    }
   ],
   "source": [
    "pop1= pd.read_csv('https://raw.githubusercontent.com/Jangrae/csv/master/seoul_pop_h01.csv',index_col = 'year')\n",
    "pop2= pd.read_csv('https://raw.githubusercontent.com/Jangrae/csv/master/seoul_pop_h02.csv', index_col = 'year')\n",
    "pop3= pd.read_csv('https://raw.githubusercontent.com/Jangrae/csv/master/seoul_pop_h03.csv', index_col = 'year')\n",
    "\n",
    "tmp = pd.merge(pop1, pop2, on='year', how='inner')\n",
    "pop = pd.merge(tmp, pop3, on='year',how='inner')\n",
    "pop.head(10)"
   ]
  },
  {
   "cell_type": "markdown",
   "metadata": {
    "id": "V0-wQmv0vNr4"
   },
   "source": [
    "2) pop 데이터프레임 상위 10개 행을 확인하세요."
   ]
  },
  {
   "cell_type": "code",
   "execution_count": 52,
   "metadata": {
    "id": "pBM99bMivNr6"
   },
   "outputs": [
    {
     "data": {
      "text/html": [
       "<div>\n",
       "<style scoped>\n",
       "    .dataframe tbody tr th:only-of-type {\n",
       "        vertical-align: middle;\n",
       "    }\n",
       "\n",
       "    .dataframe tbody tr th {\n",
       "        vertical-align: top;\n",
       "    }\n",
       "\n",
       "    .dataframe thead th {\n",
       "        text-align: right;\n",
       "    }\n",
       "</style>\n",
       "<table border=\"1\" class=\"dataframe\">\n",
       "  <thead>\n",
       "    <tr style=\"text-align: right;\">\n",
       "      <th></th>\n",
       "      <th>k_male</th>\n",
       "      <th>k_female</th>\n",
       "      <th>f_male</th>\n",
       "      <th>f_female</th>\n",
       "      <th>household</th>\n",
       "      <th>older_65</th>\n",
       "    </tr>\n",
       "    <tr>\n",
       "      <th>year</th>\n",
       "      <th></th>\n",
       "      <th></th>\n",
       "      <th></th>\n",
       "      <th></th>\n",
       "      <th></th>\n",
       "      <th></th>\n",
       "    </tr>\n",
       "  </thead>\n",
       "  <tbody>\n",
       "    <tr>\n",
       "      <th>1985</th>\n",
       "      <td>4160</td>\n",
       "      <td>4191</td>\n",
       "      <td>7</td>\n",
       "      <td>6</td>\n",
       "      <td>2338</td>\n",
       "      <td>211</td>\n",
       "    </tr>\n",
       "    <tr>\n",
       "      <th>1986</th>\n",
       "      <td>4899</td>\n",
       "      <td>4888</td>\n",
       "      <td>7</td>\n",
       "      <td>5</td>\n",
       "      <td>2428</td>\n",
       "      <td>305</td>\n",
       "    </tr>\n",
       "    <tr>\n",
       "      <th>1987</th>\n",
       "      <td>5000</td>\n",
       "      <td>4979</td>\n",
       "      <td>6</td>\n",
       "      <td>5</td>\n",
       "      <td>2518</td>\n",
       "      <td>329</td>\n",
       "    </tr>\n",
       "    <tr>\n",
       "      <th>1988</th>\n",
       "      <td>5156</td>\n",
       "      <td>5120</td>\n",
       "      <td>5</td>\n",
       "      <td>5</td>\n",
       "      <td>2658</td>\n",
       "      <td>349</td>\n",
       "    </tr>\n",
       "    <tr>\n",
       "      <th>1989</th>\n",
       "      <td>5305</td>\n",
       "      <td>5261</td>\n",
       "      <td>6</td>\n",
       "      <td>5</td>\n",
       "      <td>2817</td>\n",
       "      <td>363</td>\n",
       "    </tr>\n",
       "  </tbody>\n",
       "</table>\n",
       "</div>"
      ],
      "text/plain": [
       "      k_male  k_female  f_male  f_female  household  older_65\n",
       "year                                                         \n",
       "1985    4160      4191       7         6       2338       211\n",
       "1986    4899      4888       7         5       2428       305\n",
       "1987    5000      4979       6         5       2518       329\n",
       "1988    5156      5120       5         5       2658       349\n",
       "1989    5305      5261       6         5       2817       363"
      ]
     },
     "execution_count": 52,
     "metadata": {},
     "output_type": "execute_result"
    }
   ],
   "source": [
    "pop.head()"
   ]
  },
  {
   "cell_type": "markdown",
   "metadata": {
    "id": "QfgvRcTvEIfQ"
   },
   "source": [
    "## 3) 다음 요구사항에 맞게 순서대로 구문을 작성하고 확인하세요.\n",
    "\n",
    "- 3-1) 다음 공식에 따라 pop 데이터프레임에 k_total, f_total, male, female, total 열을 추가하세요.\n",
    "    - k_total = k_male + k_female\n",
    "    - f_total = f_male + f_female\n",
    "    - male = k_male + f_male\n",
    "    - female = k_female + f_female\n",
    "    - total = k_total + f_total\n",
    "- 3-2) year, total, male, female 열만 추출해 pop_sum 데이터프레임을 선언하세요.\n",
    "- 3-3) pop_sum 데이터프레임 상위 10개 행을 조회하세요."
   ]
  },
  {
   "cell_type": "markdown",
   "metadata": {
    "id": "_2UJfoL4Deyq"
   },
   "source": [
    "## 3-1) 다음 공식에 따라 pop 데이터프레임에 k_total, f_total, male, female, total 열을 추가하세요.\n",
    "- k_total = k_male + k_female\n",
    "- f_total = f_male + f_female\n",
    "- male = k_male + f_male\n",
    "- female = k_female + f_female\n",
    "- total = k_total + f_total"
   ]
  },
  {
   "cell_type": "code",
   "execution_count": 53,
   "metadata": {
    "scrolled": true
   },
   "outputs": [
    {
     "data": {
      "text/html": [
       "<div>\n",
       "<style scoped>\n",
       "    .dataframe tbody tr th:only-of-type {\n",
       "        vertical-align: middle;\n",
       "    }\n",
       "\n",
       "    .dataframe tbody tr th {\n",
       "        vertical-align: top;\n",
       "    }\n",
       "\n",
       "    .dataframe thead th {\n",
       "        text-align: right;\n",
       "    }\n",
       "</style>\n",
       "<table border=\"1\" class=\"dataframe\">\n",
       "  <thead>\n",
       "    <tr style=\"text-align: right;\">\n",
       "      <th></th>\n",
       "      <th>k_male</th>\n",
       "      <th>k_female</th>\n",
       "      <th>f_male</th>\n",
       "      <th>f_female</th>\n",
       "      <th>household</th>\n",
       "      <th>older_65</th>\n",
       "    </tr>\n",
       "    <tr>\n",
       "      <th>year</th>\n",
       "      <th></th>\n",
       "      <th></th>\n",
       "      <th></th>\n",
       "      <th></th>\n",
       "      <th></th>\n",
       "      <th></th>\n",
       "    </tr>\n",
       "  </thead>\n",
       "  <tbody>\n",
       "    <tr>\n",
       "      <th>1985</th>\n",
       "      <td>4160</td>\n",
       "      <td>4191</td>\n",
       "      <td>7</td>\n",
       "      <td>6</td>\n",
       "      <td>2338</td>\n",
       "      <td>211</td>\n",
       "    </tr>\n",
       "    <tr>\n",
       "      <th>1986</th>\n",
       "      <td>4899</td>\n",
       "      <td>4888</td>\n",
       "      <td>7</td>\n",
       "      <td>5</td>\n",
       "      <td>2428</td>\n",
       "      <td>305</td>\n",
       "    </tr>\n",
       "    <tr>\n",
       "      <th>1987</th>\n",
       "      <td>5000</td>\n",
       "      <td>4979</td>\n",
       "      <td>6</td>\n",
       "      <td>5</td>\n",
       "      <td>2518</td>\n",
       "      <td>329</td>\n",
       "    </tr>\n",
       "    <tr>\n",
       "      <th>1988</th>\n",
       "      <td>5156</td>\n",
       "      <td>5120</td>\n",
       "      <td>5</td>\n",
       "      <td>5</td>\n",
       "      <td>2658</td>\n",
       "      <td>349</td>\n",
       "    </tr>\n",
       "    <tr>\n",
       "      <th>1989</th>\n",
       "      <td>5305</td>\n",
       "      <td>5261</td>\n",
       "      <td>6</td>\n",
       "      <td>5</td>\n",
       "      <td>2817</td>\n",
       "      <td>363</td>\n",
       "    </tr>\n",
       "  </tbody>\n",
       "</table>\n",
       "</div>"
      ],
      "text/plain": [
       "      k_male  k_female  f_male  f_female  household  older_65\n",
       "year                                                         \n",
       "1985    4160      4191       7         6       2338       211\n",
       "1986    4899      4888       7         5       2428       305\n",
       "1987    5000      4979       6         5       2518       329\n",
       "1988    5156      5120       5         5       2658       349\n",
       "1989    5305      5261       6         5       2817       363"
      ]
     },
     "execution_count": 53,
     "metadata": {},
     "output_type": "execute_result"
    }
   ],
   "source": [
    "pop.head()"
   ]
  },
  {
   "cell_type": "code",
   "execution_count": 54,
   "metadata": {},
   "outputs": [],
   "source": [
    "pop['k_total'] = pop['k_male'] + pop['k_female']\n",
    "pop['f_total'] = pop['f_male'] + pop['f_female']\n",
    "pop['male'] = pop['k_male'] + pop['f_male']\n",
    "pop['female'] = pop['k_female'] + pop['f_female']\n",
    "pop['total'] = pop['k_total'] + pop['f_total']"
   ]
  },
  {
   "cell_type": "code",
   "execution_count": 55,
   "metadata": {},
   "outputs": [],
   "source": [
    "# tmp = pd.merge(pop1, pop2, on='year', how='inner')\n",
    "# pop = pd.merge(tmp, pop3, on='year',how='inner')"
   ]
  },
  {
   "cell_type": "code",
   "execution_count": 58,
   "metadata": {},
   "outputs": [
    {
     "data": {
      "text/html": [
       "<div>\n",
       "<style scoped>\n",
       "    .dataframe tbody tr th:only-of-type {\n",
       "        vertical-align: middle;\n",
       "    }\n",
       "\n",
       "    .dataframe tbody tr th {\n",
       "        vertical-align: top;\n",
       "    }\n",
       "\n",
       "    .dataframe thead th {\n",
       "        text-align: right;\n",
       "    }\n",
       "</style>\n",
       "<table border=\"1\" class=\"dataframe\">\n",
       "  <thead>\n",
       "    <tr style=\"text-align: right;\">\n",
       "      <th></th>\n",
       "      <th>k_male</th>\n",
       "      <th>k_female</th>\n",
       "      <th>f_male</th>\n",
       "      <th>f_female</th>\n",
       "      <th>household</th>\n",
       "      <th>older_65</th>\n",
       "      <th>k_total</th>\n",
       "      <th>f_total</th>\n",
       "      <th>male</th>\n",
       "      <th>female</th>\n",
       "      <th>total</th>\n",
       "    </tr>\n",
       "    <tr>\n",
       "      <th>year</th>\n",
       "      <th></th>\n",
       "      <th></th>\n",
       "      <th></th>\n",
       "      <th></th>\n",
       "      <th></th>\n",
       "      <th></th>\n",
       "      <th></th>\n",
       "      <th></th>\n",
       "      <th></th>\n",
       "      <th></th>\n",
       "      <th></th>\n",
       "    </tr>\n",
       "  </thead>\n",
       "  <tbody>\n",
       "    <tr>\n",
       "      <th>1985</th>\n",
       "      <td>4160</td>\n",
       "      <td>4191</td>\n",
       "      <td>7</td>\n",
       "      <td>6</td>\n",
       "      <td>2338</td>\n",
       "      <td>211</td>\n",
       "      <td>8351</td>\n",
       "      <td>13</td>\n",
       "      <td>4167</td>\n",
       "      <td>4197</td>\n",
       "      <td>8364</td>\n",
       "    </tr>\n",
       "    <tr>\n",
       "      <th>1986</th>\n",
       "      <td>4899</td>\n",
       "      <td>4888</td>\n",
       "      <td>7</td>\n",
       "      <td>5</td>\n",
       "      <td>2428</td>\n",
       "      <td>305</td>\n",
       "      <td>9787</td>\n",
       "      <td>12</td>\n",
       "      <td>4906</td>\n",
       "      <td>4893</td>\n",
       "      <td>9799</td>\n",
       "    </tr>\n",
       "    <tr>\n",
       "      <th>1987</th>\n",
       "      <td>5000</td>\n",
       "      <td>4979</td>\n",
       "      <td>6</td>\n",
       "      <td>5</td>\n",
       "      <td>2518</td>\n",
       "      <td>329</td>\n",
       "      <td>9979</td>\n",
       "      <td>11</td>\n",
       "      <td>5006</td>\n",
       "      <td>4984</td>\n",
       "      <td>9990</td>\n",
       "    </tr>\n",
       "    <tr>\n",
       "      <th>1988</th>\n",
       "      <td>5156</td>\n",
       "      <td>5120</td>\n",
       "      <td>5</td>\n",
       "      <td>5</td>\n",
       "      <td>2658</td>\n",
       "      <td>349</td>\n",
       "      <td>10276</td>\n",
       "      <td>10</td>\n",
       "      <td>5161</td>\n",
       "      <td>5125</td>\n",
       "      <td>10286</td>\n",
       "    </tr>\n",
       "    <tr>\n",
       "      <th>1989</th>\n",
       "      <td>5305</td>\n",
       "      <td>5261</td>\n",
       "      <td>6</td>\n",
       "      <td>5</td>\n",
       "      <td>2817</td>\n",
       "      <td>363</td>\n",
       "      <td>10566</td>\n",
       "      <td>11</td>\n",
       "      <td>5311</td>\n",
       "      <td>5266</td>\n",
       "      <td>10577</td>\n",
       "    </tr>\n",
       "  </tbody>\n",
       "</table>\n",
       "</div>"
      ],
      "text/plain": [
       "      k_male  k_female  f_male  f_female  household  older_65  k_total  \\\n",
       "year                                                                     \n",
       "1985    4160      4191       7         6       2338       211     8351   \n",
       "1986    4899      4888       7         5       2428       305     9787   \n",
       "1987    5000      4979       6         5       2518       329     9979   \n",
       "1988    5156      5120       5         5       2658       349    10276   \n",
       "1989    5305      5261       6         5       2817       363    10566   \n",
       "\n",
       "      f_total  male  female  total  \n",
       "year                                \n",
       "1985       13  4167    4197   8364  \n",
       "1986       12  4906    4893   9799  \n",
       "1987       11  5006    4984   9990  \n",
       "1988       10  5161    5125  10286  \n",
       "1989       11  5311    5266  10577  "
      ]
     },
     "execution_count": 58,
     "metadata": {},
     "output_type": "execute_result"
    }
   ],
   "source": [
    "pop.head()"
   ]
  },
  {
   "cell_type": "markdown",
   "metadata": {},
   "source": [
    "## 3-2) year, total, male, female 열만 추출해 pop_sum 데이터프레임을 선언하세요."
   ]
  },
  {
   "cell_type": "code",
   "execution_count": 60,
   "metadata": {},
   "outputs": [],
   "source": [
    "pop = pop.reset_index(drop=False)"
   ]
  },
  {
   "cell_type": "code",
   "execution_count": 63,
   "metadata": {
    "scrolled": true
   },
   "outputs": [],
   "source": [
    "pop_sum = pop[['year','total','male','female']]"
   ]
  },
  {
   "cell_type": "code",
   "execution_count": 65,
   "metadata": {},
   "outputs": [
    {
     "data": {
      "text/html": [
       "<div>\n",
       "<style scoped>\n",
       "    .dataframe tbody tr th:only-of-type {\n",
       "        vertical-align: middle;\n",
       "    }\n",
       "\n",
       "    .dataframe tbody tr th {\n",
       "        vertical-align: top;\n",
       "    }\n",
       "\n",
       "    .dataframe thead th {\n",
       "        text-align: right;\n",
       "    }\n",
       "</style>\n",
       "<table border=\"1\" class=\"dataframe\">\n",
       "  <thead>\n",
       "    <tr style=\"text-align: right;\">\n",
       "      <th></th>\n",
       "      <th>year</th>\n",
       "      <th>total</th>\n",
       "      <th>male</th>\n",
       "      <th>female</th>\n",
       "    </tr>\n",
       "  </thead>\n",
       "  <tbody>\n",
       "    <tr>\n",
       "      <th>0</th>\n",
       "      <td>1985</td>\n",
       "      <td>8364</td>\n",
       "      <td>4167</td>\n",
       "      <td>4197</td>\n",
       "    </tr>\n",
       "    <tr>\n",
       "      <th>1</th>\n",
       "      <td>1986</td>\n",
       "      <td>9799</td>\n",
       "      <td>4906</td>\n",
       "      <td>4893</td>\n",
       "    </tr>\n",
       "    <tr>\n",
       "      <th>2</th>\n",
       "      <td>1987</td>\n",
       "      <td>9990</td>\n",
       "      <td>5006</td>\n",
       "      <td>4984</td>\n",
       "    </tr>\n",
       "    <tr>\n",
       "      <th>3</th>\n",
       "      <td>1988</td>\n",
       "      <td>10286</td>\n",
       "      <td>5161</td>\n",
       "      <td>5125</td>\n",
       "    </tr>\n",
       "    <tr>\n",
       "      <th>4</th>\n",
       "      <td>1989</td>\n",
       "      <td>10577</td>\n",
       "      <td>5311</td>\n",
       "      <td>5266</td>\n",
       "    </tr>\n",
       "  </tbody>\n",
       "</table>\n",
       "</div>"
      ],
      "text/plain": [
       "   year  total  male  female\n",
       "0  1985   8364  4167    4197\n",
       "1  1986   9799  4906    4893\n",
       "2  1987   9990  5006    4984\n",
       "3  1988  10286  5161    5125\n",
       "4  1989  10577  5311    5266"
      ]
     },
     "execution_count": 65,
     "metadata": {},
     "output_type": "execute_result"
    }
   ],
   "source": [
    "pop_sum.head()"
   ]
  },
  {
   "cell_type": "markdown",
   "metadata": {},
   "source": [
    "## 3-3) pop_sum 데이터프레임 상위 10개 행을 조회하세요."
   ]
  },
  {
   "cell_type": "code",
   "execution_count": 66,
   "metadata": {},
   "outputs": [
    {
     "data": {
      "text/html": [
       "<div>\n",
       "<style scoped>\n",
       "    .dataframe tbody tr th:only-of-type {\n",
       "        vertical-align: middle;\n",
       "    }\n",
       "\n",
       "    .dataframe tbody tr th {\n",
       "        vertical-align: top;\n",
       "    }\n",
       "\n",
       "    .dataframe thead th {\n",
       "        text-align: right;\n",
       "    }\n",
       "</style>\n",
       "<table border=\"1\" class=\"dataframe\">\n",
       "  <thead>\n",
       "    <tr style=\"text-align: right;\">\n",
       "      <th></th>\n",
       "      <th>year</th>\n",
       "      <th>total</th>\n",
       "      <th>male</th>\n",
       "      <th>female</th>\n",
       "    </tr>\n",
       "  </thead>\n",
       "  <tbody>\n",
       "    <tr>\n",
       "      <th>0</th>\n",
       "      <td>1985</td>\n",
       "      <td>8364</td>\n",
       "      <td>4167</td>\n",
       "      <td>4197</td>\n",
       "    </tr>\n",
       "    <tr>\n",
       "      <th>1</th>\n",
       "      <td>1986</td>\n",
       "      <td>9799</td>\n",
       "      <td>4906</td>\n",
       "      <td>4893</td>\n",
       "    </tr>\n",
       "    <tr>\n",
       "      <th>2</th>\n",
       "      <td>1987</td>\n",
       "      <td>9990</td>\n",
       "      <td>5006</td>\n",
       "      <td>4984</td>\n",
       "    </tr>\n",
       "    <tr>\n",
       "      <th>3</th>\n",
       "      <td>1988</td>\n",
       "      <td>10286</td>\n",
       "      <td>5161</td>\n",
       "      <td>5125</td>\n",
       "    </tr>\n",
       "    <tr>\n",
       "      <th>4</th>\n",
       "      <td>1989</td>\n",
       "      <td>10577</td>\n",
       "      <td>5311</td>\n",
       "      <td>5266</td>\n",
       "    </tr>\n",
       "    <tr>\n",
       "      <th>5</th>\n",
       "      <td>1990</td>\n",
       "      <td>10612</td>\n",
       "      <td>5326</td>\n",
       "      <td>5286</td>\n",
       "    </tr>\n",
       "    <tr>\n",
       "      <th>6</th>\n",
       "      <td>1991</td>\n",
       "      <td>10905</td>\n",
       "      <td>5486</td>\n",
       "      <td>5419</td>\n",
       "    </tr>\n",
       "    <tr>\n",
       "      <th>7</th>\n",
       "      <td>1992</td>\n",
       "      <td>10970</td>\n",
       "      <td>5519</td>\n",
       "      <td>5451</td>\n",
       "    </tr>\n",
       "    <tr>\n",
       "      <th>8</th>\n",
       "      <td>1993</td>\n",
       "      <td>10926</td>\n",
       "      <td>5497</td>\n",
       "      <td>5429</td>\n",
       "    </tr>\n",
       "    <tr>\n",
       "      <th>9</th>\n",
       "      <td>1994</td>\n",
       "      <td>10800</td>\n",
       "      <td>5430</td>\n",
       "      <td>5370</td>\n",
       "    </tr>\n",
       "  </tbody>\n",
       "</table>\n",
       "</div>"
      ],
      "text/plain": [
       "   year  total  male  female\n",
       "0  1985   8364  4167    4197\n",
       "1  1986   9799  4906    4893\n",
       "2  1987   9990  5006    4984\n",
       "3  1988  10286  5161    5125\n",
       "4  1989  10577  5311    5266\n",
       "5  1990  10612  5326    5286\n",
       "6  1991  10905  5486    5419\n",
       "7  1992  10970  5519    5451\n",
       "8  1993  10926  5497    5429\n",
       "9  1994  10800  5430    5370"
      ]
     },
     "execution_count": 66,
     "metadata": {},
     "output_type": "execute_result"
    }
   ],
   "source": [
    "pop_sum.head(10)"
   ]
  },
  {
   "cell_type": "code",
   "execution_count": 71,
   "metadata": {},
   "outputs": [
    {
     "data": {
      "image/png": "[encoded data removed]",
      "text/plain": [
       "<Figure size 640x480 with 1 Axes>"
      ]
     },
     "metadata": {},
     "output_type": "display_data"
    }
   ],
   "source": [
    "import matplotlib.pyplot as plt\n",
    "plt.plot(pop_sum['total'])\n",
    "plt.show()"
   ]
  },
  {
   "cell_type": "code",
   "execution_count": 72,
   "metadata": {},
   "outputs": [
    {
     "data": {
      "image/png": "[encoded data removed]",
      "text/plain": [
       "<Figure size 640x480 with 1 Axes>"
      ]
     },
     "metadata": {},
     "output_type": "display_data"
    }
   ],
   "source": [
    "import matplotlib.pyplot as plt\n",
    "plt.plot(pop_sum[['male','female']])\n",
    "plt.show()"
   ]
  }
 ],
 "metadata": {
  "colab": {
   "collapsed_sections": [],
   "name": "실습10 - 데이터프레임 변경 (4).ipynb",
   "provenance": []
  },
  "kernelspec": {
   "display_name": "Python 3 (ipykernel)",
   "language": "python",
   "name": "python3"
  },
  "language_info": {
   "codemirror_mode": {
    "name": "ipython",
    "version": 3
   },
   "file_extension": ".py",
   "mimetype": "text/x-python",
   "name": "python",
   "nbconvert_exporter": "python",
   "pygments_lexer": "ipython3",
   "version": "3.11.4"
  }
 },
 "nbformat": 4,
 "nbformat_minor": 1
}
